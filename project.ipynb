{
 "cells": [
  {
   "cell_type": "markdown",
   "metadata": {},
   "source": [
    "# Flight Price Prediction \n",
    "**OBJECTIVE:**\n",
    "* Predict flight ticket prices based on date, destination, and other factors. "
   ]
  },
  {
   "cell_type": "markdown",
   "metadata": {},
   "source": [
    "**DATA COLLECTION:**\n",
    "* Data is collected from Kaggle: Flight Price Prediction uploaded by Shubham Bathwal."
   ]
  },
  {
   "cell_type": "code",
   "execution_count": 1052,
   "metadata": {},
   "outputs": [],
   "source": [
    "#imported necessary library function and datasets for this project \n",
    "\n",
    "import pandas as pd \n",
    "import numpy as np\n",
    "import matplotlib.pyplot as plt\n",
    "import seaborn as sns\n",
    "from scipy import stats\n",
    "\n",
    "df=pd.read_csv('Clean_Dataset.csv')"
   ]
  },
  {
   "cell_type": "code",
   "execution_count": 1053,
   "metadata": {},
   "outputs": [
    {
     "data": {
      "text/plain": [
       "Index(['Unnamed: 0', 'airline', 'flight', 'source_city', 'departure_time',\n",
       "       'stops', 'arrival_time', 'destination_city', 'class', 'duration',\n",
       "       'days_left', 'price'],\n",
       "      dtype='object')"
      ]
     },
     "execution_count": 1053,
     "metadata": {},
     "output_type": "execute_result"
    }
   ],
   "source": [
    "df.columns"
   ]
  },
  {
   "cell_type": "code",
   "execution_count": 1054,
   "metadata": {},
   "outputs": [],
   "source": [
    "#to ignore the warnings\n",
    "\n",
    "import warnings\n",
    "warnings.filterwarnings('ignore')"
   ]
  },
  {
   "cell_type": "markdown",
   "metadata": {},
   "source": [
    "# DATA CLEANING"
   ]
  },
  {
   "cell_type": "code",
   "execution_count": 1055,
   "metadata": {},
   "outputs": [
    {
     "name": "stdout",
     "output_type": "stream",
     "text": [
      "<class 'pandas.core.frame.DataFrame'>\n",
      "RangeIndex: 300153 entries, 0 to 300152\n",
      "Data columns (total 12 columns):\n",
      " #   Column            Non-Null Count   Dtype  \n",
      "---  ------            --------------   -----  \n",
      " 0   Unnamed: 0        300153 non-null  int64  \n",
      " 1   airline           300153 non-null  object \n",
      " 2   flight            300153 non-null  object \n",
      " 3   source_city       300153 non-null  object \n",
      " 4   departure_time    300153 non-null  object \n",
      " 5   stops             300153 non-null  object \n",
      " 6   arrival_time      300153 non-null  object \n",
      " 7   destination_city  300153 non-null  object \n",
      " 8   class             300153 non-null  object \n",
      " 9   duration          300153 non-null  float64\n",
      " 10  days_left         300153 non-null  int64  \n",
      " 11  price             300153 non-null  int64  \n",
      "dtypes: float64(1), int64(3), object(8)\n",
      "memory usage: 27.5+ MB\n"
     ]
    },
    {
     "data": {
      "text/html": [
       "<div>\n",
       "<style scoped>\n",
       "    .dataframe tbody tr th:only-of-type {\n",
       "        vertical-align: middle;\n",
       "    }\n",
       "\n",
       "    .dataframe tbody tr th {\n",
       "        vertical-align: top;\n",
       "    }\n",
       "\n",
       "    .dataframe thead th {\n",
       "        text-align: right;\n",
       "    }\n",
       "</style>\n",
       "<table border=\"1\" class=\"dataframe\">\n",
       "  <thead>\n",
       "    <tr style=\"text-align: right;\">\n",
       "      <th></th>\n",
       "      <th>Unnamed: 0</th>\n",
       "      <th>airline</th>\n",
       "      <th>flight</th>\n",
       "      <th>source_city</th>\n",
       "      <th>departure_time</th>\n",
       "      <th>stops</th>\n",
       "      <th>arrival_time</th>\n",
       "      <th>destination_city</th>\n",
       "      <th>class</th>\n",
       "      <th>duration</th>\n",
       "      <th>days_left</th>\n",
       "      <th>price</th>\n",
       "    </tr>\n",
       "  </thead>\n",
       "  <tbody>\n",
       "    <tr>\n",
       "      <th>0</th>\n",
       "      <td>0</td>\n",
       "      <td>SpiceJet</td>\n",
       "      <td>SG-8709</td>\n",
       "      <td>Delhi</td>\n",
       "      <td>Evening</td>\n",
       "      <td>zero</td>\n",
       "      <td>Night</td>\n",
       "      <td>Mumbai</td>\n",
       "      <td>Economy</td>\n",
       "      <td>2.17</td>\n",
       "      <td>1</td>\n",
       "      <td>5953</td>\n",
       "    </tr>\n",
       "    <tr>\n",
       "      <th>1</th>\n",
       "      <td>1</td>\n",
       "      <td>SpiceJet</td>\n",
       "      <td>SG-8157</td>\n",
       "      <td>Delhi</td>\n",
       "      <td>Early_Morning</td>\n",
       "      <td>zero</td>\n",
       "      <td>Morning</td>\n",
       "      <td>Mumbai</td>\n",
       "      <td>Economy</td>\n",
       "      <td>2.33</td>\n",
       "      <td>1</td>\n",
       "      <td>5953</td>\n",
       "    </tr>\n",
       "    <tr>\n",
       "      <th>2</th>\n",
       "      <td>2</td>\n",
       "      <td>AirAsia</td>\n",
       "      <td>I5-764</td>\n",
       "      <td>Delhi</td>\n",
       "      <td>Early_Morning</td>\n",
       "      <td>zero</td>\n",
       "      <td>Early_Morning</td>\n",
       "      <td>Mumbai</td>\n",
       "      <td>Economy</td>\n",
       "      <td>2.17</td>\n",
       "      <td>1</td>\n",
       "      <td>5956</td>\n",
       "    </tr>\n",
       "    <tr>\n",
       "      <th>3</th>\n",
       "      <td>3</td>\n",
       "      <td>Vistara</td>\n",
       "      <td>UK-995</td>\n",
       "      <td>Delhi</td>\n",
       "      <td>Morning</td>\n",
       "      <td>zero</td>\n",
       "      <td>Afternoon</td>\n",
       "      <td>Mumbai</td>\n",
       "      <td>Economy</td>\n",
       "      <td>2.25</td>\n",
       "      <td>1</td>\n",
       "      <td>5955</td>\n",
       "    </tr>\n",
       "    <tr>\n",
       "      <th>4</th>\n",
       "      <td>4</td>\n",
       "      <td>Vistara</td>\n",
       "      <td>UK-963</td>\n",
       "      <td>Delhi</td>\n",
       "      <td>Morning</td>\n",
       "      <td>zero</td>\n",
       "      <td>Morning</td>\n",
       "      <td>Mumbai</td>\n",
       "      <td>Economy</td>\n",
       "      <td>2.33</td>\n",
       "      <td>1</td>\n",
       "      <td>5955</td>\n",
       "    </tr>\n",
       "  </tbody>\n",
       "</table>\n",
       "</div>"
      ],
      "text/plain": [
       "   Unnamed: 0   airline   flight source_city departure_time stops  \\\n",
       "0           0  SpiceJet  SG-8709       Delhi        Evening  zero   \n",
       "1           1  SpiceJet  SG-8157       Delhi  Early_Morning  zero   \n",
       "2           2   AirAsia   I5-764       Delhi  Early_Morning  zero   \n",
       "3           3   Vistara   UK-995       Delhi        Morning  zero   \n",
       "4           4   Vistara   UK-963       Delhi        Morning  zero   \n",
       "\n",
       "    arrival_time destination_city    class  duration  days_left  price  \n",
       "0          Night           Mumbai  Economy      2.17          1   5953  \n",
       "1        Morning           Mumbai  Economy      2.33          1   5953  \n",
       "2  Early_Morning           Mumbai  Economy      2.17          1   5956  \n",
       "3      Afternoon           Mumbai  Economy      2.25          1   5955  \n",
       "4        Morning           Mumbai  Economy      2.33          1   5955  "
      ]
     },
     "execution_count": 1055,
     "metadata": {},
     "output_type": "execute_result"
    }
   ],
   "source": [
    "df.info()\n",
    "df.head()\n",
    "\n",
    "#no missing values found and datatypes are correct"
   ]
  },
  {
   "cell_type": "markdown",
   "metadata": {},
   "source": [
    "**duplicates**"
   ]
  },
  {
   "cell_type": "code",
   "execution_count": 1056,
   "metadata": {},
   "outputs": [
    {
     "data": {
      "text/plain": [
       "np.int64(0)"
      ]
     },
     "execution_count": 1056,
     "metadata": {},
     "output_type": "execute_result"
    }
   ],
   "source": [
    "df.duplicated().sum()\n",
    "#no duplicate values"
   ]
  },
  {
   "cell_type": "markdown",
   "metadata": {},
   "source": [
    "**renaming columns**"
   ]
  },
  {
   "cell_type": "code",
   "execution_count": 1057,
   "metadata": {},
   "outputs": [],
   "source": [
    "df.rename(columns={'Unnamed: 0':'Index'},inplace=True)"
   ]
  },
  {
   "cell_type": "markdown",
   "metadata": {},
   "source": [
    "**converting duration into minutes**"
   ]
  },
  {
   "cell_type": "code",
   "execution_count": 1058,
   "metadata": {},
   "outputs": [
    {
     "name": "stdout",
     "output_type": "stream",
     "text": [
      "   duration_converted  duration\n",
      "0                 130      2.17\n",
      "1                 139      2.33\n",
      "2                 130      2.17\n",
      "3                 135      2.25\n",
      "4                 139      2.33\n"
     ]
    }
   ],
   "source": [
    "# Convert decimal hours to total minutes\n",
    "df['duration_converted'] = (df['duration'] * 60).astype(int)\n",
    "\n",
    "# Display result\n",
    "print(df[['duration_converted', 'duration']].head())\n"
   ]
  },
  {
   "cell_type": "code",
   "execution_count": 1059,
   "metadata": {},
   "outputs": [],
   "source": [
    "df.drop(['duration'],axis=1,inplace=True)"
   ]
  },
  {
   "cell_type": "code",
   "execution_count": 1060,
   "metadata": {},
   "outputs": [],
   "source": [
    "df.rename(columns={'duration_converted':'duration'},inplace=True)"
   ]
  },
  {
   "cell_type": "code",
   "execution_count": 1061,
   "metadata": {},
   "outputs": [
    {
     "data": {
      "text/plain": [
       "Index(['Index', 'airline', 'flight', 'source_city', 'departure_time', 'stops',\n",
       "       'arrival_time', 'destination_city', 'class', 'days_left', 'price',\n",
       "       'duration'],\n",
       "      dtype='object')"
      ]
     },
     "execution_count": 1061,
     "metadata": {},
     "output_type": "execute_result"
    }
   ],
   "source": [
    "df.columns"
   ]
  },
  {
   "cell_type": "code",
   "execution_count": 1062,
   "metadata": {},
   "outputs": [
    {
     "data": {
      "text/html": [
       "<div>\n",
       "<style scoped>\n",
       "    .dataframe tbody tr th:only-of-type {\n",
       "        vertical-align: middle;\n",
       "    }\n",
       "\n",
       "    .dataframe tbody tr th {\n",
       "        vertical-align: top;\n",
       "    }\n",
       "\n",
       "    .dataframe thead th {\n",
       "        text-align: right;\n",
       "    }\n",
       "</style>\n",
       "<table border=\"1\" class=\"dataframe\">\n",
       "  <thead>\n",
       "    <tr style=\"text-align: right;\">\n",
       "      <th></th>\n",
       "      <th>Index</th>\n",
       "      <th>airline</th>\n",
       "      <th>flight</th>\n",
       "      <th>source_city</th>\n",
       "      <th>departure_time</th>\n",
       "      <th>stops</th>\n",
       "      <th>arrival_time</th>\n",
       "      <th>destination_city</th>\n",
       "      <th>class</th>\n",
       "      <th>days_left</th>\n",
       "      <th>price</th>\n",
       "      <th>duration</th>\n",
       "    </tr>\n",
       "  </thead>\n",
       "  <tbody>\n",
       "    <tr>\n",
       "      <th>0</th>\n",
       "      <td>0</td>\n",
       "      <td>SpiceJet</td>\n",
       "      <td>SG-8709</td>\n",
       "      <td>Delhi</td>\n",
       "      <td>Evening</td>\n",
       "      <td>zero</td>\n",
       "      <td>Night</td>\n",
       "      <td>Mumbai</td>\n",
       "      <td>Economy</td>\n",
       "      <td>1</td>\n",
       "      <td>5953</td>\n",
       "      <td>130</td>\n",
       "    </tr>\n",
       "    <tr>\n",
       "      <th>1</th>\n",
       "      <td>1</td>\n",
       "      <td>SpiceJet</td>\n",
       "      <td>SG-8157</td>\n",
       "      <td>Delhi</td>\n",
       "      <td>Early_Morning</td>\n",
       "      <td>zero</td>\n",
       "      <td>Morning</td>\n",
       "      <td>Mumbai</td>\n",
       "      <td>Economy</td>\n",
       "      <td>1</td>\n",
       "      <td>5953</td>\n",
       "      <td>139</td>\n",
       "    </tr>\n",
       "    <tr>\n",
       "      <th>2</th>\n",
       "      <td>2</td>\n",
       "      <td>AirAsia</td>\n",
       "      <td>I5-764</td>\n",
       "      <td>Delhi</td>\n",
       "      <td>Early_Morning</td>\n",
       "      <td>zero</td>\n",
       "      <td>Early_Morning</td>\n",
       "      <td>Mumbai</td>\n",
       "      <td>Economy</td>\n",
       "      <td>1</td>\n",
       "      <td>5956</td>\n",
       "      <td>130</td>\n",
       "    </tr>\n",
       "    <tr>\n",
       "      <th>3</th>\n",
       "      <td>3</td>\n",
       "      <td>Vistara</td>\n",
       "      <td>UK-995</td>\n",
       "      <td>Delhi</td>\n",
       "      <td>Morning</td>\n",
       "      <td>zero</td>\n",
       "      <td>Afternoon</td>\n",
       "      <td>Mumbai</td>\n",
       "      <td>Economy</td>\n",
       "      <td>1</td>\n",
       "      <td>5955</td>\n",
       "      <td>135</td>\n",
       "    </tr>\n",
       "    <tr>\n",
       "      <th>4</th>\n",
       "      <td>4</td>\n",
       "      <td>Vistara</td>\n",
       "      <td>UK-963</td>\n",
       "      <td>Delhi</td>\n",
       "      <td>Morning</td>\n",
       "      <td>zero</td>\n",
       "      <td>Morning</td>\n",
       "      <td>Mumbai</td>\n",
       "      <td>Economy</td>\n",
       "      <td>1</td>\n",
       "      <td>5955</td>\n",
       "      <td>139</td>\n",
       "    </tr>\n",
       "  </tbody>\n",
       "</table>\n",
       "</div>"
      ],
      "text/plain": [
       "   Index   airline   flight source_city departure_time stops   arrival_time  \\\n",
       "0      0  SpiceJet  SG-8709       Delhi        Evening  zero          Night   \n",
       "1      1  SpiceJet  SG-8157       Delhi  Early_Morning  zero        Morning   \n",
       "2      2   AirAsia   I5-764       Delhi  Early_Morning  zero  Early_Morning   \n",
       "3      3   Vistara   UK-995       Delhi        Morning  zero      Afternoon   \n",
       "4      4   Vistara   UK-963       Delhi        Morning  zero        Morning   \n",
       "\n",
       "  destination_city    class  days_left  price  duration  \n",
       "0           Mumbai  Economy          1   5953       130  \n",
       "1           Mumbai  Economy          1   5953       139  \n",
       "2           Mumbai  Economy          1   5956       130  \n",
       "3           Mumbai  Economy          1   5955       135  \n",
       "4           Mumbai  Economy          1   5955       139  "
      ]
     },
     "execution_count": 1062,
     "metadata": {},
     "output_type": "execute_result"
    }
   ],
   "source": [
    "df.head()"
   ]
  },
  {
   "cell_type": "code",
   "execution_count": 1063,
   "metadata": {},
   "outputs": [
    {
     "data": {
      "text/plain": [
       "Index(['Index', 'airline', 'flight', 'source_city', 'departure_time', 'stops',\n",
       "       'arrival_time', 'destination_city', 'class', 'days_left', 'price',\n",
       "       'duration'],\n",
       "      dtype='object')"
      ]
     },
     "execution_count": 1063,
     "metadata": {},
     "output_type": "execute_result"
    }
   ],
   "source": [
    "df.columns"
   ]
  },
  {
   "cell_type": "markdown",
   "metadata": {},
   "source": [
    "**checking uniqueness**"
   ]
  },
  {
   "cell_type": "code",
   "execution_count": 1064,
   "metadata": {},
   "outputs": [
    {
     "data": {
      "text/plain": [
       "Index               300153\n",
       "airline                  6\n",
       "flight                1561\n",
       "source_city              6\n",
       "departure_time           6\n",
       "stops                    3\n",
       "arrival_time             6\n",
       "destination_city         6\n",
       "class                    2\n",
       "days_left               49\n",
       "price                12157\n",
       "duration               475\n",
       "dtype: int64"
      ]
     },
     "execution_count": 1064,
     "metadata": {},
     "output_type": "execute_result"
    }
   ],
   "source": [
    "df.nunique()"
   ]
  },
  {
   "cell_type": "code",
   "execution_count": 1065,
   "metadata": {},
   "outputs": [
    {
     "data": {
      "text/plain": [
       "Index                int64\n",
       "airline             object\n",
       "flight              object\n",
       "source_city         object\n",
       "departure_time      object\n",
       "stops               object\n",
       "arrival_time        object\n",
       "destination_city    object\n",
       "class               object\n",
       "days_left            int64\n",
       "price                int64\n",
       "duration             int64\n",
       "dtype: object"
      ]
     },
     "execution_count": 1065,
     "metadata": {},
     "output_type": "execute_result"
    }
   ],
   "source": [
    "df.dtypes"
   ]
  },
  {
   "cell_type": "markdown",
   "metadata": {},
   "source": [
    "# outliers"
   ]
  },
  {
   "cell_type": "markdown",
   "metadata": {},
   "source": [
    "**checking outliers**"
   ]
  },
  {
   "cell_type": "code",
   "execution_count": 1066,
   "metadata": {},
   "outputs": [
    {
     "data": {
      "text/plain": [
       "count    300153.000000\n",
       "mean        732.934870\n",
       "std         431.519185\n",
       "min          49.000000\n",
       "25%         409.000000\n",
       "50%         675.000000\n",
       "75%         970.000000\n",
       "max        2989.000000\n",
       "Name: duration, dtype: float64"
      ]
     },
     "execution_count": 1066,
     "metadata": {},
     "output_type": "execute_result"
    }
   ],
   "source": [
    "df.duration.describe()"
   ]
  },
  {
   "cell_type": "code",
   "execution_count": 1067,
   "metadata": {},
   "outputs": [
    {
     "data": {
      "image/png": "[encoded data removed]",
      "text/plain": [
       "<Figure size 500x300 with 1 Axes>"
      ]
     },
     "metadata": {},
     "output_type": "display_data"
    },
    {
     "data": {
      "image/png": "[encoded data removed]",
      "text/plain": [
       "<Figure size 500x300 with 1 Axes>"
      ]
     },
     "metadata": {},
     "output_type": "display_data"
    },
    {
     "data": {
      "image/png": "[encoded data removed]",
      "text/plain": [
       "<Figure size 500x300 with 1 Axes>"
      ]
     },
     "metadata": {},
     "output_type": "display_data"
    }
   ],
   "source": [
    "plt.figure(figsize=(5, 3))\n",
    "sns.boxplot(x=df['price'])\n",
    "plt.title('Box Plot of price')\n",
    "plt.xlabel('price')\n",
    "plt.grid()\n",
    "plt.show()\n",
    "\n",
    "plt.figure(figsize=(5, 3))\n",
    "sns.boxplot(x=df['duration'])\n",
    "plt.title('Box Plot of duration')\n",
    "plt.xlabel('duration')\n",
    "plt.grid()\n",
    "plt.show()\n",
    "\n",
    "plt.figure(figsize=(5, 3))\n",
    "sns.boxplot(x=df['days_left'])\n",
    "plt.title('Box Plot of days_left')\n",
    "plt.xlabel('days_left')\n",
    "plt.grid()\n",
    "plt.show()"
   ]
  },
  {
   "cell_type": "markdown",
   "metadata": {},
   "source": [
    "- unsually expensive flights are seen"
   ]
  },
  {
   "cell_type": "markdown",
   "metadata": {},
   "source": [
    "**handling outliers**\n"
   ]
  },
  {
   "cell_type": "code",
   "execution_count": 1068,
   "metadata": {},
   "outputs": [
    {
     "name": "stdout",
     "output_type": "stream",
     "text": [
      "   Index   airline   flight source_city departure_time stops   arrival_time  \\\n",
      "0      0  SpiceJet  SG-8709       Delhi        Evening  zero          Night   \n",
      "1      1  SpiceJet  SG-8157       Delhi  Early_Morning  zero        Morning   \n",
      "2      2   AirAsia   I5-764       Delhi  Early_Morning  zero  Early_Morning   \n",
      "3      3   Vistara   UK-995       Delhi        Morning  zero      Afternoon   \n",
      "4      4   Vistara   UK-963       Delhi        Morning  zero        Morning   \n",
      "\n",
      "  destination_city    class  days_left  price  duration  \n",
      "0           Mumbai  Economy          1   5953       130  \n",
      "1           Mumbai  Economy          1   5953       139  \n",
      "2           Mumbai  Economy          1   5956       130  \n",
      "3           Mumbai  Economy          1   5955       135  \n",
      "4           Mumbai  Economy          1   5955       139  \n"
     ]
    }
   ],
   "source": [
    "# Calculate Q1, Q3, and IQR\n",
    "Q1 = df['price'].quantile(0.25)\n",
    "Q3 = df['price'].quantile(0.75)\n",
    "IQR = Q3 - Q1\n",
    "\n",
    "# Define lower and upper bounds\n",
    "lower_bound = Q1 - 1.5 * IQR\n",
    "upper_bound = Q3 + 1.5 * IQR\n",
    "\n",
    "# Filter out outliers\n",
    "df = df[(df['price'] >= lower_bound) & (df['price'] <= upper_bound)]\n",
    "\n",
    "print(df.head())"
   ]
  },
  {
   "cell_type": "code",
   "execution_count": 1069,
   "metadata": {},
   "outputs": [
    {
     "name": "stdout",
     "output_type": "stream",
     "text": [
      "   Index   airline   flight source_city departure_time stops   arrival_time  \\\n",
      "0      0  SpiceJet  SG-8709       Delhi        Evening  zero          Night   \n",
      "1      1  SpiceJet  SG-8157       Delhi  Early_Morning  zero        Morning   \n",
      "2      2   AirAsia   I5-764       Delhi  Early_Morning  zero  Early_Morning   \n",
      "3      3   Vistara   UK-995       Delhi        Morning  zero      Afternoon   \n",
      "4      4   Vistara   UK-963       Delhi        Morning  zero        Morning   \n",
      "\n",
      "  destination_city    class  days_left  price  duration  \n",
      "0           Mumbai  Economy          1   5953       130  \n",
      "1           Mumbai  Economy          1   5953       139  \n",
      "2           Mumbai  Economy          1   5956       130  \n",
      "3           Mumbai  Economy          1   5955       135  \n",
      "4           Mumbai  Economy          1   5955       139  \n"
     ]
    }
   ],
   "source": [
    "# Calculate Q1, Q3, and IQR\n",
    "Q1 = df['duration'].quantile(0.25)\n",
    "Q3 = df['duration'].quantile(0.75)\n",
    "IQR = Q3 - Q1\n",
    "\n",
    "# Define lower and upper bounds\n",
    "lower_bound = Q1 - 1.5 * IQR\n",
    "upper_bound = Q3 + 1.5 * IQR\n",
    "\n",
    "# Filter out outliers\n",
    "df = df[(df['duration'] >= lower_bound) & (df['duration'] <= upper_bound)]\n",
    "\n",
    "print(df.head())"
   ]
  },
  {
   "cell_type": "markdown",
   "metadata": {},
   "source": [
    "**after removal of outlier**"
   ]
  },
  {
   "cell_type": "code",
   "execution_count": 1070,
   "metadata": {},
   "outputs": [
    {
     "data": {
      "image/png": "[encoded data removed]",
      "text/plain": [
       "<Figure size 500x300 with 1 Axes>"
      ]
     },
     "metadata": {},
     "output_type": "display_data"
    }
   ],
   "source": [
    "plt.figure(figsize=(5, 3))\n",
    "sns.boxplot(x=df['price'])\n",
    "plt.title('Box Plot of price')\n",
    "plt.xlabel('price')\n",
    "plt.grid()\n",
    "plt.show()"
   ]
  },
  {
   "cell_type": "code",
   "execution_count": 1071,
   "metadata": {},
   "outputs": [
    {
     "data": {
      "image/png": "[encoded data removed]",
      "text/plain": [
       "<Figure size 500x300 with 1 Axes>"
      ]
     },
     "metadata": {},
     "output_type": "display_data"
    }
   ],
   "source": [
    "plt.figure(figsize=(5, 3))\n",
    "sns.boxplot(x=df['duration'])\n",
    "plt.title('Box Plot of duration')\n",
    "plt.xlabel('duration')\n",
    "plt.grid()\n",
    "plt.show()"
   ]
  },
  {
   "cell_type": "code",
   "execution_count": 1072,
   "metadata": {},
   "outputs": [
    {
     "name": "stdout",
     "output_type": "stream",
     "text": [
      "         Index   airline   flight source_city departure_time stops  \\\n",
      "0            0  SpiceJet  SG-8709       Delhi        Evening  zero   \n",
      "1            1  SpiceJet  SG-8157       Delhi  Early_Morning  zero   \n",
      "2            2   AirAsia   I5-764       Delhi  Early_Morning  zero   \n",
      "3            3   Vistara   UK-995       Delhi        Morning  zero   \n",
      "4            4   Vistara   UK-963       Delhi        Morning  zero   \n",
      "...        ...       ...      ...         ...            ...   ...   \n",
      "300148  300148   Vistara   UK-822     Chennai        Morning   one   \n",
      "300149  300149   Vistara   UK-826     Chennai      Afternoon   one   \n",
      "300150  300150   Vistara   UK-832     Chennai  Early_Morning   one   \n",
      "300151  300151   Vistara   UK-828     Chennai  Early_Morning   one   \n",
      "300152  300152   Vistara   UK-822     Chennai        Morning   one   \n",
      "\n",
      "         arrival_time destination_city     class  days_left  price  duration  \n",
      "0               Night           Mumbai   Economy          1   5953       130  \n",
      "1             Morning           Mumbai   Economy          1   5953       139  \n",
      "2       Early_Morning           Mumbai   Economy          1   5956       130  \n",
      "3           Afternoon           Mumbai   Economy          1   5955       135  \n",
      "4             Morning           Mumbai   Economy          1   5955       139  \n",
      "...               ...              ...       ...        ...    ...       ...  \n",
      "300148        Evening        Hyderabad  Business         49  69265       604  \n",
      "300149          Night        Hyderabad  Business         49  77105       625  \n",
      "300150          Night        Hyderabad  Business         49  79099       829  \n",
      "300151        Evening        Hyderabad  Business         49  81585       600  \n",
      "300152        Evening        Hyderabad  Business         49  81585       604  \n",
      "\n",
      "[297694 rows x 12 columns]\n"
     ]
    }
   ],
   "source": [
    "# Calculate Q1, Q3, and IQR\n",
    "Q1 = df['duration'].quantile(0.25)\n",
    "Q3 = df['duration'].quantile(0.75)\n",
    "IQR = Q3 - Q1\n",
    "\n",
    "# Define lower and upper bounds\n",
    "lower_bound = Q1 - 1.5 * IQR\n",
    "upper_bound = Q3 + 1.5 * IQR\n",
    "\n",
    "# Filter out outliers\n",
    "df = df[(df['duration'] >= lower_bound) & (df['duration'] <= upper_bound)]\n",
    "\n",
    "print(df)"
   ]
  },
  {
   "cell_type": "code",
   "execution_count": 1073,
   "metadata": {},
   "outputs": [
    {
     "data": {
      "image/png": "[encoded data removed]",
      "text/plain": [
       "<Figure size 500x300 with 1 Axes>"
      ]
     },
     "metadata": {},
     "output_type": "display_data"
    }
   ],
   "source": [
    "plt.figure(figsize=(5, 3))\n",
    "sns.boxplot(x=df['duration'])\n",
    "plt.title('Box Plot of duration')\n",
    "plt.xlabel('duration')\n",
    "plt.grid()\n",
    "plt.show()"
   ]
  },
  {
   "cell_type": "markdown",
   "metadata": {},
   "source": [
    "# basic eda"
   ]
  },
  {
   "cell_type": "code",
   "execution_count": 1074,
   "metadata": {},
   "outputs": [
    {
     "data": {
      "image/png": "[encoded data removed]",
      "text/plain": [
       "<Figure size 640x480 with 1 Axes>"
      ]
     },
     "metadata": {},
     "output_type": "display_data"
    }
   ],
   "source": [
    "sns.countplot(x='airline', data=df)\n",
    "plt.title('Number of Flights by Airline')\n",
    "plt.xticks(rotation=90) \n",
    "plt.show()\n"
   ]
  },
  {
   "cell_type": "markdown",
   "metadata": {},
   "source": [
    "- Airline vistara is more in dataset than others, where as spicejet is less used"
   ]
  },
  {
   "cell_type": "code",
   "execution_count": 1075,
   "metadata": {},
   "outputs": [
    {
     "data": {
      "image/png": "[encoded data removed]",
      "text/plain": [
       "<Figure size 640x480 with 1 Axes>"
      ]
     },
     "metadata": {},
     "output_type": "display_data"
    }
   ],
   "source": [
    "sns.countplot(x='departure_time', data=df)\n",
    "plt.title('Number of Flights by Departure Time')\n",
    "plt.xticks(rotation=90) \n",
    "plt.show()\n"
   ]
  },
  {
   "cell_type": "markdown",
   "metadata": {},
   "source": [
    "- morning flights are most used and late night flights are less used"
   ]
  },
  {
   "cell_type": "code",
   "execution_count": 1076,
   "metadata": {},
   "outputs": [
    {
     "data": {
      "image/png": "[encoded data removed]",
      "text/plain": [
       "<Figure size 640x480 with 1 Axes>"
      ]
     },
     "metadata": {},
     "output_type": "display_data"
    }
   ],
   "source": [
    "sns.countplot(x='arrival_time', data=df)\n",
    "plt.title('Number of Flights by arrival Time')\n",
    "plt.xticks(rotation=90) \n",
    "plt.show()\n"
   ]
  },
  {
   "cell_type": "markdown",
   "metadata": {},
   "source": [
    "- destination is usually reached at night time"
   ]
  },
  {
   "cell_type": "code",
   "execution_count": 1077,
   "metadata": {},
   "outputs": [
    {
     "data": {
      "image/png": "[encoded data removed]",
      "text/plain": [
       "<Figure size 640x480 with 1 Axes>"
      ]
     },
     "metadata": {},
     "output_type": "display_data"
    }
   ],
   "source": [
    "sns.countplot(x='source_city', data=df)\n",
    "plt.title('Number of Flights by source_city')\n",
    "plt.xticks(rotation=90) \n",
    "plt.show()\n"
   ]
  },
  {
   "cell_type": "markdown",
   "metadata": {},
   "source": [
    "- people take most flights from city delhi"
   ]
  },
  {
   "cell_type": "code",
   "execution_count": 1078,
   "metadata": {},
   "outputs": [
    {
     "data": {
      "image/png": "[encoded data removed]",
      "text/plain": [
       "<Figure size 640x480 with 1 Axes>"
      ]
     },
     "metadata": {},
     "output_type": "display_data"
    }
   ],
   "source": [
    "sns.countplot(x='destination_city', data=df)\n",
    "plt.title('Number of Flights by destination_city')\n",
    "plt.xticks(rotation=90) \n",
    "plt.show()\n"
   ]
  },
  {
   "cell_type": "markdown",
   "metadata": {},
   "source": [
    "- people come to delhi city more"
   ]
  },
  {
   "cell_type": "code",
   "execution_count": 1079,
   "metadata": {},
   "outputs": [],
   "source": [
    "#encoded values into new csv file named \"cleaned.csv\"\n",
    "df.to_csv(\"Clean_Dataset1.csv\", index=False)"
   ]
  },
  {
   "cell_type": "code",
   "execution_count": 1080,
   "metadata": {},
   "outputs": [
    {
     "data": {
      "text/html": [
       "<div>\n",
       "<style scoped>\n",
       "    .dataframe tbody tr th:only-of-type {\n",
       "        vertical-align: middle;\n",
       "    }\n",
       "\n",
       "    .dataframe tbody tr th {\n",
       "        vertical-align: top;\n",
       "    }\n",
       "\n",
       "    .dataframe thead th {\n",
       "        text-align: right;\n",
       "    }\n",
       "</style>\n",
       "<table border=\"1\" class=\"dataframe\">\n",
       "  <thead>\n",
       "    <tr style=\"text-align: right;\">\n",
       "      <th></th>\n",
       "      <th>Index</th>\n",
       "      <th>airline</th>\n",
       "      <th>flight</th>\n",
       "      <th>source_city</th>\n",
       "      <th>departure_time</th>\n",
       "      <th>stops</th>\n",
       "      <th>arrival_time</th>\n",
       "      <th>destination_city</th>\n",
       "      <th>class</th>\n",
       "      <th>days_left</th>\n",
       "      <th>price</th>\n",
       "      <th>duration</th>\n",
       "    </tr>\n",
       "  </thead>\n",
       "  <tbody>\n",
       "    <tr>\n",
       "      <th>0</th>\n",
       "      <td>0</td>\n",
       "      <td>SpiceJet</td>\n",
       "      <td>SG-8709</td>\n",
       "      <td>Delhi</td>\n",
       "      <td>Evening</td>\n",
       "      <td>zero</td>\n",
       "      <td>Night</td>\n",
       "      <td>Mumbai</td>\n",
       "      <td>Economy</td>\n",
       "      <td>1</td>\n",
       "      <td>5953</td>\n",
       "      <td>130</td>\n",
       "    </tr>\n",
       "    <tr>\n",
       "      <th>1</th>\n",
       "      <td>1</td>\n",
       "      <td>SpiceJet</td>\n",
       "      <td>SG-8157</td>\n",
       "      <td>Delhi</td>\n",
       "      <td>Early_Morning</td>\n",
       "      <td>zero</td>\n",
       "      <td>Morning</td>\n",
       "      <td>Mumbai</td>\n",
       "      <td>Economy</td>\n",
       "      <td>1</td>\n",
       "      <td>5953</td>\n",
       "      <td>139</td>\n",
       "    </tr>\n",
       "    <tr>\n",
       "      <th>2</th>\n",
       "      <td>2</td>\n",
       "      <td>AirAsia</td>\n",
       "      <td>I5-764</td>\n",
       "      <td>Delhi</td>\n",
       "      <td>Early_Morning</td>\n",
       "      <td>zero</td>\n",
       "      <td>Early_Morning</td>\n",
       "      <td>Mumbai</td>\n",
       "      <td>Economy</td>\n",
       "      <td>1</td>\n",
       "      <td>5956</td>\n",
       "      <td>130</td>\n",
       "    </tr>\n",
       "    <tr>\n",
       "      <th>3</th>\n",
       "      <td>3</td>\n",
       "      <td>Vistara</td>\n",
       "      <td>UK-995</td>\n",
       "      <td>Delhi</td>\n",
       "      <td>Morning</td>\n",
       "      <td>zero</td>\n",
       "      <td>Afternoon</td>\n",
       "      <td>Mumbai</td>\n",
       "      <td>Economy</td>\n",
       "      <td>1</td>\n",
       "      <td>5955</td>\n",
       "      <td>135</td>\n",
       "    </tr>\n",
       "    <tr>\n",
       "      <th>4</th>\n",
       "      <td>4</td>\n",
       "      <td>Vistara</td>\n",
       "      <td>UK-963</td>\n",
       "      <td>Delhi</td>\n",
       "      <td>Morning</td>\n",
       "      <td>zero</td>\n",
       "      <td>Morning</td>\n",
       "      <td>Mumbai</td>\n",
       "      <td>Economy</td>\n",
       "      <td>1</td>\n",
       "      <td>5955</td>\n",
       "      <td>139</td>\n",
       "    </tr>\n",
       "  </tbody>\n",
       "</table>\n",
       "</div>"
      ],
      "text/plain": [
       "   Index   airline   flight source_city departure_time stops   arrival_time  \\\n",
       "0      0  SpiceJet  SG-8709       Delhi        Evening  zero          Night   \n",
       "1      1  SpiceJet  SG-8157       Delhi  Early_Morning  zero        Morning   \n",
       "2      2   AirAsia   I5-764       Delhi  Early_Morning  zero  Early_Morning   \n",
       "3      3   Vistara   UK-995       Delhi        Morning  zero      Afternoon   \n",
       "4      4   Vistara   UK-963       Delhi        Morning  zero        Morning   \n",
       "\n",
       "  destination_city    class  days_left  price  duration  \n",
       "0           Mumbai  Economy          1   5953       130  \n",
       "1           Mumbai  Economy          1   5953       139  \n",
       "2           Mumbai  Economy          1   5956       130  \n",
       "3           Mumbai  Economy          1   5955       135  \n",
       "4           Mumbai  Economy          1   5955       139  "
      ]
     },
     "execution_count": 1080,
     "metadata": {},
     "output_type": "execute_result"
    }
   ],
   "source": [
    "# now cleaned.csv acts as a dataframe\n",
    "df=pd.read_csv('Clean_Dataset1.csv')\n",
    "df.head()"
   ]
  },
  {
   "cell_type": "markdown",
   "metadata": {},
   "source": [
    "**encoding for categorical values**"
   ]
  },
  {
   "cell_type": "code",
   "execution_count": 1081,
   "metadata": {},
   "outputs": [
    {
     "data": {
      "text/plain": [
       "array(['Evening', 'Early_Morning', 'Morning', 'Afternoon', 'Night',\n",
       "       'Late_Night'], dtype=object)"
      ]
     },
     "execution_count": 1081,
     "metadata": {},
     "output_type": "execute_result"
    }
   ],
   "source": [
    "df.departure_time.unique()"
   ]
  },
  {
   "cell_type": "code",
   "execution_count": 1082,
   "metadata": {},
   "outputs": [
    {
     "name": "stdout",
     "output_type": "stream",
     "text": [
      "       departure_time arrival_time\n",
      "0            18:00:00     21:00:00\n",
      "1            05:00:00     08:00:00\n",
      "2            05:00:00     05:00:00\n",
      "3            08:00:00     14:00:00\n",
      "4            08:00:00     08:00:00\n",
      "...               ...          ...\n",
      "297689       08:00:00     18:00:00\n",
      "297690       14:00:00     21:00:00\n",
      "297691       05:00:00     21:00:00\n",
      "297692       05:00:00     18:00:00\n",
      "297693       08:00:00     18:00:00\n",
      "\n",
      "[297694 rows x 2 columns]\n"
     ]
    }
   ],
   "source": [
    "# Mapping categories to specific times (using 24-hour format for consistency)\n",
    "time_mapping = {\n",
    "    'Early_Morning': '05:00:00',\n",
    "    'Morning': '08:00:00',\n",
    "    'Afternoon': '14:00:00',\n",
    "    'Evening': '18:00:00',\n",
    "    'Night': '21:00:00',\n",
    "    'Late_Night': '23:00:00'\n",
    "}\n",
    "\n",
    "# Map the categorical times to actual time strings (not datetime)\n",
    "df['departure_time'] = pd.to_datetime(df['departure_time'].map(time_mapping), format='%H:%M:%S').dt.strftime('%H:%M:%S')\n",
    "df['arrival_time'] = pd.to_datetime(df['arrival_time'].map(time_mapping), format='%H:%M:%S').dt.strftime('%H:%M:%S')\n",
    "\n",
    "# Convert to datetime for calculation\n",
    "df['departure_time'] = pd.to_datetime(df['departure_time'], format='%H:%M:%S').dt.time\n",
    "df['arrival_time'] = pd.to_datetime(df['arrival_time'], format='%H:%M:%S').dt.time\n",
    "\n",
    "print(df[['departure_time', 'arrival_time']])\n"
   ]
  },
  {
   "cell_type": "code",
   "execution_count": 1083,
   "metadata": {},
   "outputs": [
    {
     "data": {
      "text/html": [
       "<div>\n",
       "<style scoped>\n",
       "    .dataframe tbody tr th:only-of-type {\n",
       "        vertical-align: middle;\n",
       "    }\n",
       "\n",
       "    .dataframe tbody tr th {\n",
       "        vertical-align: top;\n",
       "    }\n",
       "\n",
       "    .dataframe thead th {\n",
       "        text-align: right;\n",
       "    }\n",
       "</style>\n",
       "<table border=\"1\" class=\"dataframe\">\n",
       "  <thead>\n",
       "    <tr style=\"text-align: right;\">\n",
       "      <th></th>\n",
       "      <th>Index</th>\n",
       "      <th>airline</th>\n",
       "      <th>flight</th>\n",
       "      <th>source_city</th>\n",
       "      <th>departure_time</th>\n",
       "      <th>stops</th>\n",
       "      <th>arrival_time</th>\n",
       "      <th>destination_city</th>\n",
       "      <th>class</th>\n",
       "      <th>days_left</th>\n",
       "      <th>price</th>\n",
       "      <th>duration</th>\n",
       "    </tr>\n",
       "  </thead>\n",
       "  <tbody>\n",
       "    <tr>\n",
       "      <th>0</th>\n",
       "      <td>0</td>\n",
       "      <td>SpiceJet</td>\n",
       "      <td>SG-8709</td>\n",
       "      <td>Delhi</td>\n",
       "      <td>18:00:00</td>\n",
       "      <td>zero</td>\n",
       "      <td>21:00:00</td>\n",
       "      <td>Mumbai</td>\n",
       "      <td>Economy</td>\n",
       "      <td>1</td>\n",
       "      <td>5953</td>\n",
       "      <td>130</td>\n",
       "    </tr>\n",
       "    <tr>\n",
       "      <th>1</th>\n",
       "      <td>1</td>\n",
       "      <td>SpiceJet</td>\n",
       "      <td>SG-8157</td>\n",
       "      <td>Delhi</td>\n",
       "      <td>05:00:00</td>\n",
       "      <td>zero</td>\n",
       "      <td>08:00:00</td>\n",
       "      <td>Mumbai</td>\n",
       "      <td>Economy</td>\n",
       "      <td>1</td>\n",
       "      <td>5953</td>\n",
       "      <td>139</td>\n",
       "    </tr>\n",
       "    <tr>\n",
       "      <th>2</th>\n",
       "      <td>2</td>\n",
       "      <td>AirAsia</td>\n",
       "      <td>I5-764</td>\n",
       "      <td>Delhi</td>\n",
       "      <td>05:00:00</td>\n",
       "      <td>zero</td>\n",
       "      <td>05:00:00</td>\n",
       "      <td>Mumbai</td>\n",
       "      <td>Economy</td>\n",
       "      <td>1</td>\n",
       "      <td>5956</td>\n",
       "      <td>130</td>\n",
       "    </tr>\n",
       "    <tr>\n",
       "      <th>3</th>\n",
       "      <td>3</td>\n",
       "      <td>Vistara</td>\n",
       "      <td>UK-995</td>\n",
       "      <td>Delhi</td>\n",
       "      <td>08:00:00</td>\n",
       "      <td>zero</td>\n",
       "      <td>14:00:00</td>\n",
       "      <td>Mumbai</td>\n",
       "      <td>Economy</td>\n",
       "      <td>1</td>\n",
       "      <td>5955</td>\n",
       "      <td>135</td>\n",
       "    </tr>\n",
       "    <tr>\n",
       "      <th>4</th>\n",
       "      <td>4</td>\n",
       "      <td>Vistara</td>\n",
       "      <td>UK-963</td>\n",
       "      <td>Delhi</td>\n",
       "      <td>08:00:00</td>\n",
       "      <td>zero</td>\n",
       "      <td>08:00:00</td>\n",
       "      <td>Mumbai</td>\n",
       "      <td>Economy</td>\n",
       "      <td>1</td>\n",
       "      <td>5955</td>\n",
       "      <td>139</td>\n",
       "    </tr>\n",
       "  </tbody>\n",
       "</table>\n",
       "</div>"
      ],
      "text/plain": [
       "   Index   airline   flight source_city departure_time stops arrival_time  \\\n",
       "0      0  SpiceJet  SG-8709       Delhi       18:00:00  zero     21:00:00   \n",
       "1      1  SpiceJet  SG-8157       Delhi       05:00:00  zero     08:00:00   \n",
       "2      2   AirAsia   I5-764       Delhi       05:00:00  zero     05:00:00   \n",
       "3      3   Vistara   UK-995       Delhi       08:00:00  zero     14:00:00   \n",
       "4      4   Vistara   UK-963       Delhi       08:00:00  zero     08:00:00   \n",
       "\n",
       "  destination_city    class  days_left  price  duration  \n",
       "0           Mumbai  Economy          1   5953       130  \n",
       "1           Mumbai  Economy          1   5953       139  \n",
       "2           Mumbai  Economy          1   5956       130  \n",
       "3           Mumbai  Economy          1   5955       135  \n",
       "4           Mumbai  Economy          1   5955       139  "
      ]
     },
     "execution_count": 1083,
     "metadata": {},
     "output_type": "execute_result"
    }
   ],
   "source": [
    "df.head()"
   ]
  },
  {
   "cell_type": "code",
   "execution_count": 1084,
   "metadata": {},
   "outputs": [
    {
     "name": "stdout",
     "output_type": "stream",
     "text": [
      "       source_city destination_city                 route\n",
      "0            Delhi           Mumbai       Delhi to Mumbai\n",
      "1            Delhi           Mumbai       Delhi to Mumbai\n",
      "2            Delhi           Mumbai       Delhi to Mumbai\n",
      "3            Delhi           Mumbai       Delhi to Mumbai\n",
      "4            Delhi           Mumbai       Delhi to Mumbai\n",
      "...            ...              ...                   ...\n",
      "297689     Chennai        Hyderabad  Chennai to Hyderabad\n",
      "297690     Chennai        Hyderabad  Chennai to Hyderabad\n",
      "297691     Chennai        Hyderabad  Chennai to Hyderabad\n",
      "297692     Chennai        Hyderabad  Chennai to Hyderabad\n",
      "297693     Chennai        Hyderabad  Chennai to Hyderabad\n",
      "\n",
      "[297694 rows x 3 columns]\n"
     ]
    }
   ],
   "source": [
    "# Combine source and destination cities into a single 'route' feature\n",
    "df['route'] = df['source_city'] + ' to ' + df['destination_city']\n",
    "\n",
    "# Display the result\n",
    "print(df[['source_city', 'destination_city', 'route']])"
   ]
  },
  {
   "cell_type": "code",
   "execution_count": 1085,
   "metadata": {},
   "outputs": [],
   "source": [
    "df.drop(['source_city', 'destination_city'],axis=1,inplace=True)"
   ]
  },
  {
   "cell_type": "code",
   "execution_count": 1086,
   "metadata": {},
   "outputs": [
    {
     "name": "stdout",
     "output_type": "stream",
     "text": [
      "Correlation between index and price: 0.7624620447342803\n"
     ]
    }
   ],
   "source": [
    "# Calculate correlation between 'index' and 'price'\n",
    "correlation = df['Index'].corr(df['price'])\n",
    "\n",
    "# Print the result\n",
    "print(f\"Correlation between index and price: {correlation}\")"
   ]
  },
  {
   "cell_type": "markdown",
   "metadata": {},
   "source": [
    "since index is just ID also correlation of 0.76 might simply reflect the fact that the data is ordered in a particular way(increasing order), so we can drop index"
   ]
  },
  {
   "cell_type": "code",
   "execution_count": 1087,
   "metadata": {},
   "outputs": [],
   "source": [
    "df.drop(['Index'],axis=1,inplace=True)"
   ]
  },
  {
   "cell_type": "code",
   "execution_count": 1088,
   "metadata": {},
   "outputs": [
    {
     "data": {
      "text/plain": [
       "array(['zero', 'one', 'two_or_more'], dtype=object)"
      ]
     },
     "execution_count": 1088,
     "metadata": {},
     "output_type": "execute_result"
    }
   ],
   "source": [
    "df['stops'].unique()"
   ]
  },
  {
   "cell_type": "code",
   "execution_count": 1089,
   "metadata": {},
   "outputs": [],
   "source": [
    "df['stops'] = df['stops'].replace({'zero': 0, 'one': 1, 'two_or_more': 2})\n",
    "#replacing stops string input into equivalent numeric values"
   ]
  },
  {
   "cell_type": "code",
   "execution_count": 1090,
   "metadata": {},
   "outputs": [],
   "source": [
    "# Apply One-Hot Encoding to both 'airline' and 'flight' columns\n",
    "df = pd.get_dummies(df, columns=['airline', 'class'])\n"
   ]
  },
  {
   "cell_type": "code",
   "execution_count": 1091,
   "metadata": {},
   "outputs": [
    {
     "data": {
      "text/plain": [
       "Index(['flight', 'departure_time', 'stops', 'arrival_time', 'days_left',\n",
       "       'price', 'duration', 'route', 'airline_AirAsia', 'airline_Air_India',\n",
       "       'airline_GO_FIRST', 'airline_Indigo', 'airline_SpiceJet',\n",
       "       'airline_Vistara', 'class_Business', 'class_Economy'],\n",
       "      dtype='object')"
      ]
     },
     "execution_count": 1091,
     "metadata": {},
     "output_type": "execute_result"
    }
   ],
   "source": [
    "df.columns"
   ]
  },
  {
   "cell_type": "code",
   "execution_count": 1092,
   "metadata": {},
   "outputs": [
    {
     "name": "stdout",
     "output_type": "stream",
     "text": [
      "         flight departure_time  stops arrival_time  days_left  price  \\\n",
      "0       SG-8709       18:00:00      0     21:00:00          1   5953   \n",
      "1       SG-8157       05:00:00      0     08:00:00          1   5953   \n",
      "2        I5-764       05:00:00      0     05:00:00          1   5956   \n",
      "3        UK-995       08:00:00      0     14:00:00          1   5955   \n",
      "4        UK-963       08:00:00      0     08:00:00          1   5955   \n",
      "...         ...            ...    ...          ...        ...    ...   \n",
      "297689   UK-822       08:00:00      1     18:00:00         49  69265   \n",
      "297690   UK-826       14:00:00      1     21:00:00         49  77105   \n",
      "297691   UK-832       05:00:00      1     21:00:00         49  79099   \n",
      "297692   UK-828       05:00:00      1     18:00:00         49  81585   \n",
      "297693   UK-822       08:00:00      1     18:00:00         49  81585   \n",
      "\n",
      "        duration                 route  airline_AirAsia  airline_Air_India  \\\n",
      "0            130       Delhi to Mumbai                0                  0   \n",
      "1            139       Delhi to Mumbai                0                  0   \n",
      "2            130       Delhi to Mumbai                1                  0   \n",
      "3            135       Delhi to Mumbai                0                  0   \n",
      "4            139       Delhi to Mumbai                0                  0   \n",
      "...          ...                   ...              ...                ...   \n",
      "297689       604  Chennai to Hyderabad                0                  0   \n",
      "297690       625  Chennai to Hyderabad                0                  0   \n",
      "297691       829  Chennai to Hyderabad                0                  0   \n",
      "297692       600  Chennai to Hyderabad                0                  0   \n",
      "297693       604  Chennai to Hyderabad                0                  0   \n",
      "\n",
      "        airline_GO_FIRST  airline_Indigo  airline_SpiceJet  airline_Vistara  \\\n",
      "0                      0               0                 1                0   \n",
      "1                      0               0                 1                0   \n",
      "2                      0               0                 0                0   \n",
      "3                      0               0                 0                1   \n",
      "4                      0               0                 0                1   \n",
      "...                  ...             ...               ...              ...   \n",
      "297689                 0               0                 0                1   \n",
      "297690                 0               0                 0                1   \n",
      "297691                 0               0                 0                1   \n",
      "297692                 0               0                 0                1   \n",
      "297693                 0               0                 0                1   \n",
      "\n",
      "        class_Business  class_Economy  \n",
      "0                    0              1  \n",
      "1                    0              1  \n",
      "2                    0              1  \n",
      "3                    0              1  \n",
      "4                    0              1  \n",
      "...                ...            ...  \n",
      "297689               1              0  \n",
      "297690               1              0  \n",
      "297691               1              0  \n",
      "297692               1              0  \n",
      "297693               1              0  \n",
      "\n",
      "[297694 rows x 16 columns]\n"
     ]
    }
   ],
   "source": [
    "# Convert only True/False columns to 1/0\n",
    "df[[ 'airline_AirAsia', 'airline_Air_India',\n",
    "       'airline_GO_FIRST', 'airline_Indigo', 'airline_SpiceJet',\n",
    "       'airline_Vistara', 'class_Business', 'class_Economy']] = df[[ 'airline_AirAsia', 'airline_Air_India',\n",
    "       'airline_GO_FIRST', 'airline_Indigo', 'airline_SpiceJet',\n",
    "       'airline_Vistara', 'class_Business', 'class_Economy']].astype(int)\n",
    "\n",
    "# Display the result\n",
    "print(df)"
   ]
  },
  {
   "cell_type": "code",
   "execution_count": 1093,
   "metadata": {},
   "outputs": [
    {
     "data": {
      "text/html": [
       "<div>\n",
       "<style scoped>\n",
       "    .dataframe tbody tr th:only-of-type {\n",
       "        vertical-align: middle;\n",
       "    }\n",
       "\n",
       "    .dataframe tbody tr th {\n",
       "        vertical-align: top;\n",
       "    }\n",
       "\n",
       "    .dataframe thead th {\n",
       "        text-align: right;\n",
       "    }\n",
       "</style>\n",
       "<table border=\"1\" class=\"dataframe\">\n",
       "  <thead>\n",
       "    <tr style=\"text-align: right;\">\n",
       "      <th></th>\n",
       "      <th>flight</th>\n",
       "      <th>departure_time</th>\n",
       "      <th>stops</th>\n",
       "      <th>arrival_time</th>\n",
       "      <th>days_left</th>\n",
       "      <th>price</th>\n",
       "      <th>duration</th>\n",
       "      <th>route</th>\n",
       "      <th>airline_AirAsia</th>\n",
       "      <th>airline_Air_India</th>\n",
       "      <th>airline_GO_FIRST</th>\n",
       "      <th>airline_Indigo</th>\n",
       "      <th>airline_SpiceJet</th>\n",
       "      <th>airline_Vistara</th>\n",
       "      <th>class_Business</th>\n",
       "      <th>class_Economy</th>\n",
       "    </tr>\n",
       "  </thead>\n",
       "  <tbody>\n",
       "    <tr>\n",
       "      <th>0</th>\n",
       "      <td>SG-8709</td>\n",
       "      <td>18:00:00</td>\n",
       "      <td>0</td>\n",
       "      <td>21:00:00</td>\n",
       "      <td>1</td>\n",
       "      <td>5953</td>\n",
       "      <td>130</td>\n",
       "      <td>Delhi to Mumbai</td>\n",
       "      <td>0</td>\n",
       "      <td>0</td>\n",
       "      <td>0</td>\n",
       "      <td>0</td>\n",
       "      <td>1</td>\n",
       "      <td>0</td>\n",
       "      <td>0</td>\n",
       "      <td>1</td>\n",
       "    </tr>\n",
       "    <tr>\n",
       "      <th>1</th>\n",
       "      <td>SG-8157</td>\n",
       "      <td>05:00:00</td>\n",
       "      <td>0</td>\n",
       "      <td>08:00:00</td>\n",
       "      <td>1</td>\n",
       "      <td>5953</td>\n",
       "      <td>139</td>\n",
       "      <td>Delhi to Mumbai</td>\n",
       "      <td>0</td>\n",
       "      <td>0</td>\n",
       "      <td>0</td>\n",
       "      <td>0</td>\n",
       "      <td>1</td>\n",
       "      <td>0</td>\n",
       "      <td>0</td>\n",
       "      <td>1</td>\n",
       "    </tr>\n",
       "    <tr>\n",
       "      <th>2</th>\n",
       "      <td>I5-764</td>\n",
       "      <td>05:00:00</td>\n",
       "      <td>0</td>\n",
       "      <td>05:00:00</td>\n",
       "      <td>1</td>\n",
       "      <td>5956</td>\n",
       "      <td>130</td>\n",
       "      <td>Delhi to Mumbai</td>\n",
       "      <td>1</td>\n",
       "      <td>0</td>\n",
       "      <td>0</td>\n",
       "      <td>0</td>\n",
       "      <td>0</td>\n",
       "      <td>0</td>\n",
       "      <td>0</td>\n",
       "      <td>1</td>\n",
       "    </tr>\n",
       "    <tr>\n",
       "      <th>3</th>\n",
       "      <td>UK-995</td>\n",
       "      <td>08:00:00</td>\n",
       "      <td>0</td>\n",
       "      <td>14:00:00</td>\n",
       "      <td>1</td>\n",
       "      <td>5955</td>\n",
       "      <td>135</td>\n",
       "      <td>Delhi to Mumbai</td>\n",
       "      <td>0</td>\n",
       "      <td>0</td>\n",
       "      <td>0</td>\n",
       "      <td>0</td>\n",
       "      <td>0</td>\n",
       "      <td>1</td>\n",
       "      <td>0</td>\n",
       "      <td>1</td>\n",
       "    </tr>\n",
       "    <tr>\n",
       "      <th>4</th>\n",
       "      <td>UK-963</td>\n",
       "      <td>08:00:00</td>\n",
       "      <td>0</td>\n",
       "      <td>08:00:00</td>\n",
       "      <td>1</td>\n",
       "      <td>5955</td>\n",
       "      <td>139</td>\n",
       "      <td>Delhi to Mumbai</td>\n",
       "      <td>0</td>\n",
       "      <td>0</td>\n",
       "      <td>0</td>\n",
       "      <td>0</td>\n",
       "      <td>0</td>\n",
       "      <td>1</td>\n",
       "      <td>0</td>\n",
       "      <td>1</td>\n",
       "    </tr>\n",
       "    <tr>\n",
       "      <th>...</th>\n",
       "      <td>...</td>\n",
       "      <td>...</td>\n",
       "      <td>...</td>\n",
       "      <td>...</td>\n",
       "      <td>...</td>\n",
       "      <td>...</td>\n",
       "      <td>...</td>\n",
       "      <td>...</td>\n",
       "      <td>...</td>\n",
       "      <td>...</td>\n",
       "      <td>...</td>\n",
       "      <td>...</td>\n",
       "      <td>...</td>\n",
       "      <td>...</td>\n",
       "      <td>...</td>\n",
       "      <td>...</td>\n",
       "    </tr>\n",
       "    <tr>\n",
       "      <th>297689</th>\n",
       "      <td>UK-822</td>\n",
       "      <td>08:00:00</td>\n",
       "      <td>1</td>\n",
       "      <td>18:00:00</td>\n",
       "      <td>49</td>\n",
       "      <td>69265</td>\n",
       "      <td>604</td>\n",
       "      <td>Chennai to Hyderabad</td>\n",
       "      <td>0</td>\n",
       "      <td>0</td>\n",
       "      <td>0</td>\n",
       "      <td>0</td>\n",
       "      <td>0</td>\n",
       "      <td>1</td>\n",
       "      <td>1</td>\n",
       "      <td>0</td>\n",
       "    </tr>\n",
       "    <tr>\n",
       "      <th>297690</th>\n",
       "      <td>UK-826</td>\n",
       "      <td>14:00:00</td>\n",
       "      <td>1</td>\n",
       "      <td>21:00:00</td>\n",
       "      <td>49</td>\n",
       "      <td>77105</td>\n",
       "      <td>625</td>\n",
       "      <td>Chennai to Hyderabad</td>\n",
       "      <td>0</td>\n",
       "      <td>0</td>\n",
       "      <td>0</td>\n",
       "      <td>0</td>\n",
       "      <td>0</td>\n",
       "      <td>1</td>\n",
       "      <td>1</td>\n",
       "      <td>0</td>\n",
       "    </tr>\n",
       "    <tr>\n",
       "      <th>297691</th>\n",
       "      <td>UK-832</td>\n",
       "      <td>05:00:00</td>\n",
       "      <td>1</td>\n",
       "      <td>21:00:00</td>\n",
       "      <td>49</td>\n",
       "      <td>79099</td>\n",
       "      <td>829</td>\n",
       "      <td>Chennai to Hyderabad</td>\n",
       "      <td>0</td>\n",
       "      <td>0</td>\n",
       "      <td>0</td>\n",
       "      <td>0</td>\n",
       "      <td>0</td>\n",
       "      <td>1</td>\n",
       "      <td>1</td>\n",
       "      <td>0</td>\n",
       "    </tr>\n",
       "    <tr>\n",
       "      <th>297692</th>\n",
       "      <td>UK-828</td>\n",
       "      <td>05:00:00</td>\n",
       "      <td>1</td>\n",
       "      <td>18:00:00</td>\n",
       "      <td>49</td>\n",
       "      <td>81585</td>\n",
       "      <td>600</td>\n",
       "      <td>Chennai to Hyderabad</td>\n",
       "      <td>0</td>\n",
       "      <td>0</td>\n",
       "      <td>0</td>\n",
       "      <td>0</td>\n",
       "      <td>0</td>\n",
       "      <td>1</td>\n",
       "      <td>1</td>\n",
       "      <td>0</td>\n",
       "    </tr>\n",
       "    <tr>\n",
       "      <th>297693</th>\n",
       "      <td>UK-822</td>\n",
       "      <td>08:00:00</td>\n",
       "      <td>1</td>\n",
       "      <td>18:00:00</td>\n",
       "      <td>49</td>\n",
       "      <td>81585</td>\n",
       "      <td>604</td>\n",
       "      <td>Chennai to Hyderabad</td>\n",
       "      <td>0</td>\n",
       "      <td>0</td>\n",
       "      <td>0</td>\n",
       "      <td>0</td>\n",
       "      <td>0</td>\n",
       "      <td>1</td>\n",
       "      <td>1</td>\n",
       "      <td>0</td>\n",
       "    </tr>\n",
       "  </tbody>\n",
       "</table>\n",
       "<p>297694 rows × 16 columns</p>\n",
       "</div>"
      ],
      "text/plain": [
       "         flight departure_time  stops arrival_time  days_left  price  \\\n",
       "0       SG-8709       18:00:00      0     21:00:00          1   5953   \n",
       "1       SG-8157       05:00:00      0     08:00:00          1   5953   \n",
       "2        I5-764       05:00:00      0     05:00:00          1   5956   \n",
       "3        UK-995       08:00:00      0     14:00:00          1   5955   \n",
       "4        UK-963       08:00:00      0     08:00:00          1   5955   \n",
       "...         ...            ...    ...          ...        ...    ...   \n",
       "297689   UK-822       08:00:00      1     18:00:00         49  69265   \n",
       "297690   UK-826       14:00:00      1     21:00:00         49  77105   \n",
       "297691   UK-832       05:00:00      1     21:00:00         49  79099   \n",
       "297692   UK-828       05:00:00      1     18:00:00         49  81585   \n",
       "297693   UK-822       08:00:00      1     18:00:00         49  81585   \n",
       "\n",
       "        duration                 route  airline_AirAsia  airline_Air_India  \\\n",
       "0            130       Delhi to Mumbai                0                  0   \n",
       "1            139       Delhi to Mumbai                0                  0   \n",
       "2            130       Delhi to Mumbai                1                  0   \n",
       "3            135       Delhi to Mumbai                0                  0   \n",
       "4            139       Delhi to Mumbai                0                  0   \n",
       "...          ...                   ...              ...                ...   \n",
       "297689       604  Chennai to Hyderabad                0                  0   \n",
       "297690       625  Chennai to Hyderabad                0                  0   \n",
       "297691       829  Chennai to Hyderabad                0                  0   \n",
       "297692       600  Chennai to Hyderabad                0                  0   \n",
       "297693       604  Chennai to Hyderabad                0                  0   \n",
       "\n",
       "        airline_GO_FIRST  airline_Indigo  airline_SpiceJet  airline_Vistara  \\\n",
       "0                      0               0                 1                0   \n",
       "1                      0               0                 1                0   \n",
       "2                      0               0                 0                0   \n",
       "3                      0               0                 0                1   \n",
       "4                      0               0                 0                1   \n",
       "...                  ...             ...               ...              ...   \n",
       "297689                 0               0                 0                1   \n",
       "297690                 0               0                 0                1   \n",
       "297691                 0               0                 0                1   \n",
       "297692                 0               0                 0                1   \n",
       "297693                 0               0                 0                1   \n",
       "\n",
       "        class_Business  class_Economy  \n",
       "0                    0              1  \n",
       "1                    0              1  \n",
       "2                    0              1  \n",
       "3                    0              1  \n",
       "4                    0              1  \n",
       "...                ...            ...  \n",
       "297689               1              0  \n",
       "297690               1              0  \n",
       "297691               1              0  \n",
       "297692               1              0  \n",
       "297693               1              0  \n",
       "\n",
       "[297694 rows x 16 columns]"
      ]
     },
     "execution_count": 1093,
     "metadata": {},
     "output_type": "execute_result"
    }
   ],
   "source": [
    "df"
   ]
  },
  {
   "cell_type": "markdown",
   "metadata": {},
   "source": [
    "flight generally mean flight code, which is generally different for every flight of airline, so dropping it"
   ]
  },
  {
   "cell_type": "code",
   "execution_count": 1094,
   "metadata": {},
   "outputs": [],
   "source": [
    "df.drop(['flight'],axis=1,inplace=True)"
   ]
  },
  {
   "cell_type": "code",
   "execution_count": 1095,
   "metadata": {},
   "outputs": [
    {
     "name": "stdout",
     "output_type": "stream",
     "text": [
      "departure_time                  object\n",
      "stops                            int64\n",
      "arrival_time                    object\n",
      "days_left                        int64\n",
      "price                            int64\n",
      "duration                         int64\n",
      "airline_AirAsia                  int64\n",
      "airline_Air_India                int64\n",
      "airline_GO_FIRST                 int64\n",
      "airline_Indigo                   int64\n",
      "airline_SpiceJet                 int64\n",
      "airline_Vistara                  int64\n",
      "class_Business                   int64\n",
      "class_Economy                    int64\n",
      "route_Bangalore to Chennai        bool\n",
      "route_Bangalore to Delhi          bool\n",
      "route_Bangalore to Hyderabad      bool\n",
      "route_Bangalore to Kolkata        bool\n",
      "route_Bangalore to Mumbai         bool\n",
      "route_Chennai to Bangalore        bool\n",
      "route_Chennai to Delhi            bool\n",
      "route_Chennai to Hyderabad        bool\n",
      "route_Chennai to Kolkata          bool\n",
      "route_Chennai to Mumbai           bool\n",
      "route_Delhi to Bangalore          bool\n",
      "route_Delhi to Chennai            bool\n",
      "route_Delhi to Hyderabad          bool\n",
      "route_Delhi to Kolkata            bool\n",
      "route_Delhi to Mumbai             bool\n",
      "route_Hyderabad to Bangalore      bool\n",
      "route_Hyderabad to Chennai        bool\n",
      "route_Hyderabad to Delhi          bool\n",
      "route_Hyderabad to Kolkata        bool\n",
      "route_Hyderabad to Mumbai         bool\n",
      "route_Kolkata to Bangalore        bool\n",
      "route_Kolkata to Chennai          bool\n",
      "route_Kolkata to Delhi            bool\n",
      "route_Kolkata to Hyderabad        bool\n",
      "route_Kolkata to Mumbai           bool\n",
      "route_Mumbai to Bangalore         bool\n",
      "route_Mumbai to Chennai           bool\n",
      "route_Mumbai to Delhi             bool\n",
      "route_Mumbai to Hyderabad         bool\n",
      "route_Mumbai to Kolkata           bool\n",
      "dtype: object\n"
     ]
    }
   ],
   "source": [
    "categorical_variables = ['route']\n",
    "\n",
    "df_clean_encoded = pd.get_dummies(df, columns=categorical_variables, drop_first=False)\n",
    "\n",
    "print(df_clean_encoded.dtypes)\n"
   ]
  },
  {
   "cell_type": "code",
   "execution_count": 1096,
   "metadata": {},
   "outputs": [
    {
     "name": "stdout",
     "output_type": "stream",
     "text": [
      "  departure_time  stops arrival_time  days_left  price  duration  \\\n",
      "0       18:00:00      0     21:00:00          1   5953       130   \n",
      "1       05:00:00      0     08:00:00          1   5953       139   \n",
      "2       05:00:00      0     05:00:00          1   5956       130   \n",
      "3       08:00:00      0     14:00:00          1   5955       135   \n",
      "4       08:00:00      0     08:00:00          1   5955       139   \n",
      "\n",
      "             route  airline_AirAsia  airline_Air_India  airline_GO_FIRST  ...  \\\n",
      "0  Delhi to Mumbai                0                  0                 0  ...   \n",
      "1  Delhi to Mumbai                0                  0                 0  ...   \n",
      "2  Delhi to Mumbai                1                  0                 0  ...   \n",
      "3  Delhi to Mumbai                0                  0                 0  ...   \n",
      "4  Delhi to Mumbai                0                  0                 0  ...   \n",
      "\n",
      "   route_Kolkata to Bangalore  route_Kolkata to Chennai  \\\n",
      "0                           0                         0   \n",
      "1                           0                         0   \n",
      "2                           0                         0   \n",
      "3                           0                         0   \n",
      "4                           0                         0   \n",
      "\n",
      "   route_Kolkata to Delhi  route_Kolkata to Hyderabad  \\\n",
      "0                       0                           0   \n",
      "1                       0                           0   \n",
      "2                       0                           0   \n",
      "3                       0                           0   \n",
      "4                       0                           0   \n",
      "\n",
      "   route_Kolkata to Mumbai  route_Mumbai to Bangalore  \\\n",
      "0                        0                          0   \n",
      "1                        0                          0   \n",
      "2                        0                          0   \n",
      "3                        0                          0   \n",
      "4                        0                          0   \n",
      "\n",
      "   route_Mumbai to Chennai  route_Mumbai to Delhi  route_Mumbai to Hyderabad  \\\n",
      "0                        0                      0                          0   \n",
      "1                        0                      0                          0   \n",
      "2                        0                      0                          0   \n",
      "3                        0                      0                          0   \n",
      "4                        0                      0                          0   \n",
      "\n",
      "   route_Mumbai to Kolkata  \n",
      "0                        0  \n",
      "1                        0  \n",
      "2                        0  \n",
      "3                        0  \n",
      "4                        0  \n",
      "\n",
      "[5 rows x 45 columns]\n"
     ]
    }
   ],
   "source": [
    "boolean_columns = df_clean_encoded.select_dtypes(include='bool').columns\n",
    "df[boolean_columns] = df_clean_encoded[boolean_columns].astype(int)\n",
    "print(df.head())\n"
   ]
  },
  {
   "cell_type": "code",
   "execution_count": 1097,
   "metadata": {},
   "outputs": [
    {
     "data": {
      "text/plain": [
       "Index(['departure_time', 'stops', 'arrival_time', 'days_left', 'price',\n",
       "       'duration', 'route', 'airline_AirAsia', 'airline_Air_India',\n",
       "       'airline_GO_FIRST', 'airline_Indigo', 'airline_SpiceJet',\n",
       "       'airline_Vistara', 'class_Business', 'class_Economy',\n",
       "       'route_Bangalore to Chennai', 'route_Bangalore to Delhi',\n",
       "       'route_Bangalore to Hyderabad', 'route_Bangalore to Kolkata',\n",
       "       'route_Bangalore to Mumbai', 'route_Chennai to Bangalore',\n",
       "       'route_Chennai to Delhi', 'route_Chennai to Hyderabad',\n",
       "       'route_Chennai to Kolkata', 'route_Chennai to Mumbai',\n",
       "       'route_Delhi to Bangalore', 'route_Delhi to Chennai',\n",
       "       'route_Delhi to Hyderabad', 'route_Delhi to Kolkata',\n",
       "       'route_Delhi to Mumbai', 'route_Hyderabad to Bangalore',\n",
       "       'route_Hyderabad to Chennai', 'route_Hyderabad to Delhi',\n",
       "       'route_Hyderabad to Kolkata', 'route_Hyderabad to Mumbai',\n",
       "       'route_Kolkata to Bangalore', 'route_Kolkata to Chennai',\n",
       "       'route_Kolkata to Delhi', 'route_Kolkata to Hyderabad',\n",
       "       'route_Kolkata to Mumbai', 'route_Mumbai to Bangalore',\n",
       "       'route_Mumbai to Chennai', 'route_Mumbai to Delhi',\n",
       "       'route_Mumbai to Hyderabad', 'route_Mumbai to Kolkata'],\n",
       "      dtype='object')"
      ]
     },
     "execution_count": 1097,
     "metadata": {},
     "output_type": "execute_result"
    }
   ],
   "source": [
    "df.columns\n"
   ]
  },
  {
   "cell_type": "code",
   "execution_count": 1098,
   "metadata": {},
   "outputs": [
    {
     "data": {
      "text/plain": [
       "departure_time                  object\n",
       "stops                            int64\n",
       "arrival_time                    object\n",
       "days_left                        int64\n",
       "price                            int64\n",
       "duration                         int64\n",
       "route                           object\n",
       "airline_AirAsia                  int64\n",
       "airline_Air_India                int64\n",
       "airline_GO_FIRST                 int64\n",
       "airline_Indigo                   int64\n",
       "airline_SpiceJet                 int64\n",
       "airline_Vistara                  int64\n",
       "class_Business                   int64\n",
       "class_Economy                    int64\n",
       "route_Bangalore to Chennai       int64\n",
       "route_Bangalore to Delhi         int64\n",
       "route_Bangalore to Hyderabad     int64\n",
       "route_Bangalore to Kolkata       int64\n",
       "route_Bangalore to Mumbai        int64\n",
       "route_Chennai to Bangalore       int64\n",
       "route_Chennai to Delhi           int64\n",
       "route_Chennai to Hyderabad       int64\n",
       "route_Chennai to Kolkata         int64\n",
       "route_Chennai to Mumbai          int64\n",
       "route_Delhi to Bangalore         int64\n",
       "route_Delhi to Chennai           int64\n",
       "route_Delhi to Hyderabad         int64\n",
       "route_Delhi to Kolkata           int64\n",
       "route_Delhi to Mumbai            int64\n",
       "route_Hyderabad to Bangalore     int64\n",
       "route_Hyderabad to Chennai       int64\n",
       "route_Hyderabad to Delhi         int64\n",
       "route_Hyderabad to Kolkata       int64\n",
       "route_Hyderabad to Mumbai        int64\n",
       "route_Kolkata to Bangalore       int64\n",
       "route_Kolkata to Chennai         int64\n",
       "route_Kolkata to Delhi           int64\n",
       "route_Kolkata to Hyderabad       int64\n",
       "route_Kolkata to Mumbai          int64\n",
       "route_Mumbai to Bangalore        int64\n",
       "route_Mumbai to Chennai          int64\n",
       "route_Mumbai to Delhi            int64\n",
       "route_Mumbai to Hyderabad        int64\n",
       "route_Mumbai to Kolkata          int64\n",
       "dtype: object"
      ]
     },
     "execution_count": 1098,
     "metadata": {},
     "output_type": "execute_result"
    }
   ],
   "source": [
    "df.dtypes"
   ]
  },
  {
   "cell_type": "code",
   "execution_count": 1099,
   "metadata": {},
   "outputs": [],
   "source": [
    "df.drop(['route'],axis=1,inplace=True)"
   ]
  },
  {
   "cell_type": "code",
   "execution_count": 1100,
   "metadata": {},
   "outputs": [
    {
     "data": {
      "text/html": [
       "<div>\n",
       "<style scoped>\n",
       "    .dataframe tbody tr th:only-of-type {\n",
       "        vertical-align: middle;\n",
       "    }\n",
       "\n",
       "    .dataframe tbody tr th {\n",
       "        vertical-align: top;\n",
       "    }\n",
       "\n",
       "    .dataframe thead th {\n",
       "        text-align: right;\n",
       "    }\n",
       "</style>\n",
       "<table border=\"1\" class=\"dataframe\">\n",
       "  <thead>\n",
       "    <tr style=\"text-align: right;\">\n",
       "      <th></th>\n",
       "      <th>departure_time</th>\n",
       "      <th>stops</th>\n",
       "      <th>arrival_time</th>\n",
       "      <th>days_left</th>\n",
       "      <th>price</th>\n",
       "      <th>duration</th>\n",
       "      <th>airline_AirAsia</th>\n",
       "      <th>airline_Air_India</th>\n",
       "      <th>airline_GO_FIRST</th>\n",
       "      <th>airline_Indigo</th>\n",
       "      <th>...</th>\n",
       "      <th>route_Kolkata to Bangalore</th>\n",
       "      <th>route_Kolkata to Chennai</th>\n",
       "      <th>route_Kolkata to Delhi</th>\n",
       "      <th>route_Kolkata to Hyderabad</th>\n",
       "      <th>route_Kolkata to Mumbai</th>\n",
       "      <th>route_Mumbai to Bangalore</th>\n",
       "      <th>route_Mumbai to Chennai</th>\n",
       "      <th>route_Mumbai to Delhi</th>\n",
       "      <th>route_Mumbai to Hyderabad</th>\n",
       "      <th>route_Mumbai to Kolkata</th>\n",
       "    </tr>\n",
       "  </thead>\n",
       "  <tbody>\n",
       "    <tr>\n",
       "      <th>0</th>\n",
       "      <td>18:00:00</td>\n",
       "      <td>0</td>\n",
       "      <td>21:00:00</td>\n",
       "      <td>1</td>\n",
       "      <td>5953</td>\n",
       "      <td>130</td>\n",
       "      <td>0</td>\n",
       "      <td>0</td>\n",
       "      <td>0</td>\n",
       "      <td>0</td>\n",
       "      <td>...</td>\n",
       "      <td>0</td>\n",
       "      <td>0</td>\n",
       "      <td>0</td>\n",
       "      <td>0</td>\n",
       "      <td>0</td>\n",
       "      <td>0</td>\n",
       "      <td>0</td>\n",
       "      <td>0</td>\n",
       "      <td>0</td>\n",
       "      <td>0</td>\n",
       "    </tr>\n",
       "    <tr>\n",
       "      <th>1</th>\n",
       "      <td>05:00:00</td>\n",
       "      <td>0</td>\n",
       "      <td>08:00:00</td>\n",
       "      <td>1</td>\n",
       "      <td>5953</td>\n",
       "      <td>139</td>\n",
       "      <td>0</td>\n",
       "      <td>0</td>\n",
       "      <td>0</td>\n",
       "      <td>0</td>\n",
       "      <td>...</td>\n",
       "      <td>0</td>\n",
       "      <td>0</td>\n",
       "      <td>0</td>\n",
       "      <td>0</td>\n",
       "      <td>0</td>\n",
       "      <td>0</td>\n",
       "      <td>0</td>\n",
       "      <td>0</td>\n",
       "      <td>0</td>\n",
       "      <td>0</td>\n",
       "    </tr>\n",
       "    <tr>\n",
       "      <th>2</th>\n",
       "      <td>05:00:00</td>\n",
       "      <td>0</td>\n",
       "      <td>05:00:00</td>\n",
       "      <td>1</td>\n",
       "      <td>5956</td>\n",
       "      <td>130</td>\n",
       "      <td>1</td>\n",
       "      <td>0</td>\n",
       "      <td>0</td>\n",
       "      <td>0</td>\n",
       "      <td>...</td>\n",
       "      <td>0</td>\n",
       "      <td>0</td>\n",
       "      <td>0</td>\n",
       "      <td>0</td>\n",
       "      <td>0</td>\n",
       "      <td>0</td>\n",
       "      <td>0</td>\n",
       "      <td>0</td>\n",
       "      <td>0</td>\n",
       "      <td>0</td>\n",
       "    </tr>\n",
       "    <tr>\n",
       "      <th>3</th>\n",
       "      <td>08:00:00</td>\n",
       "      <td>0</td>\n",
       "      <td>14:00:00</td>\n",
       "      <td>1</td>\n",
       "      <td>5955</td>\n",
       "      <td>135</td>\n",
       "      <td>0</td>\n",
       "      <td>0</td>\n",
       "      <td>0</td>\n",
       "      <td>0</td>\n",
       "      <td>...</td>\n",
       "      <td>0</td>\n",
       "      <td>0</td>\n",
       "      <td>0</td>\n",
       "      <td>0</td>\n",
       "      <td>0</td>\n",
       "      <td>0</td>\n",
       "      <td>0</td>\n",
       "      <td>0</td>\n",
       "      <td>0</td>\n",
       "      <td>0</td>\n",
       "    </tr>\n",
       "    <tr>\n",
       "      <th>4</th>\n",
       "      <td>08:00:00</td>\n",
       "      <td>0</td>\n",
       "      <td>08:00:00</td>\n",
       "      <td>1</td>\n",
       "      <td>5955</td>\n",
       "      <td>139</td>\n",
       "      <td>0</td>\n",
       "      <td>0</td>\n",
       "      <td>0</td>\n",
       "      <td>0</td>\n",
       "      <td>...</td>\n",
       "      <td>0</td>\n",
       "      <td>0</td>\n",
       "      <td>0</td>\n",
       "      <td>0</td>\n",
       "      <td>0</td>\n",
       "      <td>0</td>\n",
       "      <td>0</td>\n",
       "      <td>0</td>\n",
       "      <td>0</td>\n",
       "      <td>0</td>\n",
       "    </tr>\n",
       "  </tbody>\n",
       "</table>\n",
       "<p>5 rows × 44 columns</p>\n",
       "</div>"
      ],
      "text/plain": [
       "  departure_time  stops arrival_time  days_left  price  duration  \\\n",
       "0       18:00:00      0     21:00:00          1   5953       130   \n",
       "1       05:00:00      0     08:00:00          1   5953       139   \n",
       "2       05:00:00      0     05:00:00          1   5956       130   \n",
       "3       08:00:00      0     14:00:00          1   5955       135   \n",
       "4       08:00:00      0     08:00:00          1   5955       139   \n",
       "\n",
       "   airline_AirAsia  airline_Air_India  airline_GO_FIRST  airline_Indigo  ...  \\\n",
       "0                0                  0                 0               0  ...   \n",
       "1                0                  0                 0               0  ...   \n",
       "2                1                  0                 0               0  ...   \n",
       "3                0                  0                 0               0  ...   \n",
       "4                0                  0                 0               0  ...   \n",
       "\n",
       "   route_Kolkata to Bangalore  route_Kolkata to Chennai  \\\n",
       "0                           0                         0   \n",
       "1                           0                         0   \n",
       "2                           0                         0   \n",
       "3                           0                         0   \n",
       "4                           0                         0   \n",
       "\n",
       "   route_Kolkata to Delhi  route_Kolkata to Hyderabad  \\\n",
       "0                       0                           0   \n",
       "1                       0                           0   \n",
       "2                       0                           0   \n",
       "3                       0                           0   \n",
       "4                       0                           0   \n",
       "\n",
       "   route_Kolkata to Mumbai  route_Mumbai to Bangalore  \\\n",
       "0                        0                          0   \n",
       "1                        0                          0   \n",
       "2                        0                          0   \n",
       "3                        0                          0   \n",
       "4                        0                          0   \n",
       "\n",
       "   route_Mumbai to Chennai  route_Mumbai to Delhi  route_Mumbai to Hyderabad  \\\n",
       "0                        0                      0                          0   \n",
       "1                        0                      0                          0   \n",
       "2                        0                      0                          0   \n",
       "3                        0                      0                          0   \n",
       "4                        0                      0                          0   \n",
       "\n",
       "   route_Mumbai to Kolkata  \n",
       "0                        0  \n",
       "1                        0  \n",
       "2                        0  \n",
       "3                        0  \n",
       "4                        0  \n",
       "\n",
       "[5 rows x 44 columns]"
      ]
     },
     "execution_count": 1100,
     "metadata": {},
     "output_type": "execute_result"
    }
   ],
   "source": [
    "df.head()"
   ]
  },
  {
   "cell_type": "code",
   "execution_count": 1101,
   "metadata": {},
   "outputs": [],
   "source": [
    "# Specify the two columns to compare\n",
    "col1 = 'departure_time'  # Replace with actual column name\n",
    "col2 = 'arrival_time'  # Replace with actual column name\n",
    "\n",
    "# Drop rows where values in both columns are equal\n",
    "df = df[df[col1] != df[col2]]\n",
    "\n",
    "df.drop(df[df[col1] == df[col2]].index, inplace=True)\n"
   ]
  },
  {
   "cell_type": "code",
   "execution_count": 1102,
   "metadata": {},
   "outputs": [
    {
     "data": {
      "text/html": [
       "<div>\n",
       "<style scoped>\n",
       "    .dataframe tbody tr th:only-of-type {\n",
       "        vertical-align: middle;\n",
       "    }\n",
       "\n",
       "    .dataframe tbody tr th {\n",
       "        vertical-align: top;\n",
       "    }\n",
       "\n",
       "    .dataframe thead th {\n",
       "        text-align: right;\n",
       "    }\n",
       "</style>\n",
       "<table border=\"1\" class=\"dataframe\">\n",
       "  <thead>\n",
       "    <tr style=\"text-align: right;\">\n",
       "      <th></th>\n",
       "      <th>departure_time</th>\n",
       "      <th>stops</th>\n",
       "      <th>arrival_time</th>\n",
       "      <th>days_left</th>\n",
       "      <th>price</th>\n",
       "      <th>duration</th>\n",
       "      <th>airline_AirAsia</th>\n",
       "      <th>airline_Air_India</th>\n",
       "      <th>airline_GO_FIRST</th>\n",
       "      <th>airline_Indigo</th>\n",
       "      <th>...</th>\n",
       "      <th>route_Kolkata to Bangalore</th>\n",
       "      <th>route_Kolkata to Chennai</th>\n",
       "      <th>route_Kolkata to Delhi</th>\n",
       "      <th>route_Kolkata to Hyderabad</th>\n",
       "      <th>route_Kolkata to Mumbai</th>\n",
       "      <th>route_Mumbai to Bangalore</th>\n",
       "      <th>route_Mumbai to Chennai</th>\n",
       "      <th>route_Mumbai to Delhi</th>\n",
       "      <th>route_Mumbai to Hyderabad</th>\n",
       "      <th>route_Mumbai to Kolkata</th>\n",
       "    </tr>\n",
       "  </thead>\n",
       "  <tbody>\n",
       "    <tr>\n",
       "      <th>0</th>\n",
       "      <td>18:00:00</td>\n",
       "      <td>0</td>\n",
       "      <td>21:00:00</td>\n",
       "      <td>1</td>\n",
       "      <td>5953</td>\n",
       "      <td>130</td>\n",
       "      <td>0</td>\n",
       "      <td>0</td>\n",
       "      <td>0</td>\n",
       "      <td>0</td>\n",
       "      <td>...</td>\n",
       "      <td>0</td>\n",
       "      <td>0</td>\n",
       "      <td>0</td>\n",
       "      <td>0</td>\n",
       "      <td>0</td>\n",
       "      <td>0</td>\n",
       "      <td>0</td>\n",
       "      <td>0</td>\n",
       "      <td>0</td>\n",
       "      <td>0</td>\n",
       "    </tr>\n",
       "    <tr>\n",
       "      <th>1</th>\n",
       "      <td>05:00:00</td>\n",
       "      <td>0</td>\n",
       "      <td>08:00:00</td>\n",
       "      <td>1</td>\n",
       "      <td>5953</td>\n",
       "      <td>139</td>\n",
       "      <td>0</td>\n",
       "      <td>0</td>\n",
       "      <td>0</td>\n",
       "      <td>0</td>\n",
       "      <td>...</td>\n",
       "      <td>0</td>\n",
       "      <td>0</td>\n",
       "      <td>0</td>\n",
       "      <td>0</td>\n",
       "      <td>0</td>\n",
       "      <td>0</td>\n",
       "      <td>0</td>\n",
       "      <td>0</td>\n",
       "      <td>0</td>\n",
       "      <td>0</td>\n",
       "    </tr>\n",
       "    <tr>\n",
       "      <th>3</th>\n",
       "      <td>08:00:00</td>\n",
       "      <td>0</td>\n",
       "      <td>14:00:00</td>\n",
       "      <td>1</td>\n",
       "      <td>5955</td>\n",
       "      <td>135</td>\n",
       "      <td>0</td>\n",
       "      <td>0</td>\n",
       "      <td>0</td>\n",
       "      <td>0</td>\n",
       "      <td>...</td>\n",
       "      <td>0</td>\n",
       "      <td>0</td>\n",
       "      <td>0</td>\n",
       "      <td>0</td>\n",
       "      <td>0</td>\n",
       "      <td>0</td>\n",
       "      <td>0</td>\n",
       "      <td>0</td>\n",
       "      <td>0</td>\n",
       "      <td>0</td>\n",
       "    </tr>\n",
       "    <tr>\n",
       "      <th>5</th>\n",
       "      <td>08:00:00</td>\n",
       "      <td>0</td>\n",
       "      <td>14:00:00</td>\n",
       "      <td>1</td>\n",
       "      <td>5955</td>\n",
       "      <td>139</td>\n",
       "      <td>0</td>\n",
       "      <td>0</td>\n",
       "      <td>0</td>\n",
       "      <td>0</td>\n",
       "      <td>...</td>\n",
       "      <td>0</td>\n",
       "      <td>0</td>\n",
       "      <td>0</td>\n",
       "      <td>0</td>\n",
       "      <td>0</td>\n",
       "      <td>0</td>\n",
       "      <td>0</td>\n",
       "      <td>0</td>\n",
       "      <td>0</td>\n",
       "      <td>0</td>\n",
       "    </tr>\n",
       "    <tr>\n",
       "      <th>7</th>\n",
       "      <td>14:00:00</td>\n",
       "      <td>0</td>\n",
       "      <td>18:00:00</td>\n",
       "      <td>1</td>\n",
       "      <td>6060</td>\n",
       "      <td>130</td>\n",
       "      <td>0</td>\n",
       "      <td>0</td>\n",
       "      <td>0</td>\n",
       "      <td>0</td>\n",
       "      <td>...</td>\n",
       "      <td>0</td>\n",
       "      <td>0</td>\n",
       "      <td>0</td>\n",
       "      <td>0</td>\n",
       "      <td>0</td>\n",
       "      <td>0</td>\n",
       "      <td>0</td>\n",
       "      <td>0</td>\n",
       "      <td>0</td>\n",
       "      <td>0</td>\n",
       "    </tr>\n",
       "  </tbody>\n",
       "</table>\n",
       "<p>5 rows × 44 columns</p>\n",
       "</div>"
      ],
      "text/plain": [
       "  departure_time  stops arrival_time  days_left  price  duration  \\\n",
       "0       18:00:00      0     21:00:00          1   5953       130   \n",
       "1       05:00:00      0     08:00:00          1   5953       139   \n",
       "3       08:00:00      0     14:00:00          1   5955       135   \n",
       "5       08:00:00      0     14:00:00          1   5955       139   \n",
       "7       14:00:00      0     18:00:00          1   6060       130   \n",
       "\n",
       "   airline_AirAsia  airline_Air_India  airline_GO_FIRST  airline_Indigo  ...  \\\n",
       "0                0                  0                 0               0  ...   \n",
       "1                0                  0                 0               0  ...   \n",
       "3                0                  0                 0               0  ...   \n",
       "5                0                  0                 0               0  ...   \n",
       "7                0                  0                 0               0  ...   \n",
       "\n",
       "   route_Kolkata to Bangalore  route_Kolkata to Chennai  \\\n",
       "0                           0                         0   \n",
       "1                           0                         0   \n",
       "3                           0                         0   \n",
       "5                           0                         0   \n",
       "7                           0                         0   \n",
       "\n",
       "   route_Kolkata to Delhi  route_Kolkata to Hyderabad  \\\n",
       "0                       0                           0   \n",
       "1                       0                           0   \n",
       "3                       0                           0   \n",
       "5                       0                           0   \n",
       "7                       0                           0   \n",
       "\n",
       "   route_Kolkata to Mumbai  route_Mumbai to Bangalore  \\\n",
       "0                        0                          0   \n",
       "1                        0                          0   \n",
       "3                        0                          0   \n",
       "5                        0                          0   \n",
       "7                        0                          0   \n",
       "\n",
       "   route_Mumbai to Chennai  route_Mumbai to Delhi  route_Mumbai to Hyderabad  \\\n",
       "0                        0                      0                          0   \n",
       "1                        0                      0                          0   \n",
       "3                        0                      0                          0   \n",
       "5                        0                      0                          0   \n",
       "7                        0                      0                          0   \n",
       "\n",
       "   route_Mumbai to Kolkata  \n",
       "0                        0  \n",
       "1                        0  \n",
       "3                        0  \n",
       "5                        0  \n",
       "7                        0  \n",
       "\n",
       "[5 rows x 44 columns]"
      ]
     },
     "execution_count": 1102,
     "metadata": {},
     "output_type": "execute_result"
    }
   ],
   "source": [
    "df.head()"
   ]
  },
  {
   "cell_type": "code",
   "execution_count": 1103,
   "metadata": {},
   "outputs": [
    {
     "name": "stdout",
     "output_type": "stream",
     "text": [
      "        departure_time  stops arrival_time  days_left  price  duration  \\\n",
      "0                   18      0     21:00:00          1   5953       130   \n",
      "1                    5      0     08:00:00          1   5953       139   \n",
      "3                    8      0     14:00:00          1   5955       135   \n",
      "5                    8      0     14:00:00          1   5955       139   \n",
      "7                   14      0     18:00:00          1   6060       130   \n",
      "...                ...    ...          ...        ...    ...       ...   \n",
      "297689               8      1     18:00:00         49  69265       604   \n",
      "297690              14      1     21:00:00         49  77105       625   \n",
      "297691               5      1     21:00:00         49  79099       829   \n",
      "297692               5      1     18:00:00         49  81585       600   \n",
      "297693               8      1     18:00:00         49  81585       604   \n",
      "\n",
      "        airline_AirAsia  airline_Air_India  airline_GO_FIRST  airline_Indigo  \\\n",
      "0                     0                  0                 0               0   \n",
      "1                     0                  0                 0               0   \n",
      "3                     0                  0                 0               0   \n",
      "5                     0                  0                 0               0   \n",
      "7                     0                  0                 0               0   \n",
      "...                 ...                ...               ...             ...   \n",
      "297689                0                  0                 0               0   \n",
      "297690                0                  0                 0               0   \n",
      "297691                0                  0                 0               0   \n",
      "297692                0                  0                 0               0   \n",
      "297693                0                  0                 0               0   \n",
      "\n",
      "        ...  route_Kolkata to Bangalore  route_Kolkata to Chennai  \\\n",
      "0       ...                           0                         0   \n",
      "1       ...                           0                         0   \n",
      "3       ...                           0                         0   \n",
      "5       ...                           0                         0   \n",
      "7       ...                           0                         0   \n",
      "...     ...                         ...                       ...   \n",
      "297689  ...                           0                         0   \n",
      "297690  ...                           0                         0   \n",
      "297691  ...                           0                         0   \n",
      "297692  ...                           0                         0   \n",
      "297693  ...                           0                         0   \n",
      "\n",
      "        route_Kolkata to Delhi  route_Kolkata to Hyderabad  \\\n",
      "0                            0                           0   \n",
      "1                            0                           0   \n",
      "3                            0                           0   \n",
      "5                            0                           0   \n",
      "7                            0                           0   \n",
      "...                        ...                         ...   \n",
      "297689                       0                           0   \n",
      "297690                       0                           0   \n",
      "297691                       0                           0   \n",
      "297692                       0                           0   \n",
      "297693                       0                           0   \n",
      "\n",
      "        route_Kolkata to Mumbai  route_Mumbai to Bangalore  \\\n",
      "0                             0                          0   \n",
      "1                             0                          0   \n",
      "3                             0                          0   \n",
      "5                             0                          0   \n",
      "7                             0                          0   \n",
      "...                         ...                        ...   \n",
      "297689                        0                          0   \n",
      "297690                        0                          0   \n",
      "297691                        0                          0   \n",
      "297692                        0                          0   \n",
      "297693                        0                          0   \n",
      "\n",
      "        route_Mumbai to Chennai  route_Mumbai to Delhi  \\\n",
      "0                             0                      0   \n",
      "1                             0                      0   \n",
      "3                             0                      0   \n",
      "5                             0                      0   \n",
      "7                             0                      0   \n",
      "...                         ...                    ...   \n",
      "297689                        0                      0   \n",
      "297690                        0                      0   \n",
      "297691                        0                      0   \n",
      "297692                        0                      0   \n",
      "297693                        0                      0   \n",
      "\n",
      "        route_Mumbai to Hyderabad  route_Mumbai to Kolkata  \n",
      "0                               0                        0  \n",
      "1                               0                        0  \n",
      "3                               0                        0  \n",
      "5                               0                        0  \n",
      "7                               0                        0  \n",
      "...                           ...                      ...  \n",
      "297689                          0                        0  \n",
      "297690                          0                        0  \n",
      "297691                          0                        0  \n",
      "297692                          0                        0  \n",
      "297693                          0                        0  \n",
      "\n",
      "[258305 rows x 44 columns]\n",
      "   departure_time  stops  arrival_time  days_left  price  duration  \\\n",
      "0              18      0            21          1   5953       130   \n",
      "1               5      0             8          1   5953       139   \n",
      "3               8      0            14          1   5955       135   \n",
      "5               8      0            14          1   5955       139   \n",
      "7              14      0            18          1   6060       130   \n",
      "\n",
      "   airline_AirAsia  airline_Air_India  airline_GO_FIRST  airline_Indigo  ...  \\\n",
      "0                0                  0                 0               0  ...   \n",
      "1                0                  0                 0               0  ...   \n",
      "3                0                  0                 0               0  ...   \n",
      "5                0                  0                 0               0  ...   \n",
      "7                0                  0                 0               0  ...   \n",
      "\n",
      "   route_Kolkata to Bangalore  route_Kolkata to Chennai  \\\n",
      "0                           0                         0   \n",
      "1                           0                         0   \n",
      "3                           0                         0   \n",
      "5                           0                         0   \n",
      "7                           0                         0   \n",
      "\n",
      "   route_Kolkata to Delhi  route_Kolkata to Hyderabad  \\\n",
      "0                       0                           0   \n",
      "1                       0                           0   \n",
      "3                       0                           0   \n",
      "5                       0                           0   \n",
      "7                       0                           0   \n",
      "\n",
      "   route_Kolkata to Mumbai  route_Mumbai to Bangalore  \\\n",
      "0                        0                          0   \n",
      "1                        0                          0   \n",
      "3                        0                          0   \n",
      "5                        0                          0   \n",
      "7                        0                          0   \n",
      "\n",
      "   route_Mumbai to Chennai  route_Mumbai to Delhi  route_Mumbai to Hyderabad  \\\n",
      "0                        0                      0                          0   \n",
      "1                        0                      0                          0   \n",
      "3                        0                      0                          0   \n",
      "5                        0                      0                          0   \n",
      "7                        0                      0                          0   \n",
      "\n",
      "   route_Mumbai to Kolkata  \n",
      "0                        0  \n",
      "1                        0  \n",
      "3                        0  \n",
      "5                        0  \n",
      "7                        0  \n",
      "\n",
      "[5 rows x 44 columns]\n"
     ]
    }
   ],
   "source": [
    "# Convert the departure_time column to datetime\n",
    "df['departure_time'] = pd.to_datetime(df['departure_time'], format='%H:%M:%S')\n",
    "\n",
    "# Extract just the hour part\n",
    "df['departure_time'] = df['departure_time'].dt.hour\n",
    "\n",
    "# Display the DataFrame with departure hours\n",
    "print(df)\n",
    "# Convert the departure_time column to datetime\n",
    "df['arrival_time'] = pd.to_datetime(df['arrival_time'], format='%H:%M:%S')\n",
    "\n",
    "# Extract just the hour part\n",
    "df['arrival_time'] = df['arrival_time'].dt.hour\n",
    "\n",
    "# Display the DataFrame with departure hours\n",
    "print(df.head())"
   ]
  },
  {
   "cell_type": "code",
   "execution_count": 1104,
   "metadata": {},
   "outputs": [
    {
     "data": {
      "text/plain": [
       "departure_time                  int32\n",
       "stops                           int64\n",
       "arrival_time                    int32\n",
       "days_left                       int64\n",
       "price                           int64\n",
       "duration                        int64\n",
       "airline_AirAsia                 int64\n",
       "airline_Air_India               int64\n",
       "airline_GO_FIRST                int64\n",
       "airline_Indigo                  int64\n",
       "airline_SpiceJet                int64\n",
       "airline_Vistara                 int64\n",
       "class_Business                  int64\n",
       "class_Economy                   int64\n",
       "route_Bangalore to Chennai      int64\n",
       "route_Bangalore to Delhi        int64\n",
       "route_Bangalore to Hyderabad    int64\n",
       "route_Bangalore to Kolkata      int64\n",
       "route_Bangalore to Mumbai       int64\n",
       "route_Chennai to Bangalore      int64\n",
       "route_Chennai to Delhi          int64\n",
       "route_Chennai to Hyderabad      int64\n",
       "route_Chennai to Kolkata        int64\n",
       "route_Chennai to Mumbai         int64\n",
       "route_Delhi to Bangalore        int64\n",
       "route_Delhi to Chennai          int64\n",
       "route_Delhi to Hyderabad        int64\n",
       "route_Delhi to Kolkata          int64\n",
       "route_Delhi to Mumbai           int64\n",
       "route_Hyderabad to Bangalore    int64\n",
       "route_Hyderabad to Chennai      int64\n",
       "route_Hyderabad to Delhi        int64\n",
       "route_Hyderabad to Kolkata      int64\n",
       "route_Hyderabad to Mumbai       int64\n",
       "route_Kolkata to Bangalore      int64\n",
       "route_Kolkata to Chennai        int64\n",
       "route_Kolkata to Delhi          int64\n",
       "route_Kolkata to Hyderabad      int64\n",
       "route_Kolkata to Mumbai         int64\n",
       "route_Mumbai to Bangalore       int64\n",
       "route_Mumbai to Chennai         int64\n",
       "route_Mumbai to Delhi           int64\n",
       "route_Mumbai to Hyderabad       int64\n",
       "route_Mumbai to Kolkata         int64\n",
       "dtype: object"
      ]
     },
     "execution_count": 1104,
     "metadata": {},
     "output_type": "execute_result"
    }
   ],
   "source": [
    "df.dtypes"
   ]
  },
  {
   "cell_type": "code",
   "execution_count": 1105,
   "metadata": {},
   "outputs": [
    {
     "data": {
      "text/html": [
       "<div>\n",
       "<style scoped>\n",
       "    .dataframe tbody tr th:only-of-type {\n",
       "        vertical-align: middle;\n",
       "    }\n",
       "\n",
       "    .dataframe tbody tr th {\n",
       "        vertical-align: top;\n",
       "    }\n",
       "\n",
       "    .dataframe thead th {\n",
       "        text-align: right;\n",
       "    }\n",
       "</style>\n",
       "<table border=\"1\" class=\"dataframe\">\n",
       "  <thead>\n",
       "    <tr style=\"text-align: right;\">\n",
       "      <th></th>\n",
       "      <th>departure_time</th>\n",
       "      <th>stops</th>\n",
       "      <th>arrival_time</th>\n",
       "      <th>days_left</th>\n",
       "      <th>price</th>\n",
       "      <th>duration</th>\n",
       "      <th>airline_AirAsia</th>\n",
       "      <th>airline_Air_India</th>\n",
       "      <th>airline_GO_FIRST</th>\n",
       "      <th>airline_Indigo</th>\n",
       "      <th>...</th>\n",
       "      <th>route_Kolkata to Bangalore</th>\n",
       "      <th>route_Kolkata to Chennai</th>\n",
       "      <th>route_Kolkata to Delhi</th>\n",
       "      <th>route_Kolkata to Hyderabad</th>\n",
       "      <th>route_Kolkata to Mumbai</th>\n",
       "      <th>route_Mumbai to Bangalore</th>\n",
       "      <th>route_Mumbai to Chennai</th>\n",
       "      <th>route_Mumbai to Delhi</th>\n",
       "      <th>route_Mumbai to Hyderabad</th>\n",
       "      <th>route_Mumbai to Kolkata</th>\n",
       "    </tr>\n",
       "  </thead>\n",
       "  <tbody>\n",
       "    <tr>\n",
       "      <th>0</th>\n",
       "      <td>18</td>\n",
       "      <td>0</td>\n",
       "      <td>21</td>\n",
       "      <td>1</td>\n",
       "      <td>5953</td>\n",
       "      <td>130</td>\n",
       "      <td>0</td>\n",
       "      <td>0</td>\n",
       "      <td>0</td>\n",
       "      <td>0</td>\n",
       "      <td>...</td>\n",
       "      <td>0</td>\n",
       "      <td>0</td>\n",
       "      <td>0</td>\n",
       "      <td>0</td>\n",
       "      <td>0</td>\n",
       "      <td>0</td>\n",
       "      <td>0</td>\n",
       "      <td>0</td>\n",
       "      <td>0</td>\n",
       "      <td>0</td>\n",
       "    </tr>\n",
       "    <tr>\n",
       "      <th>1</th>\n",
       "      <td>5</td>\n",
       "      <td>0</td>\n",
       "      <td>8</td>\n",
       "      <td>1</td>\n",
       "      <td>5953</td>\n",
       "      <td>139</td>\n",
       "      <td>0</td>\n",
       "      <td>0</td>\n",
       "      <td>0</td>\n",
       "      <td>0</td>\n",
       "      <td>...</td>\n",
       "      <td>0</td>\n",
       "      <td>0</td>\n",
       "      <td>0</td>\n",
       "      <td>0</td>\n",
       "      <td>0</td>\n",
       "      <td>0</td>\n",
       "      <td>0</td>\n",
       "      <td>0</td>\n",
       "      <td>0</td>\n",
       "      <td>0</td>\n",
       "    </tr>\n",
       "    <tr>\n",
       "      <th>3</th>\n",
       "      <td>8</td>\n",
       "      <td>0</td>\n",
       "      <td>14</td>\n",
       "      <td>1</td>\n",
       "      <td>5955</td>\n",
       "      <td>135</td>\n",
       "      <td>0</td>\n",
       "      <td>0</td>\n",
       "      <td>0</td>\n",
       "      <td>0</td>\n",
       "      <td>...</td>\n",
       "      <td>0</td>\n",
       "      <td>0</td>\n",
       "      <td>0</td>\n",
       "      <td>0</td>\n",
       "      <td>0</td>\n",
       "      <td>0</td>\n",
       "      <td>0</td>\n",
       "      <td>0</td>\n",
       "      <td>0</td>\n",
       "      <td>0</td>\n",
       "    </tr>\n",
       "    <tr>\n",
       "      <th>5</th>\n",
       "      <td>8</td>\n",
       "      <td>0</td>\n",
       "      <td>14</td>\n",
       "      <td>1</td>\n",
       "      <td>5955</td>\n",
       "      <td>139</td>\n",
       "      <td>0</td>\n",
       "      <td>0</td>\n",
       "      <td>0</td>\n",
       "      <td>0</td>\n",
       "      <td>...</td>\n",
       "      <td>0</td>\n",
       "      <td>0</td>\n",
       "      <td>0</td>\n",
       "      <td>0</td>\n",
       "      <td>0</td>\n",
       "      <td>0</td>\n",
       "      <td>0</td>\n",
       "      <td>0</td>\n",
       "      <td>0</td>\n",
       "      <td>0</td>\n",
       "    </tr>\n",
       "    <tr>\n",
       "      <th>7</th>\n",
       "      <td>14</td>\n",
       "      <td>0</td>\n",
       "      <td>18</td>\n",
       "      <td>1</td>\n",
       "      <td>6060</td>\n",
       "      <td>130</td>\n",
       "      <td>0</td>\n",
       "      <td>0</td>\n",
       "      <td>0</td>\n",
       "      <td>0</td>\n",
       "      <td>...</td>\n",
       "      <td>0</td>\n",
       "      <td>0</td>\n",
       "      <td>0</td>\n",
       "      <td>0</td>\n",
       "      <td>0</td>\n",
       "      <td>0</td>\n",
       "      <td>0</td>\n",
       "      <td>0</td>\n",
       "      <td>0</td>\n",
       "      <td>0</td>\n",
       "    </tr>\n",
       "  </tbody>\n",
       "</table>\n",
       "<p>5 rows × 44 columns</p>\n",
       "</div>"
      ],
      "text/plain": [
       "   departure_time  stops  arrival_time  days_left  price  duration  \\\n",
       "0              18      0            21          1   5953       130   \n",
       "1               5      0             8          1   5953       139   \n",
       "3               8      0            14          1   5955       135   \n",
       "5               8      0            14          1   5955       139   \n",
       "7              14      0            18          1   6060       130   \n",
       "\n",
       "   airline_AirAsia  airline_Air_India  airline_GO_FIRST  airline_Indigo  ...  \\\n",
       "0                0                  0                 0               0  ...   \n",
       "1                0                  0                 0               0  ...   \n",
       "3                0                  0                 0               0  ...   \n",
       "5                0                  0                 0               0  ...   \n",
       "7                0                  0                 0               0  ...   \n",
       "\n",
       "   route_Kolkata to Bangalore  route_Kolkata to Chennai  \\\n",
       "0                           0                         0   \n",
       "1                           0                         0   \n",
       "3                           0                         0   \n",
       "5                           0                         0   \n",
       "7                           0                         0   \n",
       "\n",
       "   route_Kolkata to Delhi  route_Kolkata to Hyderabad  \\\n",
       "0                       0                           0   \n",
       "1                       0                           0   \n",
       "3                       0                           0   \n",
       "5                       0                           0   \n",
       "7                       0                           0   \n",
       "\n",
       "   route_Kolkata to Mumbai  route_Mumbai to Bangalore  \\\n",
       "0                        0                          0   \n",
       "1                        0                          0   \n",
       "3                        0                          0   \n",
       "5                        0                          0   \n",
       "7                        0                          0   \n",
       "\n",
       "   route_Mumbai to Chennai  route_Mumbai to Delhi  route_Mumbai to Hyderabad  \\\n",
       "0                        0                      0                          0   \n",
       "1                        0                      0                          0   \n",
       "3                        0                      0                          0   \n",
       "5                        0                      0                          0   \n",
       "7                        0                      0                          0   \n",
       "\n",
       "   route_Mumbai to Kolkata  \n",
       "0                        0  \n",
       "1                        0  \n",
       "3                        0  \n",
       "5                        0  \n",
       "7                        0  \n",
       "\n",
       "[5 rows x 44 columns]"
      ]
     },
     "execution_count": 1105,
     "metadata": {},
     "output_type": "execute_result"
    }
   ],
   "source": [
    "df.head()"
   ]
  },
  {
   "cell_type": "code",
   "execution_count": 1106,
   "metadata": {},
   "outputs": [],
   "source": [
    "#encoded values into new csv file named \"cleaned.csv\"\n",
    "df.to_csv(\"cleaned.csv\", index=False)"
   ]
  },
  {
   "cell_type": "code",
   "execution_count": 1107,
   "metadata": {},
   "outputs": [
    {
     "data": {
      "text/html": [
       "<div>\n",
       "<style scoped>\n",
       "    .dataframe tbody tr th:only-of-type {\n",
       "        vertical-align: middle;\n",
       "    }\n",
       "\n",
       "    .dataframe tbody tr th {\n",
       "        vertical-align: top;\n",
       "    }\n",
       "\n",
       "    .dataframe thead th {\n",
       "        text-align: right;\n",
       "    }\n",
       "</style>\n",
       "<table border=\"1\" class=\"dataframe\">\n",
       "  <thead>\n",
       "    <tr style=\"text-align: right;\">\n",
       "      <th></th>\n",
       "      <th>departure_time</th>\n",
       "      <th>stops</th>\n",
       "      <th>arrival_time</th>\n",
       "      <th>days_left</th>\n",
       "      <th>price</th>\n",
       "      <th>duration</th>\n",
       "      <th>airline_AirAsia</th>\n",
       "      <th>airline_Air_India</th>\n",
       "      <th>airline_GO_FIRST</th>\n",
       "      <th>airline_Indigo</th>\n",
       "      <th>...</th>\n",
       "      <th>route_Kolkata to Bangalore</th>\n",
       "      <th>route_Kolkata to Chennai</th>\n",
       "      <th>route_Kolkata to Delhi</th>\n",
       "      <th>route_Kolkata to Hyderabad</th>\n",
       "      <th>route_Kolkata to Mumbai</th>\n",
       "      <th>route_Mumbai to Bangalore</th>\n",
       "      <th>route_Mumbai to Chennai</th>\n",
       "      <th>route_Mumbai to Delhi</th>\n",
       "      <th>route_Mumbai to Hyderabad</th>\n",
       "      <th>route_Mumbai to Kolkata</th>\n",
       "    </tr>\n",
       "  </thead>\n",
       "  <tbody>\n",
       "    <tr>\n",
       "      <th>0</th>\n",
       "      <td>18</td>\n",
       "      <td>0</td>\n",
       "      <td>21</td>\n",
       "      <td>1</td>\n",
       "      <td>5953</td>\n",
       "      <td>130</td>\n",
       "      <td>0</td>\n",
       "      <td>0</td>\n",
       "      <td>0</td>\n",
       "      <td>0</td>\n",
       "      <td>...</td>\n",
       "      <td>0</td>\n",
       "      <td>0</td>\n",
       "      <td>0</td>\n",
       "      <td>0</td>\n",
       "      <td>0</td>\n",
       "      <td>0</td>\n",
       "      <td>0</td>\n",
       "      <td>0</td>\n",
       "      <td>0</td>\n",
       "      <td>0</td>\n",
       "    </tr>\n",
       "    <tr>\n",
       "      <th>1</th>\n",
       "      <td>5</td>\n",
       "      <td>0</td>\n",
       "      <td>8</td>\n",
       "      <td>1</td>\n",
       "      <td>5953</td>\n",
       "      <td>139</td>\n",
       "      <td>0</td>\n",
       "      <td>0</td>\n",
       "      <td>0</td>\n",
       "      <td>0</td>\n",
       "      <td>...</td>\n",
       "      <td>0</td>\n",
       "      <td>0</td>\n",
       "      <td>0</td>\n",
       "      <td>0</td>\n",
       "      <td>0</td>\n",
       "      <td>0</td>\n",
       "      <td>0</td>\n",
       "      <td>0</td>\n",
       "      <td>0</td>\n",
       "      <td>0</td>\n",
       "    </tr>\n",
       "    <tr>\n",
       "      <th>2</th>\n",
       "      <td>8</td>\n",
       "      <td>0</td>\n",
       "      <td>14</td>\n",
       "      <td>1</td>\n",
       "      <td>5955</td>\n",
       "      <td>135</td>\n",
       "      <td>0</td>\n",
       "      <td>0</td>\n",
       "      <td>0</td>\n",
       "      <td>0</td>\n",
       "      <td>...</td>\n",
       "      <td>0</td>\n",
       "      <td>0</td>\n",
       "      <td>0</td>\n",
       "      <td>0</td>\n",
       "      <td>0</td>\n",
       "      <td>0</td>\n",
       "      <td>0</td>\n",
       "      <td>0</td>\n",
       "      <td>0</td>\n",
       "      <td>0</td>\n",
       "    </tr>\n",
       "    <tr>\n",
       "      <th>3</th>\n",
       "      <td>8</td>\n",
       "      <td>0</td>\n",
       "      <td>14</td>\n",
       "      <td>1</td>\n",
       "      <td>5955</td>\n",
       "      <td>139</td>\n",
       "      <td>0</td>\n",
       "      <td>0</td>\n",
       "      <td>0</td>\n",
       "      <td>0</td>\n",
       "      <td>...</td>\n",
       "      <td>0</td>\n",
       "      <td>0</td>\n",
       "      <td>0</td>\n",
       "      <td>0</td>\n",
       "      <td>0</td>\n",
       "      <td>0</td>\n",
       "      <td>0</td>\n",
       "      <td>0</td>\n",
       "      <td>0</td>\n",
       "      <td>0</td>\n",
       "    </tr>\n",
       "    <tr>\n",
       "      <th>4</th>\n",
       "      <td>14</td>\n",
       "      <td>0</td>\n",
       "      <td>18</td>\n",
       "      <td>1</td>\n",
       "      <td>6060</td>\n",
       "      <td>130</td>\n",
       "      <td>0</td>\n",
       "      <td>0</td>\n",
       "      <td>0</td>\n",
       "      <td>0</td>\n",
       "      <td>...</td>\n",
       "      <td>0</td>\n",
       "      <td>0</td>\n",
       "      <td>0</td>\n",
       "      <td>0</td>\n",
       "      <td>0</td>\n",
       "      <td>0</td>\n",
       "      <td>0</td>\n",
       "      <td>0</td>\n",
       "      <td>0</td>\n",
       "      <td>0</td>\n",
       "    </tr>\n",
       "  </tbody>\n",
       "</table>\n",
       "<p>5 rows × 44 columns</p>\n",
       "</div>"
      ],
      "text/plain": [
       "   departure_time  stops  arrival_time  days_left  price  duration  \\\n",
       "0              18      0            21          1   5953       130   \n",
       "1               5      0             8          1   5953       139   \n",
       "2               8      0            14          1   5955       135   \n",
       "3               8      0            14          1   5955       139   \n",
       "4              14      0            18          1   6060       130   \n",
       "\n",
       "   airline_AirAsia  airline_Air_India  airline_GO_FIRST  airline_Indigo  ...  \\\n",
       "0                0                  0                 0               0  ...   \n",
       "1                0                  0                 0               0  ...   \n",
       "2                0                  0                 0               0  ...   \n",
       "3                0                  0                 0               0  ...   \n",
       "4                0                  0                 0               0  ...   \n",
       "\n",
       "   route_Kolkata to Bangalore  route_Kolkata to Chennai  \\\n",
       "0                           0                         0   \n",
       "1                           0                         0   \n",
       "2                           0                         0   \n",
       "3                           0                         0   \n",
       "4                           0                         0   \n",
       "\n",
       "   route_Kolkata to Delhi  route_Kolkata to Hyderabad  \\\n",
       "0                       0                           0   \n",
       "1                       0                           0   \n",
       "2                       0                           0   \n",
       "3                       0                           0   \n",
       "4                       0                           0   \n",
       "\n",
       "   route_Kolkata to Mumbai  route_Mumbai to Bangalore  \\\n",
       "0                        0                          0   \n",
       "1                        0                          0   \n",
       "2                        0                          0   \n",
       "3                        0                          0   \n",
       "4                        0                          0   \n",
       "\n",
       "   route_Mumbai to Chennai  route_Mumbai to Delhi  route_Mumbai to Hyderabad  \\\n",
       "0                        0                      0                          0   \n",
       "1                        0                      0                          0   \n",
       "2                        0                      0                          0   \n",
       "3                        0                      0                          0   \n",
       "4                        0                      0                          0   \n",
       "\n",
       "   route_Mumbai to Kolkata  \n",
       "0                        0  \n",
       "1                        0  \n",
       "2                        0  \n",
       "3                        0  \n",
       "4                        0  \n",
       "\n",
       "[5 rows x 44 columns]"
      ]
     },
     "execution_count": 1107,
     "metadata": {},
     "output_type": "execute_result"
    }
   ],
   "source": [
    "# now cleaned.csv acts as a dataframe\n",
    "df=pd.read_csv('cleaned.csv')\n",
    "df.head()"
   ]
  },
  {
   "cell_type": "markdown",
   "metadata": {},
   "source": [
    "# EDA Task"
   ]
  },
  {
   "cell_type": "markdown",
   "metadata": {},
   "source": [
    "**1.target variable analysis**"
   ]
  },
  {
   "cell_type": "code",
   "execution_count": 1108,
   "metadata": {},
   "outputs": [],
   "source": [
    "#imported necessary library function and datasets for this project \n",
    "\n",
    "import pandas as pd \n",
    "import numpy as np\n",
    "import matplotlib.pyplot as plt\n",
    "import seaborn as sns\n",
    "from scipy import stats\n",
    "\n",
    "df=pd.read_csv('cleaned.csv')"
   ]
  },
  {
   "cell_type": "markdown",
   "metadata": {},
   "source": [
    "**price binning**\n",
    "- categorizing price into bins(low,mid,high) to analyze the pattern"
   ]
  },
  {
   "cell_type": "code",
   "execution_count": 1109,
   "metadata": {},
   "outputs": [
    {
     "data": {
      "text/plain": [
       "count    258305.000000\n",
       "mean      21180.401835\n",
       "std       22937.021298\n",
       "min        1105.000000\n",
       "25%        4843.000000\n",
       "50%        7425.000000\n",
       "75%       44144.000000\n",
       "max       98972.000000\n",
       "Name: price, dtype: float64"
      ]
     },
     "execution_count": 1109,
     "metadata": {},
     "output_type": "execute_result"
    }
   ],
   "source": [
    "df.describe().price"
   ]
  },
  {
   "cell_type": "code",
   "execution_count": 1110,
   "metadata": {},
   "outputs": [
    {
     "name": "stdout",
     "output_type": "stream",
     "text": [
      "Dataset after Binning Age:\n",
      "        price price Group\n",
      "0        5953      middle\n",
      "1        5953      middle\n",
      "2        5955      middle\n",
      "3        5955      middle\n",
      "4        6060      middle\n",
      "...       ...         ...\n",
      "258300  69265        high\n",
      "258301  77105        high\n",
      "258302  79099        high\n",
      "258303  81585        high\n",
      "258304  81585        high\n",
      "\n",
      "[258305 rows x 2 columns]\n"
     ]
    }
   ],
   "source": [
    "price_bins = [1105, 4783,44144,98972 ]  \n",
    "price_labels = ['low', 'middle', 'high']\n",
    "df['price Group'] = pd.cut(df['price'], bins=price_bins, labels=price_labels, right=False)\n",
    "\n",
    "print(\"Dataset after Binning Age:\")\n",
    "print(df[['price', 'price Group']])"
   ]
  },
  {
   "cell_type": "markdown",
   "metadata": {},
   "source": [
    "- hence price we categorized"
   ]
  },
  {
   "cell_type": "code",
   "execution_count": 1111,
   "metadata": {},
   "outputs": [],
   "source": [
    "df['price Group'] = df['price Group'].replace({'low': 0, 'middle': 1, 'high': 2})"
   ]
  },
  {
   "cell_type": "code",
   "execution_count": 1112,
   "metadata": {},
   "outputs": [],
   "source": [
    "df['price Group'] = df['price Group'].astype('category').cat.codes.astype('int64')"
   ]
  },
  {
   "cell_type": "code",
   "execution_count": 1113,
   "metadata": {},
   "outputs": [
    {
     "data": {
      "text/plain": [
       "departure_time                  int64\n",
       "stops                           int64\n",
       "arrival_time                    int64\n",
       "days_left                       int64\n",
       "price                           int64\n",
       "duration                        int64\n",
       "airline_AirAsia                 int64\n",
       "airline_Air_India               int64\n",
       "airline_GO_FIRST                int64\n",
       "airline_Indigo                  int64\n",
       "airline_SpiceJet                int64\n",
       "airline_Vistara                 int64\n",
       "class_Business                  int64\n",
       "class_Economy                   int64\n",
       "route_Bangalore to Chennai      int64\n",
       "route_Bangalore to Delhi        int64\n",
       "route_Bangalore to Hyderabad    int64\n",
       "route_Bangalore to Kolkata      int64\n",
       "route_Bangalore to Mumbai       int64\n",
       "route_Chennai to Bangalore      int64\n",
       "route_Chennai to Delhi          int64\n",
       "route_Chennai to Hyderabad      int64\n",
       "route_Chennai to Kolkata        int64\n",
       "route_Chennai to Mumbai         int64\n",
       "route_Delhi to Bangalore        int64\n",
       "route_Delhi to Chennai          int64\n",
       "route_Delhi to Hyderabad        int64\n",
       "route_Delhi to Kolkata          int64\n",
       "route_Delhi to Mumbai           int64\n",
       "route_Hyderabad to Bangalore    int64\n",
       "route_Hyderabad to Chennai      int64\n",
       "route_Hyderabad to Delhi        int64\n",
       "route_Hyderabad to Kolkata      int64\n",
       "route_Hyderabad to Mumbai       int64\n",
       "route_Kolkata to Bangalore      int64\n",
       "route_Kolkata to Chennai        int64\n",
       "route_Kolkata to Delhi          int64\n",
       "route_Kolkata to Hyderabad      int64\n",
       "route_Kolkata to Mumbai         int64\n",
       "route_Mumbai to Bangalore       int64\n",
       "route_Mumbai to Chennai         int64\n",
       "route_Mumbai to Delhi           int64\n",
       "route_Mumbai to Hyderabad       int64\n",
       "route_Mumbai to Kolkata         int64\n",
       "price Group                     int64\n",
       "dtype: object"
      ]
     },
     "execution_count": 1113,
     "metadata": {},
     "output_type": "execute_result"
    }
   ],
   "source": [
    "df.dtypes"
   ]
  },
  {
   "cell_type": "code",
   "execution_count": 1114,
   "metadata": {},
   "outputs": [],
   "source": [
    "#encoded values into new csv file named \"cleaned.csv\"\n",
    "df.to_csv(\"cleaned1.csv\", index=False)"
   ]
  },
  {
   "cell_type": "markdown",
   "metadata": {},
   "source": [
    "**2.categorical feature analysis**"
   ]
  },
  {
   "cell_type": "code",
   "execution_count": 1115,
   "metadata": {},
   "outputs": [],
   "source": [
    "#imported necessary library function and datasets for this project \n",
    "\n",
    "import pandas as pd \n",
    "import numpy as np\n",
    "import matplotlib.pyplot as plt\n",
    "import seaborn as sns\n",
    "from scipy import stats\n",
    "\n",
    "df=pd.read_csv('Clean_Dataset1.csv')"
   ]
  },
  {
   "cell_type": "markdown",
   "metadata": {},
   "source": [
    "**airplane vs price**"
   ]
  },
  {
   "cell_type": "code",
   "execution_count": 1116,
   "metadata": {},
   "outputs": [
    {
     "data": {
      "image/png": "[encoded data removed]",
      "text/plain": [
       "<Figure size 640x480 with 1 Axes>"
      ]
     },
     "metadata": {},
     "output_type": "display_data"
    }
   ],
   "source": [
    "sns.barplot(x='airline', y='price', data=df, ci=None)\n",
    "plt.title('Average Price by Airline')\n",
    "plt.xticks(rotation=90)\n",
    "plt.show()\n"
   ]
  },
  {
   "cell_type": "markdown",
   "metadata": {},
   "source": [
    "- vistara has high price tickets and airasia has low price tickets"
   ]
  },
  {
   "cell_type": "markdown",
   "metadata": {},
   "source": [
    "**premium airline vs budget airline**"
   ]
  },
  {
   "cell_type": "code",
   "execution_count": 1117,
   "metadata": {},
   "outputs": [
    {
     "data": {
      "text/plain": [
       "Index(['Index', 'airline', 'flight', 'source_city', 'departure_time', 'stops',\n",
       "       'arrival_time', 'destination_city', 'class', 'days_left', 'price',\n",
       "       'duration'],\n",
       "      dtype='object')"
      ]
     },
     "execution_count": 1117,
     "metadata": {},
     "output_type": "execute_result"
    }
   ],
   "source": [
    "df.columns"
   ]
  },
  {
   "cell_type": "code",
   "execution_count": 1118,
   "metadata": {},
   "outputs": [
    {
     "name": "stdout",
     "output_type": "stream",
     "text": [
      "Median Ticket Price: 7424.0\n",
      "\n",
      "Average Ticket Price per Airline:\n",
      " airline\n",
      "AirAsia       3276.0\n",
      "Air_India    11584.0\n",
      "GO_FIRST      5336.0\n",
      "Indigo        4453.0\n",
      "SpiceJet      5654.0\n",
      "Vistara      15543.0\n",
      "Name: price, dtype: float64\n",
      "\n",
      "Airline Classification:\n",
      " airline\n",
      "AirAsia       Budget\n",
      "Air_India    Premium\n",
      "GO_FIRST      Budget\n",
      "Indigo        Budget\n",
      "SpiceJet      Budget\n",
      "Vistara      Premium\n",
      "Name: price, dtype: object\n"
     ]
    }
   ],
   "source": [
    "median_price = df['price'].median()\n",
    "\n",
    "avg_prices = df.groupby('airline')['price'].median()\n",
    "\n",
    "airline_category = avg_prices.apply(lambda x: 'Premium' if x > median_price else 'Budget')\n",
    "\n",
    "print(\"Median Ticket Price:\", median_price)\n",
    "print(\"\\nAverage Ticket Price per Airline:\\n\", avg_prices)\n",
    "print(\"\\nAirline Classification:\\n\", airline_category)"
   ]
  },
  {
   "cell_type": "markdown",
   "metadata": {},
   "source": [
    "- thus AirIndia and Vistara we found to be premium airline"
   ]
  },
  {
   "cell_type": "code",
   "execution_count": 1119,
   "metadata": {},
   "outputs": [
    {
     "data": {
      "text/plain": [
       "Index(['Index', 'airline', 'flight', 'source_city', 'departure_time', 'stops',\n",
       "       'arrival_time', 'destination_city', 'class', 'days_left', 'price',\n",
       "       'duration'],\n",
       "      dtype='object')"
      ]
     },
     "execution_count": 1119,
     "metadata": {},
     "output_type": "execute_result"
    }
   ],
   "source": [
    "df.columns"
   ]
  },
  {
   "cell_type": "code",
   "execution_count": 1120,
   "metadata": {},
   "outputs": [
    {
     "data": {
      "text/plain": [
       "Index                int64\n",
       "airline             object\n",
       "flight              object\n",
       "source_city         object\n",
       "departure_time      object\n",
       "stops               object\n",
       "arrival_time        object\n",
       "destination_city    object\n",
       "class               object\n",
       "days_left            int64\n",
       "price                int64\n",
       "duration             int64\n",
       "dtype: object"
      ]
     },
     "execution_count": 1120,
     "metadata": {},
     "output_type": "execute_result"
    }
   ],
   "source": [
    "df.dtypes"
   ]
  },
  {
   "cell_type": "markdown",
   "metadata": {},
   "source": [
    "**class vs price**"
   ]
  },
  {
   "cell_type": "code",
   "execution_count": 1121,
   "metadata": {},
   "outputs": [
    {
     "name": "stdout",
     "output_type": "stream",
     "text": [
      "      class    price\n",
      "0  Business  53164.0\n",
      "1   Economy   5761.0\n"
     ]
    },
    {
     "data": {
      "image/png": "[encoded data removed]",
      "text/plain": [
       "<Figure size 640x480 with 1 Axes>"
      ]
     },
     "metadata": {},
     "output_type": "display_data"
    }
   ],
   "source": [
    "stops_price = df.groupby('class')['price'].median().reset_index()\n",
    "print(stops_price)\n",
    "\n",
    "sns.barplot(x='class', y='price', data=stops_price)\n",
    "plt.title('Flight Price by class')\n",
    "plt.show()"
   ]
  },
  {
   "cell_type": "markdown",
   "metadata": {},
   "source": [
    "business class price is much greater than economy class"
   ]
  },
  {
   "cell_type": "markdown",
   "metadata": {},
   "source": [
    "**source and destination cities impact**"
   ]
  },
  {
   "cell_type": "code",
   "execution_count": 1122,
   "metadata": {},
   "outputs": [
    {
     "data": {
      "image/png": "[encoded data removed]",
      "text/plain": [
       "<Figure size 500x300 with 1 Axes>"
      ]
     },
     "metadata": {},
     "output_type": "display_data"
    }
   ],
   "source": [
    "plt.figure(figsize=(5, 3))\n",
    "sns.barplot(x='source_city', y='price', data=df, palette='viridis', ci=None)\n",
    "plt.title(\"Flight Price Distribution Across Airlines\")\n",
    "plt.xlabel(\"source_city\")\n",
    "plt.ylabel(\"Price\")\n",
    "plt.xticks(rotation=45)\n",
    "plt.show()\n"
   ]
  },
  {
   "cell_type": "markdown",
   "metadata": {},
   "source": [
    "- flights to chennai has more ticket price"
   ]
  },
  {
   "cell_type": "code",
   "execution_count": 1123,
   "metadata": {},
   "outputs": [
    {
     "data": {
      "image/png": "[encoded data removed]",
      "text/plain": [
       "<Figure size 500x300 with 1 Axes>"
      ]
     },
     "metadata": {},
     "output_type": "display_data"
    }
   ],
   "source": [
    "plt.figure(figsize=(5, 3))\n",
    "sns.barplot(x='destination_city', y='price', data=df, palette='viridis', ci=None)\n",
    "plt.title(\"Flight Price Distribution Across Airlines\")\n",
    "plt.xlabel(\"destination_city\")\n",
    "plt.ylabel(\"Price\")\n",
    "plt.xticks(rotation=45)\n",
    "plt.show()\n"
   ]
  },
  {
   "cell_type": "markdown",
   "metadata": {},
   "source": [
    "- flights from kolkata and chennai has more price"
   ]
  },
  {
   "cell_type": "markdown",
   "metadata": {},
   "source": [
    "**number of stops vs price** "
   ]
  },
  {
   "cell_type": "code",
   "execution_count": 1124,
   "metadata": {},
   "outputs": [
    {
     "data": {
      "image/png": "[encoded data removed]",
      "text/plain": [
       "<Figure size 500x300 with 1 Axes>"
      ]
     },
     "metadata": {},
     "output_type": "display_data"
    }
   ],
   "source": [
    "plt.figure(figsize=(5, 3))\n",
    "sns.barplot(x='stops', y='price', data=df, palette='viridis', ci=None)\n",
    "plt.title(\"stops Distribution Across price\")\n",
    "plt.xlabel(\"stops\")\n",
    "plt.ylabel(\"price\")\n",
    "plt.xticks(rotation=45)\n",
    "plt.show()"
   ]
  },
  {
   "cell_type": "markdown",
   "metadata": {},
   "source": [
    "- 1 stops flights price is seen to be more"
   ]
  },
  {
   "cell_type": "markdown",
   "metadata": {},
   "source": [
    "**3.time-based analysis**\n"
   ]
  },
  {
   "cell_type": "markdown",
   "metadata": {},
   "source": [
    "**days left vs price trend**\n",
    "- To identify how price fluctuate as departure date approaches"
   ]
  },
  {
   "cell_type": "code",
   "execution_count": 1125,
   "metadata": {},
   "outputs": [
    {
     "data": {
      "text/plain": [
       "count    297694.000000\n",
       "mean         26.041620\n",
       "std          13.549304\n",
       "min           1.000000\n",
       "25%          15.000000\n",
       "50%          26.000000\n",
       "75%          38.000000\n",
       "max          49.000000\n",
       "Name: days_left, dtype: float64"
      ]
     },
     "execution_count": 1125,
     "metadata": {},
     "output_type": "execute_result"
    }
   ],
   "source": [
    "df.describe().days_left"
   ]
  },
  {
   "cell_type": "code",
   "execution_count": 1126,
   "metadata": {},
   "outputs": [
    {
     "data": {
      "image/png": "[encoded data removed]",
      "text/plain": [
       "<Figure size 640x480 with 1 Axes>"
      ]
     },
     "metadata": {},
     "output_type": "display_data"
    }
   ],
   "source": [
    "bins = [1, 15, 26, 38, 49]\n",
    "labels = ['1-15', '16-26', '27-38', '39-49']\n",
    "df['days_left_range'] = pd.cut(df['days_left'], bins=bins, labels=labels)\n",
    "\n",
    "stops_price = df.groupby('days_left_range')['price'].median().reset_index()\n",
    "\n",
    "sns.barplot(x='days_left_range', y='price', data=stops_price)\n",
    "plt.title('Flight Price by Number of Stops')\n",
    "plt.show()\n"
   ]
  },
  {
   "cell_type": "markdown",
   "metadata": {},
   "source": [
    "- price of tickets are found to be less as the days_left before actual flight is more"
   ]
  },
  {
   "cell_type": "markdown",
   "metadata": {},
   "source": [
    "**departure and arrival time impact**"
   ]
  },
  {
   "cell_type": "code",
   "execution_count": 1127,
   "metadata": {},
   "outputs": [
    {
     "data": {
      "image/png": "[encoded data removed]",
      "text/plain": [
       "<Figure size 500x300 with 1 Axes>"
      ]
     },
     "metadata": {},
     "output_type": "display_data"
    }
   ],
   "source": [
    "plt.figure(figsize=(5, 3))\n",
    "sns.barplot(x='departure_time', y='price', data=df, palette='viridis', ci=None)\n",
    "plt.title(\"departure time Distribution Across price\")\n",
    "plt.xlabel(\"departure_time\")\n",
    "plt.ylabel(\"price\")\n",
    "plt.xticks(rotation=45)\n",
    "plt.show()"
   ]
  },
  {
   "cell_type": "markdown",
   "metadata": {},
   "source": [
    "- night time flight costs more"
   ]
  },
  {
   "cell_type": "code",
   "execution_count": 1128,
   "metadata": {},
   "outputs": [
    {
     "data": {
      "image/png": "[encoded data removed]",
      "text/plain": [
       "<Figure size 500x300 with 1 Axes>"
      ]
     },
     "metadata": {},
     "output_type": "display_data"
    }
   ],
   "source": [
    "plt.figure(figsize=(5, 3))\n",
    "sns.barplot(x='arrival_time', y='price', data=df, palette='viridis', ci=None)\n",
    "plt.title(\"arrival_time Distribution Across price\")\n",
    "plt.xlabel(\"arrival_time\")\n",
    "plt.ylabel(\"price\")\n",
    "plt.xticks(rotation=45)\n",
    "plt.show()"
   ]
  },
  {
   "cell_type": "markdown",
   "metadata": {},
   "source": [
    "- peak vs off-peak travel time\n",
    "- weekday vs weekend pricing trends"
   ]
  },
  {
   "cell_type": "markdown",
   "metadata": {},
   "source": [
    "**features interactions and derived insights**"
   ]
  },
  {
   "cell_type": "code",
   "execution_count": 1129,
   "metadata": {},
   "outputs": [
    {
     "data": {
      "text/plain": [
       "count    297694.000000\n",
       "mean        723.157104\n",
       "std         418.749206\n",
       "min          49.000000\n",
       "25%         405.000000\n",
       "50%         670.000000\n",
       "75%         960.000000\n",
       "max        1789.000000\n",
       "Name: duration, dtype: float64"
      ]
     },
     "execution_count": 1129,
     "metadata": {},
     "output_type": "execute_result"
    }
   ],
   "source": [
    "df.describe().duration"
   ]
  },
  {
   "cell_type": "code",
   "execution_count": 1130,
   "metadata": {},
   "outputs": [
    {
     "data": {
      "image/png": "[encoded data removed]",
      "text/plain": [
       "<Figure size 640x480 with 1 Axes>"
      ]
     },
     "metadata": {},
     "output_type": "display_data"
    }
   ],
   "source": [
    "bins = [49, 405, 670,960, 1789]\n",
    "labels = ['49-405', '405-670', '670-960', '960-1789']\n",
    "df['duration_range'] = pd.cut(df['duration'], bins=bins, labels=labels)\n",
    "\n",
    "stops_price = df.groupby('duration_range')['price'].median().reset_index()\n",
    "\n",
    "sns.barplot(x='duration_range', y='price', data=stops_price)\n",
    "plt.title('Flight Price by Number of Stops')\n",
    "plt.show()\n"
   ]
  },
  {
   "cell_type": "markdown",
   "metadata": {},
   "source": [
    "- the more duration, the more flight price is seen which is unusual"
   ]
  },
  {
   "cell_type": "markdown",
   "metadata": {},
   "source": [
    "**airline vs class interaction**"
   ]
  },
  {
   "cell_type": "code",
   "execution_count": 1131,
   "metadata": {},
   "outputs": [
    {
     "data": {
      "image/png": "[encoded data removed]",
      "text/plain": [
       "<Figure size 500x300 with 1 Axes>"
      ]
     },
     "metadata": {},
     "output_type": "display_data"
    }
   ],
   "source": [
    "plt.figure(figsize=(5, 3))\n",
    "sns.barplot(x='class', y='airline', data=df, palette='viridis', ci=None)\n",
    "plt.title(\"class Distribution Across airline\")\n",
    "plt.xlabel(\"class\")\n",
    "plt.ylabel(\"airline\")\n",
    "plt.xticks(rotation=45)\n",
    "plt.show()\n"
   ]
  },
  {
   "cell_type": "markdown",
   "metadata": {},
   "source": [
    "**feature engineering**\n",
    "- Flight Age (days left before departure). (exist)\n",
    "- Price per Kilometer (if distance data available). (distance data not available)\n",
    "- Red-Eye Flight Indicator (late-night departures). ( late-night flight that departs late in the evening or at night and arrives the following morning)\n",
    "- Peak Season Flag (based on month).(not given)"
   ]
  },
  {
   "cell_type": "code",
   "execution_count": 1132,
   "metadata": {},
   "outputs": [
    {
     "data": {
      "text/html": [
       "<div>\n",
       "<style scoped>\n",
       "    .dataframe tbody tr th:only-of-type {\n",
       "        vertical-align: middle;\n",
       "    }\n",
       "\n",
       "    .dataframe tbody tr th {\n",
       "        vertical-align: top;\n",
       "    }\n",
       "\n",
       "    .dataframe thead th {\n",
       "        text-align: right;\n",
       "    }\n",
       "</style>\n",
       "<table border=\"1\" class=\"dataframe\">\n",
       "  <thead>\n",
       "    <tr style=\"text-align: right;\">\n",
       "      <th></th>\n",
       "      <th>departure_time</th>\n",
       "      <th>stops</th>\n",
       "      <th>arrival_time</th>\n",
       "      <th>days_left</th>\n",
       "      <th>price</th>\n",
       "      <th>duration</th>\n",
       "      <th>airline_AirAsia</th>\n",
       "      <th>airline_Air_India</th>\n",
       "      <th>airline_GO_FIRST</th>\n",
       "      <th>airline_Indigo</th>\n",
       "      <th>...</th>\n",
       "      <th>route_Kolkata to Chennai</th>\n",
       "      <th>route_Kolkata to Delhi</th>\n",
       "      <th>route_Kolkata to Hyderabad</th>\n",
       "      <th>route_Kolkata to Mumbai</th>\n",
       "      <th>route_Mumbai to Bangalore</th>\n",
       "      <th>route_Mumbai to Chennai</th>\n",
       "      <th>route_Mumbai to Delhi</th>\n",
       "      <th>route_Mumbai to Hyderabad</th>\n",
       "      <th>route_Mumbai to Kolkata</th>\n",
       "      <th>price Group</th>\n",
       "    </tr>\n",
       "  </thead>\n",
       "  <tbody>\n",
       "    <tr>\n",
       "      <th>0</th>\n",
       "      <td>18</td>\n",
       "      <td>0</td>\n",
       "      <td>21</td>\n",
       "      <td>1</td>\n",
       "      <td>5953</td>\n",
       "      <td>130</td>\n",
       "      <td>0</td>\n",
       "      <td>0</td>\n",
       "      <td>0</td>\n",
       "      <td>0</td>\n",
       "      <td>...</td>\n",
       "      <td>0</td>\n",
       "      <td>0</td>\n",
       "      <td>0</td>\n",
       "      <td>0</td>\n",
       "      <td>0</td>\n",
       "      <td>0</td>\n",
       "      <td>0</td>\n",
       "      <td>0</td>\n",
       "      <td>0</td>\n",
       "      <td>1</td>\n",
       "    </tr>\n",
       "    <tr>\n",
       "      <th>1</th>\n",
       "      <td>5</td>\n",
       "      <td>0</td>\n",
       "      <td>8</td>\n",
       "      <td>1</td>\n",
       "      <td>5953</td>\n",
       "      <td>139</td>\n",
       "      <td>0</td>\n",
       "      <td>0</td>\n",
       "      <td>0</td>\n",
       "      <td>0</td>\n",
       "      <td>...</td>\n",
       "      <td>0</td>\n",
       "      <td>0</td>\n",
       "      <td>0</td>\n",
       "      <td>0</td>\n",
       "      <td>0</td>\n",
       "      <td>0</td>\n",
       "      <td>0</td>\n",
       "      <td>0</td>\n",
       "      <td>0</td>\n",
       "      <td>1</td>\n",
       "    </tr>\n",
       "    <tr>\n",
       "      <th>2</th>\n",
       "      <td>8</td>\n",
       "      <td>0</td>\n",
       "      <td>14</td>\n",
       "      <td>1</td>\n",
       "      <td>5955</td>\n",
       "      <td>135</td>\n",
       "      <td>0</td>\n",
       "      <td>0</td>\n",
       "      <td>0</td>\n",
       "      <td>0</td>\n",
       "      <td>...</td>\n",
       "      <td>0</td>\n",
       "      <td>0</td>\n",
       "      <td>0</td>\n",
       "      <td>0</td>\n",
       "      <td>0</td>\n",
       "      <td>0</td>\n",
       "      <td>0</td>\n",
       "      <td>0</td>\n",
       "      <td>0</td>\n",
       "      <td>1</td>\n",
       "    </tr>\n",
       "    <tr>\n",
       "      <th>3</th>\n",
       "      <td>8</td>\n",
       "      <td>0</td>\n",
       "      <td>14</td>\n",
       "      <td>1</td>\n",
       "      <td>5955</td>\n",
       "      <td>139</td>\n",
       "      <td>0</td>\n",
       "      <td>0</td>\n",
       "      <td>0</td>\n",
       "      <td>0</td>\n",
       "      <td>...</td>\n",
       "      <td>0</td>\n",
       "      <td>0</td>\n",
       "      <td>0</td>\n",
       "      <td>0</td>\n",
       "      <td>0</td>\n",
       "      <td>0</td>\n",
       "      <td>0</td>\n",
       "      <td>0</td>\n",
       "      <td>0</td>\n",
       "      <td>1</td>\n",
       "    </tr>\n",
       "    <tr>\n",
       "      <th>4</th>\n",
       "      <td>14</td>\n",
       "      <td>0</td>\n",
       "      <td>18</td>\n",
       "      <td>1</td>\n",
       "      <td>6060</td>\n",
       "      <td>130</td>\n",
       "      <td>0</td>\n",
       "      <td>0</td>\n",
       "      <td>0</td>\n",
       "      <td>0</td>\n",
       "      <td>...</td>\n",
       "      <td>0</td>\n",
       "      <td>0</td>\n",
       "      <td>0</td>\n",
       "      <td>0</td>\n",
       "      <td>0</td>\n",
       "      <td>0</td>\n",
       "      <td>0</td>\n",
       "      <td>0</td>\n",
       "      <td>0</td>\n",
       "      <td>1</td>\n",
       "    </tr>\n",
       "  </tbody>\n",
       "</table>\n",
       "<p>5 rows × 45 columns</p>\n",
       "</div>"
      ],
      "text/plain": [
       "   departure_time  stops  arrival_time  days_left  price  duration  \\\n",
       "0              18      0            21          1   5953       130   \n",
       "1               5      0             8          1   5953       139   \n",
       "2               8      0            14          1   5955       135   \n",
       "3               8      0            14          1   5955       139   \n",
       "4              14      0            18          1   6060       130   \n",
       "\n",
       "   airline_AirAsia  airline_Air_India  airline_GO_FIRST  airline_Indigo  ...  \\\n",
       "0                0                  0                 0               0  ...   \n",
       "1                0                  0                 0               0  ...   \n",
       "2                0                  0                 0               0  ...   \n",
       "3                0                  0                 0               0  ...   \n",
       "4                0                  0                 0               0  ...   \n",
       "\n",
       "   route_Kolkata to Chennai  route_Kolkata to Delhi  \\\n",
       "0                         0                       0   \n",
       "1                         0                       0   \n",
       "2                         0                       0   \n",
       "3                         0                       0   \n",
       "4                         0                       0   \n",
       "\n",
       "   route_Kolkata to Hyderabad  route_Kolkata to Mumbai  \\\n",
       "0                           0                        0   \n",
       "1                           0                        0   \n",
       "2                           0                        0   \n",
       "3                           0                        0   \n",
       "4                           0                        0   \n",
       "\n",
       "   route_Mumbai to Bangalore  route_Mumbai to Chennai  route_Mumbai to Delhi  \\\n",
       "0                          0                        0                      0   \n",
       "1                          0                        0                      0   \n",
       "2                          0                        0                      0   \n",
       "3                          0                        0                      0   \n",
       "4                          0                        0                      0   \n",
       "\n",
       "   route_Mumbai to Hyderabad  route_Mumbai to Kolkata  price Group  \n",
       "0                          0                        0            1  \n",
       "1                          0                        0            1  \n",
       "2                          0                        0            1  \n",
       "3                          0                        0            1  \n",
       "4                          0                        0            1  \n",
       "\n",
       "[5 rows x 45 columns]"
      ]
     },
     "execution_count": 1132,
     "metadata": {},
     "output_type": "execute_result"
    }
   ],
   "source": [
    "# now cleaned.csv acts as a dataframe\n",
    "df=pd.read_csv('cleaned1.csv')\n",
    "df.head()"
   ]
  },
  {
   "cell_type": "markdown",
   "metadata": {},
   "source": [
    "**red-eye flight indicator**"
   ]
  },
  {
   "cell_type": "code",
   "execution_count": 1133,
   "metadata": {},
   "outputs": [
    {
     "name": "stdout",
     "output_type": "stream",
     "text": [
      "   departure_time  stops  arrival_time  days_left  price  duration  \\\n",
      "0              18      0            21          1   5953       130   \n",
      "1               5      0             8          1   5953       139   \n",
      "2               8      0            14          1   5955       135   \n",
      "3               8      0            14          1   5955       139   \n",
      "4              14      0            18          1   6060       130   \n",
      "\n",
      "   airline_AirAsia  airline_Air_India  airline_GO_FIRST  airline_Indigo  ...  \\\n",
      "0                0                  0                 0               0  ...   \n",
      "1                0                  0                 0               0  ...   \n",
      "2                0                  0                 0               0  ...   \n",
      "3                0                  0                 0               0  ...   \n",
      "4                0                  0                 0               0  ...   \n",
      "\n",
      "   route_Kolkata to Delhi  route_Kolkata to Hyderabad  \\\n",
      "0                       0                           0   \n",
      "1                       0                           0   \n",
      "2                       0                           0   \n",
      "3                       0                           0   \n",
      "4                       0                           0   \n",
      "\n",
      "   route_Kolkata to Mumbai  route_Mumbai to Bangalore  \\\n",
      "0                        0                          0   \n",
      "1                        0                          0   \n",
      "2                        0                          0   \n",
      "3                        0                          0   \n",
      "4                        0                          0   \n",
      "\n",
      "   route_Mumbai to Chennai  route_Mumbai to Delhi  route_Mumbai to Hyderabad  \\\n",
      "0                        0                      0                          0   \n",
      "1                        0                      0                          0   \n",
      "2                        0                      0                          0   \n",
      "3                        0                      0                          0   \n",
      "4                        0                      0                          0   \n",
      "\n",
      "   route_Mumbai to Kolkata  price Group  red_eye_flight  \n",
      "0                        0            1               0  \n",
      "1                        0            1               0  \n",
      "2                        0            1               0  \n",
      "3                        0            1               0  \n",
      "4                        0            1               0  \n",
      "\n",
      "[5 rows x 46 columns]\n"
     ]
    }
   ],
   "source": [
    "# Creating new column based on conditions\n",
    "df['red_eye_flight'] = np.where((df['departure_time'] == 23) & (df['arrival_time'].isin([5, 8])), 5, 8)\n",
    "df['red_eye_flight'] = df.apply(lambda row: 1 if row['departure_time'] == 23 and row['arrival_time'] in [5, 8] else 0, axis=1)\n",
    "\n",
    "print(df.head())"
   ]
  },
  {
   "cell_type": "code",
   "execution_count": 1134,
   "metadata": {},
   "outputs": [
    {
     "data": {
      "text/plain": [
       "Index(['departure_time', 'stops', 'arrival_time', 'days_left', 'price',\n",
       "       'duration', 'airline_AirAsia', 'airline_Air_India', 'airline_GO_FIRST',\n",
       "       'airline_Indigo', 'airline_SpiceJet', 'airline_Vistara',\n",
       "       'class_Business', 'class_Economy', 'route_Bangalore to Chennai',\n",
       "       'route_Bangalore to Delhi', 'route_Bangalore to Hyderabad',\n",
       "       'route_Bangalore to Kolkata', 'route_Bangalore to Mumbai',\n",
       "       'route_Chennai to Bangalore', 'route_Chennai to Delhi',\n",
       "       'route_Chennai to Hyderabad', 'route_Chennai to Kolkata',\n",
       "       'route_Chennai to Mumbai', 'route_Delhi to Bangalore',\n",
       "       'route_Delhi to Chennai', 'route_Delhi to Hyderabad',\n",
       "       'route_Delhi to Kolkata', 'route_Delhi to Mumbai',\n",
       "       'route_Hyderabad to Bangalore', 'route_Hyderabad to Chennai',\n",
       "       'route_Hyderabad to Delhi', 'route_Hyderabad to Kolkata',\n",
       "       'route_Hyderabad to Mumbai', 'route_Kolkata to Bangalore',\n",
       "       'route_Kolkata to Chennai', 'route_Kolkata to Delhi',\n",
       "       'route_Kolkata to Hyderabad', 'route_Kolkata to Mumbai',\n",
       "       'route_Mumbai to Bangalore', 'route_Mumbai to Chennai',\n",
       "       'route_Mumbai to Delhi', 'route_Mumbai to Hyderabad',\n",
       "       'route_Mumbai to Kolkata', 'price Group', 'red_eye_flight'],\n",
       "      dtype='object')"
      ]
     },
     "execution_count": 1134,
     "metadata": {},
     "output_type": "execute_result"
    }
   ],
   "source": [
    "df.columns"
   ]
  },
  {
   "cell_type": "code",
   "execution_count": 1135,
   "metadata": {},
   "outputs": [],
   "source": [
    "# import pandas as pd\n",
    "\n",
    "# # Read the first CSV file (where the column exists)\n",
    "# df1 = pd.read_csv('Clean_Dataset1.csv')\n",
    "\n",
    "# # Read the second CSV file (where you want to copy the column)\n",
    "# df2 = pd.read_csv('cleaned.csv')\n",
    "\n",
    "# # Select the specific column from the first CSV file\n",
    "# column_to_add = df1[['price Group']]  # Replace 'column_name' with the actual column name\n",
    "\n",
    "# # Concatenate the selected column with the second CSV file\n",
    "# df2 = pd.concat([df2, column_to_add], axis=1)\n",
    "\n",
    "# # Save the updated second CSV file\n",
    "# df2.to_csv('cleaned2.csv', index=False)\n"
   ]
  },
  {
   "cell_type": "code",
   "execution_count": 1136,
   "metadata": {},
   "outputs": [
    {
     "data": {
      "text/html": [
       "<div>\n",
       "<style scoped>\n",
       "    .dataframe tbody tr th:only-of-type {\n",
       "        vertical-align: middle;\n",
       "    }\n",
       "\n",
       "    .dataframe tbody tr th {\n",
       "        vertical-align: top;\n",
       "    }\n",
       "\n",
       "    .dataframe thead th {\n",
       "        text-align: right;\n",
       "    }\n",
       "</style>\n",
       "<table border=\"1\" class=\"dataframe\">\n",
       "  <thead>\n",
       "    <tr style=\"text-align: right;\">\n",
       "      <th></th>\n",
       "      <th>departure_time</th>\n",
       "      <th>stops</th>\n",
       "      <th>arrival_time</th>\n",
       "      <th>days_left</th>\n",
       "      <th>price</th>\n",
       "      <th>duration</th>\n",
       "      <th>airline_AirAsia</th>\n",
       "      <th>airline_Air_India</th>\n",
       "      <th>airline_GO_FIRST</th>\n",
       "      <th>airline_Indigo</th>\n",
       "      <th>...</th>\n",
       "      <th>route_Kolkata to Delhi</th>\n",
       "      <th>route_Kolkata to Hyderabad</th>\n",
       "      <th>route_Kolkata to Mumbai</th>\n",
       "      <th>route_Mumbai to Bangalore</th>\n",
       "      <th>route_Mumbai to Chennai</th>\n",
       "      <th>route_Mumbai to Delhi</th>\n",
       "      <th>route_Mumbai to Hyderabad</th>\n",
       "      <th>route_Mumbai to Kolkata</th>\n",
       "      <th>price Group</th>\n",
       "      <th>red_eye_flight</th>\n",
       "    </tr>\n",
       "  </thead>\n",
       "  <tbody>\n",
       "    <tr>\n",
       "      <th>0</th>\n",
       "      <td>18</td>\n",
       "      <td>0</td>\n",
       "      <td>21</td>\n",
       "      <td>1</td>\n",
       "      <td>5953</td>\n",
       "      <td>130</td>\n",
       "      <td>0</td>\n",
       "      <td>0</td>\n",
       "      <td>0</td>\n",
       "      <td>0</td>\n",
       "      <td>...</td>\n",
       "      <td>0</td>\n",
       "      <td>0</td>\n",
       "      <td>0</td>\n",
       "      <td>0</td>\n",
       "      <td>0</td>\n",
       "      <td>0</td>\n",
       "      <td>0</td>\n",
       "      <td>0</td>\n",
       "      <td>1</td>\n",
       "      <td>0</td>\n",
       "    </tr>\n",
       "    <tr>\n",
       "      <th>1</th>\n",
       "      <td>5</td>\n",
       "      <td>0</td>\n",
       "      <td>8</td>\n",
       "      <td>1</td>\n",
       "      <td>5953</td>\n",
       "      <td>139</td>\n",
       "      <td>0</td>\n",
       "      <td>0</td>\n",
       "      <td>0</td>\n",
       "      <td>0</td>\n",
       "      <td>...</td>\n",
       "      <td>0</td>\n",
       "      <td>0</td>\n",
       "      <td>0</td>\n",
       "      <td>0</td>\n",
       "      <td>0</td>\n",
       "      <td>0</td>\n",
       "      <td>0</td>\n",
       "      <td>0</td>\n",
       "      <td>1</td>\n",
       "      <td>0</td>\n",
       "    </tr>\n",
       "    <tr>\n",
       "      <th>2</th>\n",
       "      <td>8</td>\n",
       "      <td>0</td>\n",
       "      <td>14</td>\n",
       "      <td>1</td>\n",
       "      <td>5955</td>\n",
       "      <td>135</td>\n",
       "      <td>0</td>\n",
       "      <td>0</td>\n",
       "      <td>0</td>\n",
       "      <td>0</td>\n",
       "      <td>...</td>\n",
       "      <td>0</td>\n",
       "      <td>0</td>\n",
       "      <td>0</td>\n",
       "      <td>0</td>\n",
       "      <td>0</td>\n",
       "      <td>0</td>\n",
       "      <td>0</td>\n",
       "      <td>0</td>\n",
       "      <td>1</td>\n",
       "      <td>0</td>\n",
       "    </tr>\n",
       "    <tr>\n",
       "      <th>3</th>\n",
       "      <td>8</td>\n",
       "      <td>0</td>\n",
       "      <td>14</td>\n",
       "      <td>1</td>\n",
       "      <td>5955</td>\n",
       "      <td>139</td>\n",
       "      <td>0</td>\n",
       "      <td>0</td>\n",
       "      <td>0</td>\n",
       "      <td>0</td>\n",
       "      <td>...</td>\n",
       "      <td>0</td>\n",
       "      <td>0</td>\n",
       "      <td>0</td>\n",
       "      <td>0</td>\n",
       "      <td>0</td>\n",
       "      <td>0</td>\n",
       "      <td>0</td>\n",
       "      <td>0</td>\n",
       "      <td>1</td>\n",
       "      <td>0</td>\n",
       "    </tr>\n",
       "    <tr>\n",
       "      <th>4</th>\n",
       "      <td>14</td>\n",
       "      <td>0</td>\n",
       "      <td>18</td>\n",
       "      <td>1</td>\n",
       "      <td>6060</td>\n",
       "      <td>130</td>\n",
       "      <td>0</td>\n",
       "      <td>0</td>\n",
       "      <td>0</td>\n",
       "      <td>0</td>\n",
       "      <td>...</td>\n",
       "      <td>0</td>\n",
       "      <td>0</td>\n",
       "      <td>0</td>\n",
       "      <td>0</td>\n",
       "      <td>0</td>\n",
       "      <td>0</td>\n",
       "      <td>0</td>\n",
       "      <td>0</td>\n",
       "      <td>1</td>\n",
       "      <td>0</td>\n",
       "    </tr>\n",
       "  </tbody>\n",
       "</table>\n",
       "<p>5 rows × 46 columns</p>\n",
       "</div>"
      ],
      "text/plain": [
       "   departure_time  stops  arrival_time  days_left  price  duration  \\\n",
       "0              18      0            21          1   5953       130   \n",
       "1               5      0             8          1   5953       139   \n",
       "2               8      0            14          1   5955       135   \n",
       "3               8      0            14          1   5955       139   \n",
       "4              14      0            18          1   6060       130   \n",
       "\n",
       "   airline_AirAsia  airline_Air_India  airline_GO_FIRST  airline_Indigo  ...  \\\n",
       "0                0                  0                 0               0  ...   \n",
       "1                0                  0                 0               0  ...   \n",
       "2                0                  0                 0               0  ...   \n",
       "3                0                  0                 0               0  ...   \n",
       "4                0                  0                 0               0  ...   \n",
       "\n",
       "   route_Kolkata to Delhi  route_Kolkata to Hyderabad  \\\n",
       "0                       0                           0   \n",
       "1                       0                           0   \n",
       "2                       0                           0   \n",
       "3                       0                           0   \n",
       "4                       0                           0   \n",
       "\n",
       "   route_Kolkata to Mumbai  route_Mumbai to Bangalore  \\\n",
       "0                        0                          0   \n",
       "1                        0                          0   \n",
       "2                        0                          0   \n",
       "3                        0                          0   \n",
       "4                        0                          0   \n",
       "\n",
       "   route_Mumbai to Chennai  route_Mumbai to Delhi  route_Mumbai to Hyderabad  \\\n",
       "0                        0                      0                          0   \n",
       "1                        0                      0                          0   \n",
       "2                        0                      0                          0   \n",
       "3                        0                      0                          0   \n",
       "4                        0                      0                          0   \n",
       "\n",
       "   route_Mumbai to Kolkata  price Group  red_eye_flight  \n",
       "0                        0            1               0  \n",
       "1                        0            1               0  \n",
       "2                        0            1               0  \n",
       "3                        0            1               0  \n",
       "4                        0            1               0  \n",
       "\n",
       "[5 rows x 46 columns]"
      ]
     },
     "execution_count": 1136,
     "metadata": {},
     "output_type": "execute_result"
    }
   ],
   "source": [
    "# df=df.drop(columns=['days_left_range'],axis=1)\n",
    "# df=df.drop(columns=['duration_range'],axis=1)\n",
    "df.head()"
   ]
  },
  {
   "cell_type": "markdown",
   "metadata": {},
   "source": [
    "# Skewness"
   ]
  },
  {
   "cell_type": "markdown",
   "metadata": {},
   "source": [
    "**skewness before scaling**"
   ]
  },
  {
   "cell_type": "code",
   "execution_count": 1137,
   "metadata": {},
   "outputs": [
    {
     "data": {
      "image/png": "[encoded data removed]",
      "text/plain": [
       "<Figure size 500x300 with 1 Axes>"
      ]
     },
     "metadata": {},
     "output_type": "display_data"
    }
   ],
   "source": [
    "plt.figure(figsize=(5, 3)) # Figsize(width, height)\n",
    "sns.histplot(data=df[\"price\"], bins=25, kde=True) \n",
    "plt.title('Distribution of price')\n",
    "plt.xlabel('price')\n",
    "plt.ylabel('Frequency')\n",
    "plt.show()"
   ]
  },
  {
   "cell_type": "code",
   "execution_count": 1138,
   "metadata": {},
   "outputs": [
    {
     "name": "stdout",
     "output_type": "stream",
     "text": [
      "Skewness value of duration:  0.689704948415029\n",
      "Skewness value of price:  1.0287707310833316\n",
      "Skewness value of days_left:  -0.04031871367662519\n"
     ]
    }
   ],
   "source": [
    "print(\"Skewness value of duration: \", df[\"duration\"].skew())\n",
    "print(\"Skewness value of price: \", df[\"price\"].skew())\n",
    "print(\"Skewness value of days_left: \", df[\"days_left\"].skew())\n"
   ]
  },
  {
   "cell_type": "markdown",
   "metadata": {},
   "source": [
    "q. when normalize and when standardize?"
   ]
  },
  {
   "cell_type": "code",
   "execution_count": 1139,
   "metadata": {},
   "outputs": [
    {
     "name": "stdout",
     "output_type": "stream",
     "text": [
      "        departure_time  stops  arrival_time  days_left     price  duration  \\\n",
      "0             0.722222      0      0.888889        0.0  0.049537  0.046552   \n",
      "1             0.000000      0      0.166667        0.0  0.049537  0.051724   \n",
      "2             0.166667      0      0.500000        0.0  0.049557  0.049425   \n",
      "3             0.166667      0      0.500000        0.0  0.049557  0.051724   \n",
      "4             0.500000      0      0.722222        0.0  0.050630  0.046552   \n",
      "...                ...    ...           ...        ...       ...       ...   \n",
      "258300        0.166667      1      0.722222        1.0  0.696455  0.318966   \n",
      "258301        0.500000      1      0.888889        1.0  0.776564  0.331034   \n",
      "258302        0.000000      1      0.888889        1.0  0.796939  0.448276   \n",
      "258303        0.000000      1      0.722222        1.0  0.822341  0.316667   \n",
      "258304        0.166667      1      0.722222        1.0  0.822341  0.318966   \n",
      "\n",
      "        airline_AirAsia  airline_Air_India  airline_GO_FIRST  airline_Indigo  \\\n",
      "0                     0                  0                 0               0   \n",
      "1                     0                  0                 0               0   \n",
      "2                     0                  0                 0               0   \n",
      "3                     0                  0                 0               0   \n",
      "4                     0                  0                 0               0   \n",
      "...                 ...                ...               ...             ...   \n",
      "258300                0                  0                 0               0   \n",
      "258301                0                  0                 0               0   \n",
      "258302                0                  0                 0               0   \n",
      "258303                0                  0                 0               0   \n",
      "258304                0                  0                 0               0   \n",
      "\n",
      "        ...  route_Kolkata to Delhi  route_Kolkata to Hyderabad  \\\n",
      "0       ...                       0                           0   \n",
      "1       ...                       0                           0   \n",
      "2       ...                       0                           0   \n",
      "3       ...                       0                           0   \n",
      "4       ...                       0                           0   \n",
      "...     ...                     ...                         ...   \n",
      "258300  ...                       0                           0   \n",
      "258301  ...                       0                           0   \n",
      "258302  ...                       0                           0   \n",
      "258303  ...                       0                           0   \n",
      "258304  ...                       0                           0   \n",
      "\n",
      "        route_Kolkata to Mumbai  route_Mumbai to Bangalore  \\\n",
      "0                             0                          0   \n",
      "1                             0                          0   \n",
      "2                             0                          0   \n",
      "3                             0                          0   \n",
      "4                             0                          0   \n",
      "...                         ...                        ...   \n",
      "258300                        0                          0   \n",
      "258301                        0                          0   \n",
      "258302                        0                          0   \n",
      "258303                        0                          0   \n",
      "258304                        0                          0   \n",
      "\n",
      "        route_Mumbai to Chennai  route_Mumbai to Delhi  \\\n",
      "0                             0                      0   \n",
      "1                             0                      0   \n",
      "2                             0                      0   \n",
      "3                             0                      0   \n",
      "4                             0                      0   \n",
      "...                         ...                    ...   \n",
      "258300                        0                      0   \n",
      "258301                        0                      0   \n",
      "258302                        0                      0   \n",
      "258303                        0                      0   \n",
      "258304                        0                      0   \n",
      "\n",
      "        route_Mumbai to Hyderabad  route_Mumbai to Kolkata  price Group  \\\n",
      "0                               0                        0            1   \n",
      "1                               0                        0            1   \n",
      "2                               0                        0            1   \n",
      "3                               0                        0            1   \n",
      "4                               0                        0            1   \n",
      "...                           ...                      ...          ...   \n",
      "258300                          0                        0            2   \n",
      "258301                          0                        0            2   \n",
      "258302                          0                        0            2   \n",
      "258303                          0                        0            2   \n",
      "258304                          0                        0            2   \n",
      "\n",
      "        red_eye_flight  \n",
      "0                    0  \n",
      "1                    0  \n",
      "2                    0  \n",
      "3                    0  \n",
      "4                    0  \n",
      "...                ...  \n",
      "258300               0  \n",
      "258301               0  \n",
      "258302               0  \n",
      "258303               0  \n",
      "258304               0  \n",
      "\n",
      "[258305 rows x 46 columns]\n"
     ]
    }
   ],
   "source": [
    "from sklearn.preprocessing import MinMaxScaler\n",
    "# Initialize MinMaxScaler\n",
    "scaler = MinMaxScaler()\n",
    "\n",
    "# Select the columns to scale\n",
    "columns_to_scale = ['duration', 'price', 'days_left','departure_time','arrival_time']\n",
    "\n",
    "# Apply Min-Max Scaling\n",
    "df[columns_to_scale] = scaler.fit_transform(df[columns_to_scale])\n",
    "\n",
    "print(df)"
   ]
  },
  {
   "cell_type": "code",
   "execution_count": 1140,
   "metadata": {},
   "outputs": [
    {
     "name": "stdout",
     "output_type": "stream",
     "text": [
      "Skewness value of duration:  0.68970494841503\n",
      "Skewness value of price:  1.0287707310833318\n",
      "Skewness value of days_left:  -0.04031871367662643\n"
     ]
    }
   ],
   "source": [
    "print(\"Skewness value of duration: \", df[\"duration\"].skew())\n",
    "print(\"Skewness value of price: \", df[\"price\"].skew())\n",
    "print(\"Skewness value of days_left: \", df[\"days_left\"].skew())\n"
   ]
  },
  {
   "cell_type": "code",
   "execution_count": 1141,
   "metadata": {},
   "outputs": [],
   "source": [
    "df.to_csv(\"cleaned2.csv\", index=False)"
   ]
  },
  {
   "cell_type": "code",
   "execution_count": 1142,
   "metadata": {},
   "outputs": [
    {
     "data": {
      "text/html": [
       "<div>\n",
       "<style scoped>\n",
       "    .dataframe tbody tr th:only-of-type {\n",
       "        vertical-align: middle;\n",
       "    }\n",
       "\n",
       "    .dataframe tbody tr th {\n",
       "        vertical-align: top;\n",
       "    }\n",
       "\n",
       "    .dataframe thead th {\n",
       "        text-align: right;\n",
       "    }\n",
       "</style>\n",
       "<table border=\"1\" class=\"dataframe\">\n",
       "  <thead>\n",
       "    <tr style=\"text-align: right;\">\n",
       "      <th></th>\n",
       "      <th>departure_time</th>\n",
       "      <th>stops</th>\n",
       "      <th>arrival_time</th>\n",
       "      <th>days_left</th>\n",
       "      <th>price</th>\n",
       "      <th>duration</th>\n",
       "      <th>airline_AirAsia</th>\n",
       "      <th>airline_Air_India</th>\n",
       "      <th>airline_GO_FIRST</th>\n",
       "      <th>airline_Indigo</th>\n",
       "      <th>...</th>\n",
       "      <th>route_Kolkata to Delhi</th>\n",
       "      <th>route_Kolkata to Hyderabad</th>\n",
       "      <th>route_Kolkata to Mumbai</th>\n",
       "      <th>route_Mumbai to Bangalore</th>\n",
       "      <th>route_Mumbai to Chennai</th>\n",
       "      <th>route_Mumbai to Delhi</th>\n",
       "      <th>route_Mumbai to Hyderabad</th>\n",
       "      <th>route_Mumbai to Kolkata</th>\n",
       "      <th>price Group</th>\n",
       "      <th>red_eye_flight</th>\n",
       "    </tr>\n",
       "  </thead>\n",
       "  <tbody>\n",
       "    <tr>\n",
       "      <th>0</th>\n",
       "      <td>0.722222</td>\n",
       "      <td>0</td>\n",
       "      <td>0.888889</td>\n",
       "      <td>0.0</td>\n",
       "      <td>0.049537</td>\n",
       "      <td>0.046552</td>\n",
       "      <td>0</td>\n",
       "      <td>0</td>\n",
       "      <td>0</td>\n",
       "      <td>0</td>\n",
       "      <td>...</td>\n",
       "      <td>0</td>\n",
       "      <td>0</td>\n",
       "      <td>0</td>\n",
       "      <td>0</td>\n",
       "      <td>0</td>\n",
       "      <td>0</td>\n",
       "      <td>0</td>\n",
       "      <td>0</td>\n",
       "      <td>1</td>\n",
       "      <td>0</td>\n",
       "    </tr>\n",
       "    <tr>\n",
       "      <th>1</th>\n",
       "      <td>0.000000</td>\n",
       "      <td>0</td>\n",
       "      <td>0.166667</td>\n",
       "      <td>0.0</td>\n",
       "      <td>0.049537</td>\n",
       "      <td>0.051724</td>\n",
       "      <td>0</td>\n",
       "      <td>0</td>\n",
       "      <td>0</td>\n",
       "      <td>0</td>\n",
       "      <td>...</td>\n",
       "      <td>0</td>\n",
       "      <td>0</td>\n",
       "      <td>0</td>\n",
       "      <td>0</td>\n",
       "      <td>0</td>\n",
       "      <td>0</td>\n",
       "      <td>0</td>\n",
       "      <td>0</td>\n",
       "      <td>1</td>\n",
       "      <td>0</td>\n",
       "    </tr>\n",
       "    <tr>\n",
       "      <th>2</th>\n",
       "      <td>0.166667</td>\n",
       "      <td>0</td>\n",
       "      <td>0.500000</td>\n",
       "      <td>0.0</td>\n",
       "      <td>0.049557</td>\n",
       "      <td>0.049425</td>\n",
       "      <td>0</td>\n",
       "      <td>0</td>\n",
       "      <td>0</td>\n",
       "      <td>0</td>\n",
       "      <td>...</td>\n",
       "      <td>0</td>\n",
       "      <td>0</td>\n",
       "      <td>0</td>\n",
       "      <td>0</td>\n",
       "      <td>0</td>\n",
       "      <td>0</td>\n",
       "      <td>0</td>\n",
       "      <td>0</td>\n",
       "      <td>1</td>\n",
       "      <td>0</td>\n",
       "    </tr>\n",
       "    <tr>\n",
       "      <th>3</th>\n",
       "      <td>0.166667</td>\n",
       "      <td>0</td>\n",
       "      <td>0.500000</td>\n",
       "      <td>0.0</td>\n",
       "      <td>0.049557</td>\n",
       "      <td>0.051724</td>\n",
       "      <td>0</td>\n",
       "      <td>0</td>\n",
       "      <td>0</td>\n",
       "      <td>0</td>\n",
       "      <td>...</td>\n",
       "      <td>0</td>\n",
       "      <td>0</td>\n",
       "      <td>0</td>\n",
       "      <td>0</td>\n",
       "      <td>0</td>\n",
       "      <td>0</td>\n",
       "      <td>0</td>\n",
       "      <td>0</td>\n",
       "      <td>1</td>\n",
       "      <td>0</td>\n",
       "    </tr>\n",
       "    <tr>\n",
       "      <th>4</th>\n",
       "      <td>0.500000</td>\n",
       "      <td>0</td>\n",
       "      <td>0.722222</td>\n",
       "      <td>0.0</td>\n",
       "      <td>0.050630</td>\n",
       "      <td>0.046552</td>\n",
       "      <td>0</td>\n",
       "      <td>0</td>\n",
       "      <td>0</td>\n",
       "      <td>0</td>\n",
       "      <td>...</td>\n",
       "      <td>0</td>\n",
       "      <td>0</td>\n",
       "      <td>0</td>\n",
       "      <td>0</td>\n",
       "      <td>0</td>\n",
       "      <td>0</td>\n",
       "      <td>0</td>\n",
       "      <td>0</td>\n",
       "      <td>1</td>\n",
       "      <td>0</td>\n",
       "    </tr>\n",
       "  </tbody>\n",
       "</table>\n",
       "<p>5 rows × 46 columns</p>\n",
       "</div>"
      ],
      "text/plain": [
       "   departure_time  stops  arrival_time  days_left     price  duration  \\\n",
       "0        0.722222      0      0.888889        0.0  0.049537  0.046552   \n",
       "1        0.000000      0      0.166667        0.0  0.049537  0.051724   \n",
       "2        0.166667      0      0.500000        0.0  0.049557  0.049425   \n",
       "3        0.166667      0      0.500000        0.0  0.049557  0.051724   \n",
       "4        0.500000      0      0.722222        0.0  0.050630  0.046552   \n",
       "\n",
       "   airline_AirAsia  airline_Air_India  airline_GO_FIRST  airline_Indigo  ...  \\\n",
       "0                0                  0                 0               0  ...   \n",
       "1                0                  0                 0               0  ...   \n",
       "2                0                  0                 0               0  ...   \n",
       "3                0                  0                 0               0  ...   \n",
       "4                0                  0                 0               0  ...   \n",
       "\n",
       "   route_Kolkata to Delhi  route_Kolkata to Hyderabad  \\\n",
       "0                       0                           0   \n",
       "1                       0                           0   \n",
       "2                       0                           0   \n",
       "3                       0                           0   \n",
       "4                       0                           0   \n",
       "\n",
       "   route_Kolkata to Mumbai  route_Mumbai to Bangalore  \\\n",
       "0                        0                          0   \n",
       "1                        0                          0   \n",
       "2                        0                          0   \n",
       "3                        0                          0   \n",
       "4                        0                          0   \n",
       "\n",
       "   route_Mumbai to Chennai  route_Mumbai to Delhi  route_Mumbai to Hyderabad  \\\n",
       "0                        0                      0                          0   \n",
       "1                        0                      0                          0   \n",
       "2                        0                      0                          0   \n",
       "3                        0                      0                          0   \n",
       "4                        0                      0                          0   \n",
       "\n",
       "   route_Mumbai to Kolkata  price Group  red_eye_flight  \n",
       "0                        0            1               0  \n",
       "1                        0            1               0  \n",
       "2                        0            1               0  \n",
       "3                        0            1               0  \n",
       "4                        0            1               0  \n",
       "\n",
       "[5 rows x 46 columns]"
      ]
     },
     "execution_count": 1142,
     "metadata": {},
     "output_type": "execute_result"
    }
   ],
   "source": [
    "df=pd.read_csv('cleaned2.csv')\n",
    "df.head()"
   ]
  },
  {
   "cell_type": "markdown",
   "metadata": {},
   "source": [
    "# Model Training\n"
   ]
  },
  {
   "cell_type": "code",
   "execution_count": 1143,
   "metadata": {},
   "outputs": [],
   "source": [
    "import numpy as np\n",
    "import pandas as pd\n",
    "import matplotlib.pyplot as plt\n",
    "import seaborn as sns\n",
    "from sklearn.model_selection import train_test_split\n",
    "from sklearn.preprocessing import StandardScaler\n",
    "from sklearn.linear_model import LinearRegression\n",
    "from sklearn.metrics import mean_absolute_error, mean_squared_error, r2_score"
   ]
  },
  {
   "cell_type": "code",
   "execution_count": 1144,
   "metadata": {},
   "outputs": [
    {
     "data": {
      "text/html": [
       "<div>\n",
       "<style scoped>\n",
       "    .dataframe tbody tr th:only-of-type {\n",
       "        vertical-align: middle;\n",
       "    }\n",
       "\n",
       "    .dataframe tbody tr th {\n",
       "        vertical-align: top;\n",
       "    }\n",
       "\n",
       "    .dataframe thead th {\n",
       "        text-align: right;\n",
       "    }\n",
       "</style>\n",
       "<table border=\"1\" class=\"dataframe\">\n",
       "  <thead>\n",
       "    <tr style=\"text-align: right;\">\n",
       "      <th></th>\n",
       "      <th>departure_time</th>\n",
       "      <th>stops</th>\n",
       "      <th>arrival_time</th>\n",
       "      <th>days_left</th>\n",
       "      <th>price</th>\n",
       "      <th>duration</th>\n",
       "      <th>airline_AirAsia</th>\n",
       "      <th>airline_Air_India</th>\n",
       "      <th>airline_GO_FIRST</th>\n",
       "      <th>airline_Indigo</th>\n",
       "      <th>...</th>\n",
       "      <th>route_Kolkata to Delhi</th>\n",
       "      <th>route_Kolkata to Hyderabad</th>\n",
       "      <th>route_Kolkata to Mumbai</th>\n",
       "      <th>route_Mumbai to Bangalore</th>\n",
       "      <th>route_Mumbai to Chennai</th>\n",
       "      <th>route_Mumbai to Delhi</th>\n",
       "      <th>route_Mumbai to Hyderabad</th>\n",
       "      <th>route_Mumbai to Kolkata</th>\n",
       "      <th>price Group</th>\n",
       "      <th>red_eye_flight</th>\n",
       "    </tr>\n",
       "  </thead>\n",
       "  <tbody>\n",
       "    <tr>\n",
       "      <th>0</th>\n",
       "      <td>0.722222</td>\n",
       "      <td>0</td>\n",
       "      <td>0.888889</td>\n",
       "      <td>0.0</td>\n",
       "      <td>0.049537</td>\n",
       "      <td>0.046552</td>\n",
       "      <td>0</td>\n",
       "      <td>0</td>\n",
       "      <td>0</td>\n",
       "      <td>0</td>\n",
       "      <td>...</td>\n",
       "      <td>0</td>\n",
       "      <td>0</td>\n",
       "      <td>0</td>\n",
       "      <td>0</td>\n",
       "      <td>0</td>\n",
       "      <td>0</td>\n",
       "      <td>0</td>\n",
       "      <td>0</td>\n",
       "      <td>1</td>\n",
       "      <td>0</td>\n",
       "    </tr>\n",
       "    <tr>\n",
       "      <th>1</th>\n",
       "      <td>0.000000</td>\n",
       "      <td>0</td>\n",
       "      <td>0.166667</td>\n",
       "      <td>0.0</td>\n",
       "      <td>0.049537</td>\n",
       "      <td>0.051724</td>\n",
       "      <td>0</td>\n",
       "      <td>0</td>\n",
       "      <td>0</td>\n",
       "      <td>0</td>\n",
       "      <td>...</td>\n",
       "      <td>0</td>\n",
       "      <td>0</td>\n",
       "      <td>0</td>\n",
       "      <td>0</td>\n",
       "      <td>0</td>\n",
       "      <td>0</td>\n",
       "      <td>0</td>\n",
       "      <td>0</td>\n",
       "      <td>1</td>\n",
       "      <td>0</td>\n",
       "    </tr>\n",
       "    <tr>\n",
       "      <th>2</th>\n",
       "      <td>0.166667</td>\n",
       "      <td>0</td>\n",
       "      <td>0.500000</td>\n",
       "      <td>0.0</td>\n",
       "      <td>0.049557</td>\n",
       "      <td>0.049425</td>\n",
       "      <td>0</td>\n",
       "      <td>0</td>\n",
       "      <td>0</td>\n",
       "      <td>0</td>\n",
       "      <td>...</td>\n",
       "      <td>0</td>\n",
       "      <td>0</td>\n",
       "      <td>0</td>\n",
       "      <td>0</td>\n",
       "      <td>0</td>\n",
       "      <td>0</td>\n",
       "      <td>0</td>\n",
       "      <td>0</td>\n",
       "      <td>1</td>\n",
       "      <td>0</td>\n",
       "    </tr>\n",
       "    <tr>\n",
       "      <th>3</th>\n",
       "      <td>0.166667</td>\n",
       "      <td>0</td>\n",
       "      <td>0.500000</td>\n",
       "      <td>0.0</td>\n",
       "      <td>0.049557</td>\n",
       "      <td>0.051724</td>\n",
       "      <td>0</td>\n",
       "      <td>0</td>\n",
       "      <td>0</td>\n",
       "      <td>0</td>\n",
       "      <td>...</td>\n",
       "      <td>0</td>\n",
       "      <td>0</td>\n",
       "      <td>0</td>\n",
       "      <td>0</td>\n",
       "      <td>0</td>\n",
       "      <td>0</td>\n",
       "      <td>0</td>\n",
       "      <td>0</td>\n",
       "      <td>1</td>\n",
       "      <td>0</td>\n",
       "    </tr>\n",
       "    <tr>\n",
       "      <th>4</th>\n",
       "      <td>0.500000</td>\n",
       "      <td>0</td>\n",
       "      <td>0.722222</td>\n",
       "      <td>0.0</td>\n",
       "      <td>0.050630</td>\n",
       "      <td>0.046552</td>\n",
       "      <td>0</td>\n",
       "      <td>0</td>\n",
       "      <td>0</td>\n",
       "      <td>0</td>\n",
       "      <td>...</td>\n",
       "      <td>0</td>\n",
       "      <td>0</td>\n",
       "      <td>0</td>\n",
       "      <td>0</td>\n",
       "      <td>0</td>\n",
       "      <td>0</td>\n",
       "      <td>0</td>\n",
       "      <td>0</td>\n",
       "      <td>1</td>\n",
       "      <td>0</td>\n",
       "    </tr>\n",
       "  </tbody>\n",
       "</table>\n",
       "<p>5 rows × 46 columns</p>\n",
       "</div>"
      ],
      "text/plain": [
       "   departure_time  stops  arrival_time  days_left     price  duration  \\\n",
       "0        0.722222      0      0.888889        0.0  0.049537  0.046552   \n",
       "1        0.000000      0      0.166667        0.0  0.049537  0.051724   \n",
       "2        0.166667      0      0.500000        0.0  0.049557  0.049425   \n",
       "3        0.166667      0      0.500000        0.0  0.049557  0.051724   \n",
       "4        0.500000      0      0.722222        0.0  0.050630  0.046552   \n",
       "\n",
       "   airline_AirAsia  airline_Air_India  airline_GO_FIRST  airline_Indigo  ...  \\\n",
       "0                0                  0                 0               0  ...   \n",
       "1                0                  0                 0               0  ...   \n",
       "2                0                  0                 0               0  ...   \n",
       "3                0                  0                 0               0  ...   \n",
       "4                0                  0                 0               0  ...   \n",
       "\n",
       "   route_Kolkata to Delhi  route_Kolkata to Hyderabad  \\\n",
       "0                       0                           0   \n",
       "1                       0                           0   \n",
       "2                       0                           0   \n",
       "3                       0                           0   \n",
       "4                       0                           0   \n",
       "\n",
       "   route_Kolkata to Mumbai  route_Mumbai to Bangalore  \\\n",
       "0                        0                          0   \n",
       "1                        0                          0   \n",
       "2                        0                          0   \n",
       "3                        0                          0   \n",
       "4                        0                          0   \n",
       "\n",
       "   route_Mumbai to Chennai  route_Mumbai to Delhi  route_Mumbai to Hyderabad  \\\n",
       "0                        0                      0                          0   \n",
       "1                        0                      0                          0   \n",
       "2                        0                      0                          0   \n",
       "3                        0                      0                          0   \n",
       "4                        0                      0                          0   \n",
       "\n",
       "   route_Mumbai to Kolkata  price Group  red_eye_flight  \n",
       "0                        0            1               0  \n",
       "1                        0            1               0  \n",
       "2                        0            1               0  \n",
       "3                        0            1               0  \n",
       "4                        0            1               0  \n",
       "\n",
       "[5 rows x 46 columns]"
      ]
     },
     "execution_count": 1144,
     "metadata": {},
     "output_type": "execute_result"
    }
   ],
   "source": [
    "df = pd.read_csv(\"cleaned2.csv\")\n",
    "df.head()"
   ]
  },
  {
   "cell_type": "code",
   "execution_count": 1145,
   "metadata": {},
   "outputs": [
    {
     "data": {
      "text/plain": [
       "departure_time                  float64\n",
       "stops                             int64\n",
       "arrival_time                    float64\n",
       "days_left                       float64\n",
       "price                           float64\n",
       "duration                        float64\n",
       "airline_AirAsia                   int64\n",
       "airline_Air_India                 int64\n",
       "airline_GO_FIRST                  int64\n",
       "airline_Indigo                    int64\n",
       "airline_SpiceJet                  int64\n",
       "airline_Vistara                   int64\n",
       "class_Business                    int64\n",
       "class_Economy                     int64\n",
       "route_Bangalore to Chennai        int64\n",
       "route_Bangalore to Delhi          int64\n",
       "route_Bangalore to Hyderabad      int64\n",
       "route_Bangalore to Kolkata        int64\n",
       "route_Bangalore to Mumbai         int64\n",
       "route_Chennai to Bangalore        int64\n",
       "route_Chennai to Delhi            int64\n",
       "route_Chennai to Hyderabad        int64\n",
       "route_Chennai to Kolkata          int64\n",
       "route_Chennai to Mumbai           int64\n",
       "route_Delhi to Bangalore          int64\n",
       "route_Delhi to Chennai            int64\n",
       "route_Delhi to Hyderabad          int64\n",
       "route_Delhi to Kolkata            int64\n",
       "route_Delhi to Mumbai             int64\n",
       "route_Hyderabad to Bangalore      int64\n",
       "route_Hyderabad to Chennai        int64\n",
       "route_Hyderabad to Delhi          int64\n",
       "route_Hyderabad to Kolkata        int64\n",
       "route_Hyderabad to Mumbai         int64\n",
       "route_Kolkata to Bangalore        int64\n",
       "route_Kolkata to Chennai          int64\n",
       "route_Kolkata to Delhi            int64\n",
       "route_Kolkata to Hyderabad        int64\n",
       "route_Kolkata to Mumbai           int64\n",
       "route_Mumbai to Bangalore         int64\n",
       "route_Mumbai to Chennai           int64\n",
       "route_Mumbai to Delhi             int64\n",
       "route_Mumbai to Hyderabad         int64\n",
       "route_Mumbai to Kolkata           int64\n",
       "price Group                       int64\n",
       "red_eye_flight                    int64\n",
       "dtype: object"
      ]
     },
     "execution_count": 1145,
     "metadata": {},
     "output_type": "execute_result"
    }
   ],
   "source": [
    "df.dtypes"
   ]
  },
  {
   "cell_type": "code",
   "execution_count": 1146,
   "metadata": {},
   "outputs": [],
   "source": [
    "from sklearn.model_selection import train_test_split\n",
    "X = df.drop(columns=['price'])  # Features\n",
    "y = df['price'] # Target"
   ]
  },
  {
   "cell_type": "markdown",
   "metadata": {},
   "source": [
    "preparing data for machine learning by separating features and target before splitting them into training and testing."
   ]
  },
  {
   "cell_type": "code",
   "execution_count": 1147,
   "metadata": {},
   "outputs": [],
   "source": [
    "X_train, X_test, y_train, y_test = train_test_split(X, y, test_size=0.2, random_state=42)"
   ]
  },
  {
   "cell_type": "markdown",
   "metadata": {},
   "source": [
    "splits our dataset into training and testing sets for a machine learning models"
   ]
  },
  {
   "cell_type": "code",
   "execution_count": 1148,
   "metadata": {},
   "outputs": [
    {
     "data": {
      "text/html": [
       "<style>#sk-container-id-7 {\n",
       "  /* Definition of color scheme common for light and dark mode */\n",
       "  --sklearn-color-text: #000;\n",
       "  --sklearn-color-text-muted: #666;\n",
       "  --sklearn-color-line: gray;\n",
       "  /* Definition of color scheme for unfitted estimators */\n",
       "  --sklearn-color-unfitted-level-0: #fff5e6;\n",
       "  --sklearn-color-unfitted-level-1: #f6e4d2;\n",
       "  --sklearn-color-unfitted-level-2: #ffe0b3;\n",
       "  --sklearn-color-unfitted-level-3: chocolate;\n",
       "  /* Definition of color scheme for fitted estimators */\n",
       "  --sklearn-color-fitted-level-0: #f0f8ff;\n",
       "  --sklearn-color-fitted-level-1: #d4ebff;\n",
       "  --sklearn-color-fitted-level-2: #b3dbfd;\n",
       "  --sklearn-color-fitted-level-3: cornflowerblue;\n",
       "\n",
       "  /* Specific color for light theme */\n",
       "  --sklearn-color-text-on-default-background: var(--sg-text-color, var(--theme-code-foreground, var(--jp-content-font-color1, black)));\n",
       "  --sklearn-color-background: var(--sg-background-color, var(--theme-background, var(--jp-layout-color0, white)));\n",
       "  --sklearn-color-border-box: var(--sg-text-color, var(--theme-code-foreground, var(--jp-content-font-color1, black)));\n",
       "  --sklearn-color-icon: #696969;\n",
       "\n",
       "  @media (prefers-color-scheme: dark) {\n",
       "    /* Redefinition of color scheme for dark theme */\n",
       "    --sklearn-color-text-on-default-background: var(--sg-text-color, var(--theme-code-foreground, var(--jp-content-font-color1, white)));\n",
       "    --sklearn-color-background: var(--sg-background-color, var(--theme-background, var(--jp-layout-color0, #111)));\n",
       "    --sklearn-color-border-box: var(--sg-text-color, var(--theme-code-foreground, var(--jp-content-font-color1, white)));\n",
       "    --sklearn-color-icon: #878787;\n",
       "  }\n",
       "}\n",
       "\n",
       "#sk-container-id-7 {\n",
       "  color: var(--sklearn-color-text);\n",
       "}\n",
       "\n",
       "#sk-container-id-7 pre {\n",
       "  padding: 0;\n",
       "}\n",
       "\n",
       "#sk-container-id-7 input.sk-hidden--visually {\n",
       "  border: 0;\n",
       "  clip: rect(1px 1px 1px 1px);\n",
       "  clip: rect(1px, 1px, 1px, 1px);\n",
       "  height: 1px;\n",
       "  margin: -1px;\n",
       "  overflow: hidden;\n",
       "  padding: 0;\n",
       "  position: absolute;\n",
       "  width: 1px;\n",
       "}\n",
       "\n",
       "#sk-container-id-7 div.sk-dashed-wrapped {\n",
       "  border: 1px dashed var(--sklearn-color-line);\n",
       "  margin: 0 0.4em 0.5em 0.4em;\n",
       "  box-sizing: border-box;\n",
       "  padding-bottom: 0.4em;\n",
       "  background-color: var(--sklearn-color-background);\n",
       "}\n",
       "\n",
       "#sk-container-id-7 div.sk-container {\n",
       "  /* jupyter's `normalize.less` sets `[hidden] { display: none; }`\n",
       "     but bootstrap.min.css set `[hidden] { display: none !important; }`\n",
       "     so we also need the `!important` here to be able to override the\n",
       "     default hidden behavior on the sphinx rendered scikit-learn.org.\n",
       "     See: https://github.com/scikit-learn/scikit-learn/issues/21755 */\n",
       "  display: inline-block !important;\n",
       "  position: relative;\n",
       "}\n",
       "\n",
       "#sk-container-id-7 div.sk-text-repr-fallback {\n",
       "  display: none;\n",
       "}\n",
       "\n",
       "div.sk-parallel-item,\n",
       "div.sk-serial,\n",
       "div.sk-item {\n",
       "  /* draw centered vertical line to link estimators */\n",
       "  background-image: linear-gradient(var(--sklearn-color-text-on-default-background), var(--sklearn-color-text-on-default-background));\n",
       "  background-size: 2px 100%;\n",
       "  background-repeat: no-repeat;\n",
       "  background-position: center center;\n",
       "}\n",
       "\n",
       "/* Parallel-specific style estimator block */\n",
       "\n",
       "#sk-container-id-7 div.sk-parallel-item::after {\n",
       "  content: \"\";\n",
       "  width: 100%;\n",
       "  border-bottom: 2px solid var(--sklearn-color-text-on-default-background);\n",
       "  flex-grow: 1;\n",
       "}\n",
       "\n",
       "#sk-container-id-7 div.sk-parallel {\n",
       "  display: flex;\n",
       "  align-items: stretch;\n",
       "  justify-content: center;\n",
       "  background-color: var(--sklearn-color-background);\n",
       "  position: relative;\n",
       "}\n",
       "\n",
       "#sk-container-id-7 div.sk-parallel-item {\n",
       "  display: flex;\n",
       "  flex-direction: column;\n",
       "}\n",
       "\n",
       "#sk-container-id-7 div.sk-parallel-item:first-child::after {\n",
       "  align-self: flex-end;\n",
       "  width: 50%;\n",
       "}\n",
       "\n",
       "#sk-container-id-7 div.sk-parallel-item:last-child::after {\n",
       "  align-self: flex-start;\n",
       "  width: 50%;\n",
       "}\n",
       "\n",
       "#sk-container-id-7 div.sk-parallel-item:only-child::after {\n",
       "  width: 0;\n",
       "}\n",
       "\n",
       "/* Serial-specific style estimator block */\n",
       "\n",
       "#sk-container-id-7 div.sk-serial {\n",
       "  display: flex;\n",
       "  flex-direction: column;\n",
       "  align-items: center;\n",
       "  background-color: var(--sklearn-color-background);\n",
       "  padding-right: 1em;\n",
       "  padding-left: 1em;\n",
       "}\n",
       "\n",
       "\n",
       "/* Toggleable style: style used for estimator/Pipeline/ColumnTransformer box that is\n",
       "clickable and can be expanded/collapsed.\n",
       "- Pipeline and ColumnTransformer use this feature and define the default style\n",
       "- Estimators will overwrite some part of the style using the `sk-estimator` class\n",
       "*/\n",
       "\n",
       "/* Pipeline and ColumnTransformer style (default) */\n",
       "\n",
       "#sk-container-id-7 div.sk-toggleable {\n",
       "  /* Default theme specific background. It is overwritten whether we have a\n",
       "  specific estimator or a Pipeline/ColumnTransformer */\n",
       "  background-color: var(--sklearn-color-background);\n",
       "}\n",
       "\n",
       "/* Toggleable label */\n",
       "#sk-container-id-7 label.sk-toggleable__label {\n",
       "  cursor: pointer;\n",
       "  display: flex;\n",
       "  width: 100%;\n",
       "  margin-bottom: 0;\n",
       "  padding: 0.5em;\n",
       "  box-sizing: border-box;\n",
       "  text-align: center;\n",
       "  align-items: start;\n",
       "  justify-content: space-between;\n",
       "  gap: 0.5em;\n",
       "}\n",
       "\n",
       "#sk-container-id-7 label.sk-toggleable__label .caption {\n",
       "  font-size: 0.6rem;\n",
       "  font-weight: lighter;\n",
       "  color: var(--sklearn-color-text-muted);\n",
       "}\n",
       "\n",
       "#sk-container-id-7 label.sk-toggleable__label-arrow:before {\n",
       "  /* Arrow on the left of the label */\n",
       "  content: \"▸\";\n",
       "  float: left;\n",
       "  margin-right: 0.25em;\n",
       "  color: var(--sklearn-color-icon);\n",
       "}\n",
       "\n",
       "#sk-container-id-7 label.sk-toggleable__label-arrow:hover:before {\n",
       "  color: var(--sklearn-color-text);\n",
       "}\n",
       "\n",
       "/* Toggleable content - dropdown */\n",
       "\n",
       "#sk-container-id-7 div.sk-toggleable__content {\n",
       "  max-height: 0;\n",
       "  max-width: 0;\n",
       "  overflow: hidden;\n",
       "  text-align: left;\n",
       "  /* unfitted */\n",
       "  background-color: var(--sklearn-color-unfitted-level-0);\n",
       "}\n",
       "\n",
       "#sk-container-id-7 div.sk-toggleable__content.fitted {\n",
       "  /* fitted */\n",
       "  background-color: var(--sklearn-color-fitted-level-0);\n",
       "}\n",
       "\n",
       "#sk-container-id-7 div.sk-toggleable__content pre {\n",
       "  margin: 0.2em;\n",
       "  border-radius: 0.25em;\n",
       "  color: var(--sklearn-color-text);\n",
       "  /* unfitted */\n",
       "  background-color: var(--sklearn-color-unfitted-level-0);\n",
       "}\n",
       "\n",
       "#sk-container-id-7 div.sk-toggleable__content.fitted pre {\n",
       "  /* unfitted */\n",
       "  background-color: var(--sklearn-color-fitted-level-0);\n",
       "}\n",
       "\n",
       "#sk-container-id-7 input.sk-toggleable__control:checked~div.sk-toggleable__content {\n",
       "  /* Expand drop-down */\n",
       "  max-height: 200px;\n",
       "  max-width: 100%;\n",
       "  overflow: auto;\n",
       "}\n",
       "\n",
       "#sk-container-id-7 input.sk-toggleable__control:checked~label.sk-toggleable__label-arrow:before {\n",
       "  content: \"▾\";\n",
       "}\n",
       "\n",
       "/* Pipeline/ColumnTransformer-specific style */\n",
       "\n",
       "#sk-container-id-7 div.sk-label input.sk-toggleable__control:checked~label.sk-toggleable__label {\n",
       "  color: var(--sklearn-color-text);\n",
       "  background-color: var(--sklearn-color-unfitted-level-2);\n",
       "}\n",
       "\n",
       "#sk-container-id-7 div.sk-label.fitted input.sk-toggleable__control:checked~label.sk-toggleable__label {\n",
       "  background-color: var(--sklearn-color-fitted-level-2);\n",
       "}\n",
       "\n",
       "/* Estimator-specific style */\n",
       "\n",
       "/* Colorize estimator box */\n",
       "#sk-container-id-7 div.sk-estimator input.sk-toggleable__control:checked~label.sk-toggleable__label {\n",
       "  /* unfitted */\n",
       "  background-color: var(--sklearn-color-unfitted-level-2);\n",
       "}\n",
       "\n",
       "#sk-container-id-7 div.sk-estimator.fitted input.sk-toggleable__control:checked~label.sk-toggleable__label {\n",
       "  /* fitted */\n",
       "  background-color: var(--sklearn-color-fitted-level-2);\n",
       "}\n",
       "\n",
       "#sk-container-id-7 div.sk-label label.sk-toggleable__label,\n",
       "#sk-container-id-7 div.sk-label label {\n",
       "  /* The background is the default theme color */\n",
       "  color: var(--sklearn-color-text-on-default-background);\n",
       "}\n",
       "\n",
       "/* On hover, darken the color of the background */\n",
       "#sk-container-id-7 div.sk-label:hover label.sk-toggleable__label {\n",
       "  color: var(--sklearn-color-text);\n",
       "  background-color: var(--sklearn-color-unfitted-level-2);\n",
       "}\n",
       "\n",
       "/* Label box, darken color on hover, fitted */\n",
       "#sk-container-id-7 div.sk-label.fitted:hover label.sk-toggleable__label.fitted {\n",
       "  color: var(--sklearn-color-text);\n",
       "  background-color: var(--sklearn-color-fitted-level-2);\n",
       "}\n",
       "\n",
       "/* Estimator label */\n",
       "\n",
       "#sk-container-id-7 div.sk-label label {\n",
       "  font-family: monospace;\n",
       "  font-weight: bold;\n",
       "  display: inline-block;\n",
       "  line-height: 1.2em;\n",
       "}\n",
       "\n",
       "#sk-container-id-7 div.sk-label-container {\n",
       "  text-align: center;\n",
       "}\n",
       "\n",
       "/* Estimator-specific */\n",
       "#sk-container-id-7 div.sk-estimator {\n",
       "  font-family: monospace;\n",
       "  border: 1px dotted var(--sklearn-color-border-box);\n",
       "  border-radius: 0.25em;\n",
       "  box-sizing: border-box;\n",
       "  margin-bottom: 0.5em;\n",
       "  /* unfitted */\n",
       "  background-color: var(--sklearn-color-unfitted-level-0);\n",
       "}\n",
       "\n",
       "#sk-container-id-7 div.sk-estimator.fitted {\n",
       "  /* fitted */\n",
       "  background-color: var(--sklearn-color-fitted-level-0);\n",
       "}\n",
       "\n",
       "/* on hover */\n",
       "#sk-container-id-7 div.sk-estimator:hover {\n",
       "  /* unfitted */\n",
       "  background-color: var(--sklearn-color-unfitted-level-2);\n",
       "}\n",
       "\n",
       "#sk-container-id-7 div.sk-estimator.fitted:hover {\n",
       "  /* fitted */\n",
       "  background-color: var(--sklearn-color-fitted-level-2);\n",
       "}\n",
       "\n",
       "/* Specification for estimator info (e.g. \"i\" and \"?\") */\n",
       "\n",
       "/* Common style for \"i\" and \"?\" */\n",
       "\n",
       ".sk-estimator-doc-link,\n",
       "a:link.sk-estimator-doc-link,\n",
       "a:visited.sk-estimator-doc-link {\n",
       "  float: right;\n",
       "  font-size: smaller;\n",
       "  line-height: 1em;\n",
       "  font-family: monospace;\n",
       "  background-color: var(--sklearn-color-background);\n",
       "  border-radius: 1em;\n",
       "  height: 1em;\n",
       "  width: 1em;\n",
       "  text-decoration: none !important;\n",
       "  margin-left: 0.5em;\n",
       "  text-align: center;\n",
       "  /* unfitted */\n",
       "  border: var(--sklearn-color-unfitted-level-1) 1pt solid;\n",
       "  color: var(--sklearn-color-unfitted-level-1);\n",
       "}\n",
       "\n",
       ".sk-estimator-doc-link.fitted,\n",
       "a:link.sk-estimator-doc-link.fitted,\n",
       "a:visited.sk-estimator-doc-link.fitted {\n",
       "  /* fitted */\n",
       "  border: var(--sklearn-color-fitted-level-1) 1pt solid;\n",
       "  color: var(--sklearn-color-fitted-level-1);\n",
       "}\n",
       "\n",
       "/* On hover */\n",
       "div.sk-estimator:hover .sk-estimator-doc-link:hover,\n",
       ".sk-estimator-doc-link:hover,\n",
       "div.sk-label-container:hover .sk-estimator-doc-link:hover,\n",
       ".sk-estimator-doc-link:hover {\n",
       "  /* unfitted */\n",
       "  background-color: var(--sklearn-color-unfitted-level-3);\n",
       "  color: var(--sklearn-color-background);\n",
       "  text-decoration: none;\n",
       "}\n",
       "\n",
       "div.sk-estimator.fitted:hover .sk-estimator-doc-link.fitted:hover,\n",
       ".sk-estimator-doc-link.fitted:hover,\n",
       "div.sk-label-container:hover .sk-estimator-doc-link.fitted:hover,\n",
       ".sk-estimator-doc-link.fitted:hover {\n",
       "  /* fitted */\n",
       "  background-color: var(--sklearn-color-fitted-level-3);\n",
       "  color: var(--sklearn-color-background);\n",
       "  text-decoration: none;\n",
       "}\n",
       "\n",
       "/* Span, style for the box shown on hovering the info icon */\n",
       ".sk-estimator-doc-link span {\n",
       "  display: none;\n",
       "  z-index: 9999;\n",
       "  position: relative;\n",
       "  font-weight: normal;\n",
       "  right: .2ex;\n",
       "  padding: .5ex;\n",
       "  margin: .5ex;\n",
       "  width: min-content;\n",
       "  min-width: 20ex;\n",
       "  max-width: 50ex;\n",
       "  color: var(--sklearn-color-text);\n",
       "  box-shadow: 2pt 2pt 4pt #999;\n",
       "  /* unfitted */\n",
       "  background: var(--sklearn-color-unfitted-level-0);\n",
       "  border: .5pt solid var(--sklearn-color-unfitted-level-3);\n",
       "}\n",
       "\n",
       ".sk-estimator-doc-link.fitted span {\n",
       "  /* fitted */\n",
       "  background: var(--sklearn-color-fitted-level-0);\n",
       "  border: var(--sklearn-color-fitted-level-3);\n",
       "}\n",
       "\n",
       ".sk-estimator-doc-link:hover span {\n",
       "  display: block;\n",
       "}\n",
       "\n",
       "/* \"?\"-specific style due to the `<a>` HTML tag */\n",
       "\n",
       "#sk-container-id-7 a.estimator_doc_link {\n",
       "  float: right;\n",
       "  font-size: 1rem;\n",
       "  line-height: 1em;\n",
       "  font-family: monospace;\n",
       "  background-color: var(--sklearn-color-background);\n",
       "  border-radius: 1rem;\n",
       "  height: 1rem;\n",
       "  width: 1rem;\n",
       "  text-decoration: none;\n",
       "  /* unfitted */\n",
       "  color: var(--sklearn-color-unfitted-level-1);\n",
       "  border: var(--sklearn-color-unfitted-level-1) 1pt solid;\n",
       "}\n",
       "\n",
       "#sk-container-id-7 a.estimator_doc_link.fitted {\n",
       "  /* fitted */\n",
       "  border: var(--sklearn-color-fitted-level-1) 1pt solid;\n",
       "  color: var(--sklearn-color-fitted-level-1);\n",
       "}\n",
       "\n",
       "/* On hover */\n",
       "#sk-container-id-7 a.estimator_doc_link:hover {\n",
       "  /* unfitted */\n",
       "  background-color: var(--sklearn-color-unfitted-level-3);\n",
       "  color: var(--sklearn-color-background);\n",
       "  text-decoration: none;\n",
       "}\n",
       "\n",
       "#sk-container-id-7 a.estimator_doc_link.fitted:hover {\n",
       "  /* fitted */\n",
       "  background-color: var(--sklearn-color-fitted-level-3);\n",
       "}\n",
       "</style><div id=\"sk-container-id-7\" class=\"sk-top-container\"><div class=\"sk-text-repr-fallback\"><pre>LinearRegression()</pre><b>In a Jupyter environment, please rerun this cell to show the HTML representation or trust the notebook. <br />On GitHub, the HTML representation is unable to render, please try loading this page with nbviewer.org.</b></div><div class=\"sk-container\" hidden><div class=\"sk-item\"><div class=\"sk-estimator fitted sk-toggleable\"><input class=\"sk-toggleable__control sk-hidden--visually\" id=\"sk-estimator-id-7\" type=\"checkbox\" checked><label for=\"sk-estimator-id-7\" class=\"sk-toggleable__label fitted sk-toggleable__label-arrow\"><div><div>LinearRegression</div></div><div><a class=\"sk-estimator-doc-link fitted\" rel=\"noreferrer\" target=\"_blank\" href=\"https://scikit-learn.org/1.6/modules/generated/sklearn.linear_model.LinearRegression.html\">?<span>Documentation for LinearRegression</span></a><span class=\"sk-estimator-doc-link fitted\">i<span>Fitted</span></span></div></label><div class=\"sk-toggleable__content fitted\"><pre>LinearRegression()</pre></div> </div></div></div></div>"
      ],
      "text/plain": [
       "LinearRegression()"
      ]
     },
     "execution_count": 1148,
     "metadata": {},
     "output_type": "execute_result"
    }
   ],
   "source": [
    "model = LinearRegression()\n",
    "model.fit(X_train, y_train)"
   ]
  },
  {
   "cell_type": "markdown",
   "metadata": {},
   "source": [
    "the code is using the linear regression model to learn the relationship between the features in input data and output we are trying to predict"
   ]
  },
  {
   "cell_type": "code",
   "execution_count": 1149,
   "metadata": {},
   "outputs": [],
   "source": [
    "y_pred = model.predict(X_test)"
   ]
  },
  {
   "cell_type": "markdown",
   "metadata": {},
   "source": [
    "model is making predictions based on the test data we gave it"
   ]
  },
  {
   "cell_type": "code",
   "execution_count": 1150,
   "metadata": {},
   "outputs": [
    {
     "name": "stdout",
     "output_type": "stream",
     "text": [
      "Mean Absolute Error (MAE): 0.04251238605510543\n",
      "Mean Squared Error (MSE): 0.003741152073934885\n",
      "R² Score: 0.9323828397417767\n"
     ]
    }
   ],
   "source": [
    "mae = mean_absolute_error(y_test, y_pred)\n",
    "mse = mean_squared_error(y_test, y_pred)\n",
    "r2 = r2_score(y_test, y_pred)\n",
    "\n",
    "print(f\"Mean Absolute Error (MAE): {mae}\")\n",
    "print(f\"Mean Squared Error (MSE): {mse}\")\n",
    "print(f\"R² Score: {r2}\")"
   ]
  },
  {
   "cell_type": "markdown",
   "metadata": {},
   "source": [
    "The code calculates and prints three metrics to measure how well the model's predictions match the actual test data: MAE, MSE, and R² score"
   ]
  },
  {
   "cell_type": "markdown",
   "metadata": {},
   "source": [
    "# Conclusion\n",
    "- model is performing well. it can explain 90% of the variation in the data."
   ]
  },
  {
   "cell_type": "markdown",
   "metadata": {},
   "source": [
    "# Test the model"
   ]
  },
  {
   "cell_type": "code",
   "execution_count": 1151,
   "metadata": {},
   "outputs": [],
   "source": [
    "# import numpy as np\n",
    "# import pandas as pd\n",
    "# import matplotlib.pyplot as plt\n",
    "# import seaborn as sns\n",
    "# from sklearn.model_selection import train_test_split\n",
    "# from sklearn.preprocessing import StandardScaler\n",
    "# from sklearn.linear_model import LinearRegression\n",
    "# from sklearn.metrics import mean_absolute_error, mean_squared_error, r2_score"
   ]
  },
  {
   "cell_type": "code",
   "execution_count": 1152,
   "metadata": {},
   "outputs": [],
   "source": [
    "# data = [{\n",
    "#     'index': 0,\n",
    "#     'duration': 130,\n",
    "#     'days_left': 2,\n",
    "#     'airline': 3,\n",
    "#     'departure_time': 4,\n",
    "#     'source_city': 0,\n",
    "#     'destination_city': 1,\n",
    "#     'stops': 0,\n",
    "#     'arrival': 5,\n",
    "#     'class': 0,\n",
    "#     'price Group': 1,\n",
    "#     'red_eye_flight': 0\n",
    "# }]\n",
    "# # Create DataFrame\n",
    "# df = pd.DataFrame(data)\n",
    "\n",
    "# # Display DataFrame\n",
    "# df"
   ]
  },
  {
   "cell_type": "code",
   "execution_count": 1153,
   "metadata": {},
   "outputs": [],
   "source": [
    "# X_train_scaled = scaler.fit_transform(df)\n",
    "# y_pred = model.predict(X_train_scaled)\n",
    "# print(\"the predicted price of flight is \",y_pred)"
   ]
  }
 ],
 "metadata": {
  "kernelspec": {
   "display_name": "Python 3",
   "language": "python",
   "name": "python3"
  },
  "language_info": {
   "codemirror_mode": {
    "name": "ipython",
    "version": 3
   },
   "file_extension": ".py",
   "mimetype": "text/x-python",
   "name": "python",
   "nbconvert_exporter": "python",
   "pygments_lexer": "ipython3",
   "version": "3.13.0"
  }
 },
 "nbformat": 4,
 "nbformat_minor": 2
}
