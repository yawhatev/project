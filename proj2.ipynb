{
 "cells": [
  {
   "cell_type": "markdown",
   "metadata": {},
   "source": [
    "# Flight Price Prediction \n",
    "**OBJECTIVE:**\n",
    "* Predict flight ticket prices based on date, destination, and other factors. \n",
    "\n"
   ]
  },
  {
   "cell_type": "markdown",
   "metadata": {},
   "source": [
    "- The task is a regression problem because you are predicting a continuous value (price).\n",
    "- Your target variable is price, and the other columns are features."
   ]
  },
  {
   "cell_type": "markdown",
   "metadata": {},
   "source": [
    "**DATA COLLECTION:**\n",
    "* Data is collected from Kaggle: Flight Price Prediction uploaded by Shubham Bathwal."
   ]
  },
  {
   "cell_type": "code",
   "execution_count": 3,
   "metadata": {},
   "outputs": [],
   "source": [
    "import pandas as pd \n",
    "import numpy as np\n",
    "import matplotlib.pyplot as plt\n",
    "import seaborn as sns"
   ]
  },
  {
   "cell_type": "code",
   "execution_count": 4,
   "metadata": {},
   "outputs": [],
   "source": [
    "import warnings\n",
    "warnings.filterwarnings('ignore')"
   ]
  },
  {
   "cell_type": "code",
   "execution_count": 5,
   "metadata": {},
   "outputs": [
    {
     "name": "stdout",
     "output_type": "stream",
     "text": [
      "<class 'pandas.core.frame.DataFrame'>\n",
      "RangeIndex: 300153 entries, 0 to 300152\n",
      "Data columns (total 12 columns):\n",
      " #   Column            Non-Null Count   Dtype  \n",
      "---  ------            --------------   -----  \n",
      " 0   Unnamed: 0        300153 non-null  int64  \n",
      " 1   airline           300153 non-null  object \n",
      " 2   flight            300153 non-null  object \n",
      " 3   source_city       300153 non-null  object \n",
      " 4   departure_time    300153 non-null  object \n",
      " 5   stops             300153 non-null  object \n",
      " 6   arrival_time      300153 non-null  object \n",
      " 7   destination_city  300153 non-null  object \n",
      " 8   class             300153 non-null  object \n",
      " 9   duration          300153 non-null  float64\n",
      " 10  days_left         300153 non-null  int64  \n",
      " 11  price             300153 non-null  int64  \n",
      "dtypes: float64(1), int64(3), object(8)\n",
      "memory usage: 27.5+ MB\n"
     ]
    },
    {
     "data": {
      "text/html": [
       "<div>\n",
       "<style scoped>\n",
       "    .dataframe tbody tr th:only-of-type {\n",
       "        vertical-align: middle;\n",
       "    }\n",
       "\n",
       "    .dataframe tbody tr th {\n",
       "        vertical-align: top;\n",
       "    }\n",
       "\n",
       "    .dataframe thead th {\n",
       "        text-align: right;\n",
       "    }\n",
       "</style>\n",
       "<table border=\"1\" class=\"dataframe\">\n",
       "  <thead>\n",
       "    <tr style=\"text-align: right;\">\n",
       "      <th></th>\n",
       "      <th>Unnamed: 0</th>\n",
       "      <th>airline</th>\n",
       "      <th>flight</th>\n",
       "      <th>source_city</th>\n",
       "      <th>departure_time</th>\n",
       "      <th>stops</th>\n",
       "      <th>arrival_time</th>\n",
       "      <th>destination_city</th>\n",
       "      <th>class</th>\n",
       "      <th>duration</th>\n",
       "      <th>days_left</th>\n",
       "      <th>price</th>\n",
       "    </tr>\n",
       "  </thead>\n",
       "  <tbody>\n",
       "    <tr>\n",
       "      <th>0</th>\n",
       "      <td>0</td>\n",
       "      <td>SpiceJet</td>\n",
       "      <td>SG-8709</td>\n",
       "      <td>Delhi</td>\n",
       "      <td>Evening</td>\n",
       "      <td>zero</td>\n",
       "      <td>Night</td>\n",
       "      <td>Mumbai</td>\n",
       "      <td>Economy</td>\n",
       "      <td>2.17</td>\n",
       "      <td>1</td>\n",
       "      <td>5953</td>\n",
       "    </tr>\n",
       "    <tr>\n",
       "      <th>1</th>\n",
       "      <td>1</td>\n",
       "      <td>SpiceJet</td>\n",
       "      <td>SG-8157</td>\n",
       "      <td>Delhi</td>\n",
       "      <td>Early_Morning</td>\n",
       "      <td>zero</td>\n",
       "      <td>Morning</td>\n",
       "      <td>Mumbai</td>\n",
       "      <td>Economy</td>\n",
       "      <td>2.33</td>\n",
       "      <td>1</td>\n",
       "      <td>5953</td>\n",
       "    </tr>\n",
       "    <tr>\n",
       "      <th>2</th>\n",
       "      <td>2</td>\n",
       "      <td>AirAsia</td>\n",
       "      <td>I5-764</td>\n",
       "      <td>Delhi</td>\n",
       "      <td>Early_Morning</td>\n",
       "      <td>zero</td>\n",
       "      <td>Early_Morning</td>\n",
       "      <td>Mumbai</td>\n",
       "      <td>Economy</td>\n",
       "      <td>2.17</td>\n",
       "      <td>1</td>\n",
       "      <td>5956</td>\n",
       "    </tr>\n",
       "    <tr>\n",
       "      <th>3</th>\n",
       "      <td>3</td>\n",
       "      <td>Vistara</td>\n",
       "      <td>UK-995</td>\n",
       "      <td>Delhi</td>\n",
       "      <td>Morning</td>\n",
       "      <td>zero</td>\n",
       "      <td>Afternoon</td>\n",
       "      <td>Mumbai</td>\n",
       "      <td>Economy</td>\n",
       "      <td>2.25</td>\n",
       "      <td>1</td>\n",
       "      <td>5955</td>\n",
       "    </tr>\n",
       "    <tr>\n",
       "      <th>4</th>\n",
       "      <td>4</td>\n",
       "      <td>Vistara</td>\n",
       "      <td>UK-963</td>\n",
       "      <td>Delhi</td>\n",
       "      <td>Morning</td>\n",
       "      <td>zero</td>\n",
       "      <td>Morning</td>\n",
       "      <td>Mumbai</td>\n",
       "      <td>Economy</td>\n",
       "      <td>2.33</td>\n",
       "      <td>1</td>\n",
       "      <td>5955</td>\n",
       "    </tr>\n",
       "  </tbody>\n",
       "</table>\n",
       "</div>"
      ],
      "text/plain": [
       "   Unnamed: 0   airline   flight source_city departure_time stops  \\\n",
       "0           0  SpiceJet  SG-8709       Delhi        Evening  zero   \n",
       "1           1  SpiceJet  SG-8157       Delhi  Early_Morning  zero   \n",
       "2           2   AirAsia   I5-764       Delhi  Early_Morning  zero   \n",
       "3           3   Vistara   UK-995       Delhi        Morning  zero   \n",
       "4           4   Vistara   UK-963       Delhi        Morning  zero   \n",
       "\n",
       "    arrival_time destination_city    class  duration  days_left  price  \n",
       "0          Night           Mumbai  Economy      2.17          1   5953  \n",
       "1        Morning           Mumbai  Economy      2.33          1   5953  \n",
       "2  Early_Morning           Mumbai  Economy      2.17          1   5956  \n",
       "3      Afternoon           Mumbai  Economy      2.25          1   5955  \n",
       "4        Morning           Mumbai  Economy      2.33          1   5955  "
      ]
     },
     "execution_count": 5,
     "metadata": {},
     "output_type": "execute_result"
    }
   ],
   "source": [
    "df=pd.read_csv('Clean_Dataset.csv')\n",
    "df.info()\n",
    "df.head()\n"
   ]
  },
  {
   "cell_type": "markdown",
   "metadata": {},
   "source": [
    "non-numeric: airline,flight,source_city,departure_time,stops,arrival_time,destination_city,class"
   ]
  },
  {
   "cell_type": "markdown",
   "metadata": {},
   "source": [
    "no null value"
   ]
  },
  {
   "cell_type": "code",
   "execution_count": 6,
   "metadata": {},
   "outputs": [
    {
     "data": {
      "text/plain": [
       "np.int64(0)"
      ]
     },
     "execution_count": 6,
     "metadata": {},
     "output_type": "execute_result"
    }
   ],
   "source": [
    "# Let's check for duplicates\n",
    "df.duplicated().sum()\n",
    "# no duplicates"
   ]
  },
  {
   "cell_type": "markdown",
   "metadata": {},
   "source": [
    "# DISCOVER\n",
    "* our data has columns like airline, flight, source_city, stops, arrivale time etc among them source and destination city data doesnot conclude anything. \n",
    "* also duration and days left tells; duration: total time of flight measure in hours and days lefts means days remaining until the flight's departure. \n",
    "* value 1 for days remaining mean flights are booked just one day before their departure.\n",
    "* duration like 2.17 mean that the flights are direct flights whereas duration like 9.67 or 26.42 hr means there were layovers(waiting of flights at places or airports) before reaching mumbai.\n",
    "* identify the data ranges, mean, medians and standard deviations for numerical columns"
   ]
  },
  {
   "cell_type": "markdown",
   "metadata": {},
   "source": [
    "# STRUCTURING \n",
    "* organize: reshaping data, handling missing values, converting data types\n",
    "* ensuring data is in standardized manner which helps for further manipulation and exploration"
   ]
  },
  {
   "cell_type": "markdown",
   "metadata": {},
   "source": [
    "# CLEANING\n",
    "* to address inconsistencies, errors and outliers within dataset\n",
    "* correcting inaccurate data, handling duplicates, and addressing any anomalies\n",
    "* focus on enhancing data accuracy and make the data error-free as possible"
   ]
  },
  {
   "cell_type": "markdown",
   "metadata": {},
   "source": [
    "# ENRICHING\n",
    "* adding additional datas to provide more depth or context\n",
    "- mergings datasets or incorporating external data sources"
   ]
  },
  {
   "cell_type": "markdown",
   "metadata": {},
   "source": [
    "# VALIDATING\n",
    "- checks the quality and reliability of processed data\n",
    "- by using visualization tools(boxplots, histogram, scatterplots)\n"
   ]
  },
  {
   "cell_type": "markdown",
   "metadata": {},
   "source": [
    "# PUBLISHING"
   ]
  },
  {
   "cell_type": "code",
   "execution_count": 7,
   "metadata": {},
   "outputs": [
    {
     "data": {
      "text/plain": [
       "Index(['Unnamed: 0', 'airline', 'flight', 'source_city', 'departure_time',\n",
       "       'stops', 'arrival_time', 'destination_city', 'class', 'duration',\n",
       "       'days_left', 'price'],\n",
       "      dtype='object')"
      ]
     },
     "execution_count": 7,
     "metadata": {},
     "output_type": "execute_result"
    }
   ],
   "source": [
    "df.columns"
   ]
  },
  {
   "cell_type": "markdown",
   "metadata": {},
   "source": [
    "**INSHORT**\n",
    "- missing values(done)\n",
    "- duplicate values(done)\n",
    "- correct data types(na garne)\n",
    "- outliers(k ho ra kasari garne?)\n",
    "- standardize/ normalize values\n",
    "- typos or formatting issues\n",
    "- remove irrelevant columns(done)\n",
    "- encode categorical variables( label encoding/one hot encoding)(done)\n",
    "- remove invalid or unusual values(eg: datas entered range is 5-10 but the entry is 100 then remove or correct it)\n",
    "- feature engineering(add/ modify the colums or features)(no need)\n",
    "- check the datas and then save the cleaned datas(done)\n",
    "\n"
   ]
  },
  {
   "cell_type": "markdown",
   "metadata": {},
   "source": [
    "### **Titanic Dataset**\n",
    "* The Titanic Dataset is a dataset curated on the basis of the passengers on titanic, like their age, class, gender, etc to predict if they would have survived or not. While there was some element of luck involved in surviving, it seems some groups of people were more likely to survive than others.\n",
    "\n",
    "**About Titanic Dataset**\n",
    "\n",
    "The predefined columns are -\n",
    "\n",
    "* Passenger Class (Pclass): This categorical variable indicates the ticket class of each passenger, ranging from 1st class (wealthiest) to 3rd class (lower socioeconomic status).\n",
    "\n",
    "* Name: The names of passengers, providing insight into their identities.\n",
    "\n",
    "* Sex: Gender of passengers, categorized as male or female.\n",
    "\n",
    "* Age: Age of passengers, providing information about the demographic composition of the Titanic's passengers.\n",
    "\n",
    "* SibSp: Number of siblings/spouses aboard the Titanic, offering insight into family relationships.\n",
    "\n",
    "* Parch: Number of parents/children aboard the Titanic, indicating family size and composition.\n",
    "\n",
    "* Ticket: Ticket number, providing additional information about passenger accommodations and fare details.\n",
    "\n",
    "* Fare: Fare paid by each passenger, which can be indicative of their ticket class and economic status.\n",
    "\n",
    "* Cabin: Cabin number or location, offering insights into passenger accommodations.\n",
    "\n",
    "* Embarked: Port of embarkation (C = Cherbourg, Q = Queenstown, S = Southampton), providing information about passengers' embarkation points.\n",
    "\n",
    "* Survived: This binary variable indicates whether a passenger survived the disaster (1) or not (0), serving as the primary outcome variable for analyses.\n",
    "\n",
    "Dataset can be downloaded from [here](https://www.kaggle.com/c/titanic/data). We will be using only train.csv for this tutorial."
   ]
  },
  {
   "cell_type": "markdown",
   "metadata": {},
   "source": [
    "hamile dataset ko columns lai pani define garnu parxa"
   ]
  },
  {
   "cell_type": "markdown",
   "metadata": {},
   "source": [
    "jati ota warning aauxa program ma teslai ignore garne\n",
    "# Supress warnings\n",
    "import warnings\n",
    "warnings.filterwarnings('ignore')"
   ]
  },
  {
   "cell_type": "markdown",
   "metadata": {},
   "source": [
    "print(df.shape)\n",
    "(89,10) ie 89 rows and 10 columns"
   ]
  },
  {
   "cell_type": "markdown",
   "metadata": {},
   "source": [
    "NOTES KO EXAMPLES:\n",
    "- hamile titanic dataset leko xam, tyo vanya titanic ma bhako passenger ko age, class,etc.\n",
    "\n"
   ]
  },
  {
   "cell_type": "code",
   "execution_count": 8,
   "metadata": {},
   "outputs": [
    {
     "data": {
      "text/plain": [
       "np.int64(0)"
      ]
     },
     "execution_count": 8,
     "metadata": {},
     "output_type": "execute_result"
    }
   ],
   "source": [
    "df.duplicated().sum()"
   ]
  },
  {
   "cell_type": "markdown",
   "metadata": {},
   "source": [
    "no duplicate values"
   ]
  },
  {
   "cell_type": "markdown",
   "metadata": {},
   "source": [
    "- For proper data analysis, converting non-numeric features to numeric values is often necessary, but not always mandatory.\n",
    "- two types: categorical and numeric.\n",
    "- Categorical values need to be converted into a numerical format before they can be used in machine learning models. This process is known as encoding.\n",
    "- Label encoding assigns a unique integer to each category.For categorical variable is ordinal (i.e., has a meaningful order).\n",
    "- One-hot encoding creates new columns indicating the presence (or absence) of each possible value in the original data.For nominal categorical variables (i.e., no intrinsic ordering)."
   ]
  },
  {
   "cell_type": "markdown",
   "metadata": {},
   "source": [
    "yo encoding ko chai benefits k hunxa?"
   ]
  },
  {
   "cell_type": "code",
   "execution_count": 9,
   "metadata": {},
   "outputs": [],
   "source": [
    "df.rename(columns={'Unnamed: 0':'Index'},inplace=True)"
   ]
  },
  {
   "cell_type": "code",
   "execution_count": 10,
   "metadata": {},
   "outputs": [
    {
     "data": {
      "text/plain": [
       "Index(['Index', 'airline', 'flight', 'source_city', 'departure_time', 'stops',\n",
       "       'arrival_time', 'destination_city', 'class', 'duration', 'days_left',\n",
       "       'price'],\n",
       "      dtype='object')"
      ]
     },
     "execution_count": 10,
     "metadata": {},
     "output_type": "execute_result"
    }
   ],
   "source": [
    "df.columns"
   ]
  },
  {
   "cell_type": "markdown",
   "metadata": {},
   "source": [
    "object datatype means any kind of datatypes"
   ]
  },
  {
   "cell_type": "code",
   "execution_count": 11,
   "metadata": {},
   "outputs": [
    {
     "data": {
      "text/html": [
       "<div>\n",
       "<style scoped>\n",
       "    .dataframe tbody tr th:only-of-type {\n",
       "        vertical-align: middle;\n",
       "    }\n",
       "\n",
       "    .dataframe tbody tr th {\n",
       "        vertical-align: top;\n",
       "    }\n",
       "\n",
       "    .dataframe thead th {\n",
       "        text-align: right;\n",
       "    }\n",
       "</style>\n",
       "<table border=\"1\" class=\"dataframe\">\n",
       "  <thead>\n",
       "    <tr style=\"text-align: right;\">\n",
       "      <th></th>\n",
       "      <th>airline</th>\n",
       "      <th>flight</th>\n",
       "      <th>source_city</th>\n",
       "      <th>departure_time</th>\n",
       "      <th>stops</th>\n",
       "      <th>arrival_time</th>\n",
       "      <th>destination_city</th>\n",
       "      <th>class</th>\n",
       "    </tr>\n",
       "  </thead>\n",
       "  <tbody>\n",
       "    <tr>\n",
       "      <th>0</th>\n",
       "      <td>SpiceJet</td>\n",
       "      <td>SG-8709</td>\n",
       "      <td>Delhi</td>\n",
       "      <td>Evening</td>\n",
       "      <td>zero</td>\n",
       "      <td>Night</td>\n",
       "      <td>Mumbai</td>\n",
       "      <td>Economy</td>\n",
       "    </tr>\n",
       "    <tr>\n",
       "      <th>1</th>\n",
       "      <td>SpiceJet</td>\n",
       "      <td>SG-8157</td>\n",
       "      <td>Delhi</td>\n",
       "      <td>Early_Morning</td>\n",
       "      <td>zero</td>\n",
       "      <td>Morning</td>\n",
       "      <td>Mumbai</td>\n",
       "      <td>Economy</td>\n",
       "    </tr>\n",
       "    <tr>\n",
       "      <th>2</th>\n",
       "      <td>AirAsia</td>\n",
       "      <td>I5-764</td>\n",
       "      <td>Delhi</td>\n",
       "      <td>Early_Morning</td>\n",
       "      <td>zero</td>\n",
       "      <td>Early_Morning</td>\n",
       "      <td>Mumbai</td>\n",
       "      <td>Economy</td>\n",
       "    </tr>\n",
       "    <tr>\n",
       "      <th>3</th>\n",
       "      <td>Vistara</td>\n",
       "      <td>UK-995</td>\n",
       "      <td>Delhi</td>\n",
       "      <td>Morning</td>\n",
       "      <td>zero</td>\n",
       "      <td>Afternoon</td>\n",
       "      <td>Mumbai</td>\n",
       "      <td>Economy</td>\n",
       "    </tr>\n",
       "    <tr>\n",
       "      <th>4</th>\n",
       "      <td>Vistara</td>\n",
       "      <td>UK-963</td>\n",
       "      <td>Delhi</td>\n",
       "      <td>Morning</td>\n",
       "      <td>zero</td>\n",
       "      <td>Morning</td>\n",
       "      <td>Mumbai</td>\n",
       "      <td>Economy</td>\n",
       "    </tr>\n",
       "  </tbody>\n",
       "</table>\n",
       "</div>"
      ],
      "text/plain": [
       "    airline   flight source_city departure_time stops   arrival_time  \\\n",
       "0  SpiceJet  SG-8709       Delhi        Evening  zero          Night   \n",
       "1  SpiceJet  SG-8157       Delhi  Early_Morning  zero        Morning   \n",
       "2   AirAsia   I5-764       Delhi  Early_Morning  zero  Early_Morning   \n",
       "3   Vistara   UK-995       Delhi        Morning  zero      Afternoon   \n",
       "4   Vistara   UK-963       Delhi        Morning  zero        Morning   \n",
       "\n",
       "  destination_city    class  \n",
       "0           Mumbai  Economy  \n",
       "1           Mumbai  Economy  \n",
       "2           Mumbai  Economy  \n",
       "3           Mumbai  Economy  \n",
       "4           Mumbai  Economy  "
      ]
     },
     "execution_count": 11,
     "metadata": {},
     "output_type": "execute_result"
    }
   ],
   "source": [
    "\n",
    "categorical_variables = df.dtypes[df.dtypes == \"object\"].index\n",
    "categorical_variables\n",
    "df_object=df[categorical_variables]\n",
    "df_object.head()"
   ]
  },
  {
   "cell_type": "code",
   "execution_count": 12,
   "metadata": {},
   "outputs": [
    {
     "data": {
      "text/plain": [
       "Index(['Index', 'airline', 'flight', 'source_city', 'departure_time', 'stops',\n",
       "       'arrival_time', 'destination_city', 'class', 'duration', 'days_left',\n",
       "       'price'],\n",
       "      dtype='object')"
      ]
     },
     "execution_count": 12,
     "metadata": {},
     "output_type": "execute_result"
    }
   ],
   "source": [
    "df.columns\n"
   ]
  },
  {
   "cell_type": "code",
   "execution_count": 13,
   "metadata": {},
   "outputs": [
    {
     "name": "stdout",
     "output_type": "stream",
     "text": [
      "Number of unique values in airline = 6\n",
      "Number of unique values in flight = 1561\n",
      "Number of unique values in source_city = 6\n",
      "Number of unique values in departure_time = 6\n",
      "Number of unique values in stops = 3\n",
      "Number of unique values in arrival_time = 6\n",
      "Number of unique values in destination_city = 6\n",
      "Number of unique values in class = 2\n"
     ]
    }
   ],
   "source": [
    "for category in categorical_variables:\n",
    "    print(f\"Number of unique values in {category} = {len(df[category].unique())}\")"
   ]
  },
  {
   "cell_type": "code",
   "execution_count": 14,
   "metadata": {},
   "outputs": [],
   "source": [
    "df_clean=df_object.drop(columns=['flight','source_city','destination_city','class'])"
   ]
  },
  {
   "cell_type": "code",
   "execution_count": 15,
   "metadata": {},
   "outputs": [
    {
     "data": {
      "text/html": [
       "<div>\n",
       "<style scoped>\n",
       "    .dataframe tbody tr th:only-of-type {\n",
       "        vertical-align: middle;\n",
       "    }\n",
       "\n",
       "    .dataframe tbody tr th {\n",
       "        vertical-align: top;\n",
       "    }\n",
       "\n",
       "    .dataframe thead th {\n",
       "        text-align: right;\n",
       "    }\n",
       "</style>\n",
       "<table border=\"1\" class=\"dataframe\">\n",
       "  <thead>\n",
       "    <tr style=\"text-align: right;\">\n",
       "      <th></th>\n",
       "      <th>airline</th>\n",
       "      <th>departure_time</th>\n",
       "      <th>stops</th>\n",
       "      <th>arrival_time</th>\n",
       "    </tr>\n",
       "  </thead>\n",
       "  <tbody>\n",
       "    <tr>\n",
       "      <th>0</th>\n",
       "      <td>SpiceJet</td>\n",
       "      <td>Evening</td>\n",
       "      <td>zero</td>\n",
       "      <td>Night</td>\n",
       "    </tr>\n",
       "    <tr>\n",
       "      <th>1</th>\n",
       "      <td>SpiceJet</td>\n",
       "      <td>Early_Morning</td>\n",
       "      <td>zero</td>\n",
       "      <td>Morning</td>\n",
       "    </tr>\n",
       "    <tr>\n",
       "      <th>2</th>\n",
       "      <td>AirAsia</td>\n",
       "      <td>Early_Morning</td>\n",
       "      <td>zero</td>\n",
       "      <td>Early_Morning</td>\n",
       "    </tr>\n",
       "    <tr>\n",
       "      <th>3</th>\n",
       "      <td>Vistara</td>\n",
       "      <td>Morning</td>\n",
       "      <td>zero</td>\n",
       "      <td>Afternoon</td>\n",
       "    </tr>\n",
       "    <tr>\n",
       "      <th>4</th>\n",
       "      <td>Vistara</td>\n",
       "      <td>Morning</td>\n",
       "      <td>zero</td>\n",
       "      <td>Morning</td>\n",
       "    </tr>\n",
       "  </tbody>\n",
       "</table>\n",
       "</div>"
      ],
      "text/plain": [
       "    airline departure_time stops   arrival_time\n",
       "0  SpiceJet        Evening  zero          Night\n",
       "1  SpiceJet  Early_Morning  zero        Morning\n",
       "2   AirAsia  Early_Morning  zero  Early_Morning\n",
       "3   Vistara        Morning  zero      Afternoon\n",
       "4   Vistara        Morning  zero        Morning"
      ]
     },
     "execution_count": 15,
     "metadata": {},
     "output_type": "execute_result"
    }
   ],
   "source": [
    "df_clean.head()"
   ]
  },
  {
   "cell_type": "markdown",
   "metadata": {},
   "source": [
    "order wala value xaina sab one hot encoding garnu parne datas xa"
   ]
  },
  {
   "cell_type": "code",
   "execution_count": 16,
   "metadata": {},
   "outputs": [
    {
     "data": {
      "text/plain": [
       "(300153, 4)"
      ]
     },
     "execution_count": 16,
     "metadata": {},
     "output_type": "execute_result"
    }
   ],
   "source": [
    "df_clean.shape"
   ]
  },
  {
   "cell_type": "markdown",
   "metadata": {},
   "source": [
    "# df_clean_encoded lekhda ni hunxa if chaiyo vane"
   ]
  },
  {
   "cell_type": "code",
   "execution_count": 17,
   "metadata": {},
   "outputs": [
    {
     "data": {
      "text/html": [
       "<div>\n",
       "<style scoped>\n",
       "    .dataframe tbody tr th:only-of-type {\n",
       "        vertical-align: middle;\n",
       "    }\n",
       "\n",
       "    .dataframe tbody tr th {\n",
       "        vertical-align: top;\n",
       "    }\n",
       "\n",
       "    .dataframe thead th {\n",
       "        text-align: right;\n",
       "    }\n",
       "</style>\n",
       "<table border=\"1\" class=\"dataframe\">\n",
       "  <thead>\n",
       "    <tr style=\"text-align: right;\">\n",
       "      <th></th>\n",
       "      <th>airline</th>\n",
       "      <th>departure_time</th>\n",
       "      <th>arrival_time</th>\n",
       "      <th>stops_two_or_more</th>\n",
       "      <th>stops_zero</th>\n",
       "    </tr>\n",
       "  </thead>\n",
       "  <tbody>\n",
       "    <tr>\n",
       "      <th>0</th>\n",
       "      <td>SpiceJet</td>\n",
       "      <td>Evening</td>\n",
       "      <td>Night</td>\n",
       "      <td>False</td>\n",
       "      <td>True</td>\n",
       "    </tr>\n",
       "    <tr>\n",
       "      <th>1</th>\n",
       "      <td>SpiceJet</td>\n",
       "      <td>Early_Morning</td>\n",
       "      <td>Morning</td>\n",
       "      <td>False</td>\n",
       "      <td>True</td>\n",
       "    </tr>\n",
       "    <tr>\n",
       "      <th>2</th>\n",
       "      <td>AirAsia</td>\n",
       "      <td>Early_Morning</td>\n",
       "      <td>Early_Morning</td>\n",
       "      <td>False</td>\n",
       "      <td>True</td>\n",
       "    </tr>\n",
       "    <tr>\n",
       "      <th>3</th>\n",
       "      <td>Vistara</td>\n",
       "      <td>Morning</td>\n",
       "      <td>Afternoon</td>\n",
       "      <td>False</td>\n",
       "      <td>True</td>\n",
       "    </tr>\n",
       "    <tr>\n",
       "      <th>4</th>\n",
       "      <td>Vistara</td>\n",
       "      <td>Morning</td>\n",
       "      <td>Morning</td>\n",
       "      <td>False</td>\n",
       "      <td>True</td>\n",
       "    </tr>\n",
       "  </tbody>\n",
       "</table>\n",
       "</div>"
      ],
      "text/plain": [
       "    airline departure_time   arrival_time  stops_two_or_more  stops_zero\n",
       "0  SpiceJet        Evening          Night              False        True\n",
       "1  SpiceJet  Early_Morning        Morning              False        True\n",
       "2   AirAsia  Early_Morning  Early_Morning              False        True\n",
       "3   Vistara        Morning      Afternoon              False        True\n",
       "4   Vistara        Morning        Morning              False        True"
      ]
     },
     "execution_count": 17,
     "metadata": {},
     "output_type": "execute_result"
    }
   ],
   "source": [
    "df_clean_encoded= pd.get_dummies(df_clean, columns=['stops'], drop_first=True)\n",
    "df_clean_encoded.head()"
   ]
  },
  {
   "cell_type": "code",
   "execution_count": 18,
   "metadata": {},
   "outputs": [],
   "source": [
    "encoded_columns = ['stops_two_or_more','stops_zero']\n",
    "df_clean_encoded[encoded_columns] = df_clean_encoded[encoded_columns].astype(int)\n"
   ]
  },
  {
   "cell_type": "code",
   "execution_count": 19,
   "metadata": {},
   "outputs": [
    {
     "data": {
      "text/html": [
       "<div>\n",
       "<style scoped>\n",
       "    .dataframe tbody tr th:only-of-type {\n",
       "        vertical-align: middle;\n",
       "    }\n",
       "\n",
       "    .dataframe tbody tr th {\n",
       "        vertical-align: top;\n",
       "    }\n",
       "\n",
       "    .dataframe thead th {\n",
       "        text-align: right;\n",
       "    }\n",
       "</style>\n",
       "<table border=\"1\" class=\"dataframe\">\n",
       "  <thead>\n",
       "    <tr style=\"text-align: right;\">\n",
       "      <th></th>\n",
       "      <th>airline</th>\n",
       "      <th>departure_time</th>\n",
       "      <th>arrival_time</th>\n",
       "      <th>stops_two_or_more</th>\n",
       "      <th>stops_zero</th>\n",
       "    </tr>\n",
       "  </thead>\n",
       "  <tbody>\n",
       "    <tr>\n",
       "      <th>0</th>\n",
       "      <td>SpiceJet</td>\n",
       "      <td>Evening</td>\n",
       "      <td>Night</td>\n",
       "      <td>0</td>\n",
       "      <td>1</td>\n",
       "    </tr>\n",
       "    <tr>\n",
       "      <th>1</th>\n",
       "      <td>SpiceJet</td>\n",
       "      <td>Early_Morning</td>\n",
       "      <td>Morning</td>\n",
       "      <td>0</td>\n",
       "      <td>1</td>\n",
       "    </tr>\n",
       "    <tr>\n",
       "      <th>2</th>\n",
       "      <td>AirAsia</td>\n",
       "      <td>Early_Morning</td>\n",
       "      <td>Early_Morning</td>\n",
       "      <td>0</td>\n",
       "      <td>1</td>\n",
       "    </tr>\n",
       "    <tr>\n",
       "      <th>3</th>\n",
       "      <td>Vistara</td>\n",
       "      <td>Morning</td>\n",
       "      <td>Afternoon</td>\n",
       "      <td>0</td>\n",
       "      <td>1</td>\n",
       "    </tr>\n",
       "    <tr>\n",
       "      <th>4</th>\n",
       "      <td>Vistara</td>\n",
       "      <td>Morning</td>\n",
       "      <td>Morning</td>\n",
       "      <td>0</td>\n",
       "      <td>1</td>\n",
       "    </tr>\n",
       "  </tbody>\n",
       "</table>\n",
       "</div>"
      ],
      "text/plain": [
       "    airline departure_time   arrival_time  stops_two_or_more  stops_zero\n",
       "0  SpiceJet        Evening          Night                  0           1\n",
       "1  SpiceJet  Early_Morning        Morning                  0           1\n",
       "2   AirAsia  Early_Morning  Early_Morning                  0           1\n",
       "3   Vistara        Morning      Afternoon                  0           1\n",
       "4   Vistara        Morning        Morning                  0           1"
      ]
     },
     "execution_count": 19,
     "metadata": {},
     "output_type": "execute_result"
    }
   ],
   "source": [
    "df_clean_encoded.head()"
   ]
  },
  {
   "cell_type": "markdown",
   "metadata": {},
   "source": [
    "encode gareko kura lai 0 or 1 ie numeric value ma convert garne\n"
   ]
  },
  {
   "cell_type": "code",
   "execution_count": 20,
   "metadata": {},
   "outputs": [
    {
     "name": "stdout",
     "output_type": "stream",
     "text": [
      "Requirement already satisfied: scikit_learn in c:\\users\\dell\\appdata\\local\\programs\\python\\python313\\lib\\site-packages (1.6.1)\n",
      "Requirement already satisfied: numpy>=1.19.5 in c:\\users\\dell\\appdata\\local\\programs\\python\\python313\\lib\\site-packages (from scikit_learn) (2.2.0)\n",
      "Requirement already satisfied: scipy>=1.6.0 in c:\\users\\dell\\appdata\\local\\programs\\python\\python313\\lib\\site-packages (from scikit_learn) (1.15.1)\n",
      "Requirement already satisfied: joblib>=1.2.0 in c:\\users\\dell\\appdata\\local\\programs\\python\\python313\\lib\\site-packages (from scikit_learn) (1.4.2)\n",
      "Requirement already satisfied: threadpoolctl>=3.1.0 in c:\\users\\dell\\appdata\\local\\programs\\python\\python313\\lib\\site-packages (from scikit_learn) (3.5.0)\n"
     ]
    },
    {
     "name": "stderr",
     "output_type": "stream",
     "text": [
      "\n",
      "[notice] A new release of pip is available: 24.2 -> 24.3.1\n",
      "[notice] To update, run: python.exe -m pip install --upgrade pip\n"
     ]
    }
   ],
   "source": [
    "!pip install scikit_learn"
   ]
  },
  {
   "cell_type": "markdown",
   "metadata": {},
   "source": [
    "* we use sklearn's LabelEncoder to encode the target variable/label encoder"
   ]
  },
  {
   "cell_type": "code",
   "execution_count": 21,
   "metadata": {},
   "outputs": [],
   "source": [
    "from sklearn.preprocessing import LabelEncoder"
   ]
  },
  {
   "cell_type": "markdown",
   "metadata": {},
   "source": [
    "labelEncoder code is used from sklearn.preprocessing module to encode in pandas dataframe used to convert categorical into numeric values."
   ]
  },
  {
   "cell_type": "markdown",
   "metadata": {},
   "source": [
    "yo code use garda chai raw categorical data lai direct encode garna milcha\n",
    "ani mathi ko code use garda chai one hot encoding garera ani numeric value dina"
   ]
  },
  {
   "cell_type": "code",
   "execution_count": 22,
   "metadata": {},
   "outputs": [
    {
     "name": "stdout",
     "output_type": "stream",
     "text": [
      "   airline  departure_time  arrival_time  stops_two_or_more  stops_zero\n",
      "0        4               2             5                  0           1\n",
      "1        4               1             4                  0           1\n",
      "2        0               1             1                  0           1\n",
      "3        5               4             0                  0           1\n",
      "4        5               4             4                  0           1\n"
     ]
    }
   ],
   "source": [
    "# Initialize the LabelEncoder\n",
    "label_encoder = LabelEncoder()\n",
    "df_clean_encoded = df_clean_encoded.copy()\n",
    "\n",
    "# Fit and transform the 'Sex' column\n",
    "df_clean_encoded['airline'] = label_encoder.fit_transform(df_clean_encoded['airline'])\n",
    "df_clean_encoded['departure_time'] = label_encoder.fit_transform(df_clean_encoded['departure_time'])\n",
    "df_clean_encoded['arrival_time'] = label_encoder.fit_transform(df_clean_encoded['arrival_time'])\n",
    "print(df_clean_encoded.head())"
   ]
  },
  {
   "cell_type": "markdown",
   "metadata": {},
   "source": [
    "- 0 and 1 vanya binary unique value xa vane hunxa\n",
    "- 4,5 vanya there are 6 unique values\n",
    "- so multiple ko lagi labelencoder nai thik"
   ]
  },
  {
   "cell_type": "code",
   "execution_count": 23,
   "metadata": {},
   "outputs": [
    {
     "data": {
      "text/plain": [
       "airline              0\n",
       "departure_time       0\n",
       "arrival_time         0\n",
       "stops_two_or_more    0\n",
       "stops_zero           0\n",
       "dtype: int64"
      ]
     },
     "execution_count": 23,
     "metadata": {},
     "output_type": "execute_result"
    }
   ],
   "source": [
    "df_clean_encoded.isnull().sum()"
   ]
  },
  {
   "cell_type": "code",
   "execution_count": 24,
   "metadata": {},
   "outputs": [
    {
     "data": {
      "text/html": [
       "<div>\n",
       "<style scoped>\n",
       "    .dataframe tbody tr th:only-of-type {\n",
       "        vertical-align: middle;\n",
       "    }\n",
       "\n",
       "    .dataframe tbody tr th {\n",
       "        vertical-align: top;\n",
       "    }\n",
       "\n",
       "    .dataframe thead th {\n",
       "        text-align: right;\n",
       "    }\n",
       "</style>\n",
       "<table border=\"1\" class=\"dataframe\">\n",
       "  <thead>\n",
       "    <tr style=\"text-align: right;\">\n",
       "      <th></th>\n",
       "      <th>airline</th>\n",
       "      <th>departure_time</th>\n",
       "      <th>arrival_time</th>\n",
       "      <th>stops_two_or_more</th>\n",
       "      <th>stops_zero</th>\n",
       "    </tr>\n",
       "  </thead>\n",
       "  <tbody>\n",
       "    <tr>\n",
       "      <th>0</th>\n",
       "      <td>4</td>\n",
       "      <td>2</td>\n",
       "      <td>5</td>\n",
       "      <td>0</td>\n",
       "      <td>1</td>\n",
       "    </tr>\n",
       "    <tr>\n",
       "      <th>1</th>\n",
       "      <td>4</td>\n",
       "      <td>1</td>\n",
       "      <td>4</td>\n",
       "      <td>0</td>\n",
       "      <td>1</td>\n",
       "    </tr>\n",
       "    <tr>\n",
       "      <th>2</th>\n",
       "      <td>0</td>\n",
       "      <td>1</td>\n",
       "      <td>1</td>\n",
       "      <td>0</td>\n",
       "      <td>1</td>\n",
       "    </tr>\n",
       "    <tr>\n",
       "      <th>3</th>\n",
       "      <td>5</td>\n",
       "      <td>4</td>\n",
       "      <td>0</td>\n",
       "      <td>0</td>\n",
       "      <td>1</td>\n",
       "    </tr>\n",
       "    <tr>\n",
       "      <th>4</th>\n",
       "      <td>5</td>\n",
       "      <td>4</td>\n",
       "      <td>4</td>\n",
       "      <td>0</td>\n",
       "      <td>1</td>\n",
       "    </tr>\n",
       "  </tbody>\n",
       "</table>\n",
       "</div>"
      ],
      "text/plain": [
       "   airline  departure_time  arrival_time  stops_two_or_more  stops_zero\n",
       "0        4               2             5                  0           1\n",
       "1        4               1             4                  0           1\n",
       "2        0               1             1                  0           1\n",
       "3        5               4             0                  0           1\n",
       "4        5               4             4                  0           1"
      ]
     },
     "execution_count": 24,
     "metadata": {},
     "output_type": "execute_result"
    }
   ],
   "source": [
    "df_clean_encoded.head()"
   ]
  },
  {
   "cell_type": "code",
   "execution_count": 25,
   "metadata": {},
   "outputs": [],
   "source": [
    "df_clean_encoded.to_csv(\"titanic_clean.csv\", index=False)"
   ]
  },
  {
   "cell_type": "code",
   "execution_count": 26,
   "metadata": {},
   "outputs": [
    {
     "data": {
      "text/plain": [
       "Index(['Index', 'airline', 'flight', 'source_city', 'departure_time', 'stops',\n",
       "       'arrival_time', 'destination_city', 'class', 'duration', 'days_left',\n",
       "       'price'],\n",
       "      dtype='object')"
      ]
     },
     "execution_count": 26,
     "metadata": {},
     "output_type": "execute_result"
    }
   ],
   "source": [
    "df.columns"
   ]
  },
  {
   "cell_type": "code",
   "execution_count": 27,
   "metadata": {},
   "outputs": [],
   "source": [
    "df_outliers=df.drop(columns=['Index','source_city','flight','destination_city'])"
   ]
  },
  {
   "cell_type": "code",
   "execution_count": 28,
   "metadata": {},
   "outputs": [
    {
     "data": {
      "text/plain": [
       "Index(['airline', 'departure_time', 'stops', 'arrival_time', 'class',\n",
       "       'duration', 'days_left', 'price'],\n",
       "      dtype='object')"
      ]
     },
     "execution_count": 28,
     "metadata": {},
     "output_type": "execute_result"
    }
   ],
   "source": [
    "df_outliers.columns"
   ]
  },
  {
   "cell_type": "markdown",
   "metadata": {},
   "source": [
    "**possible outliers**"
   ]
  },
  {
   "cell_type": "markdown",
   "metadata": {},
   "source": [
    "# explain this code\n"
   ]
  },
  {
   "cell_type": "code",
   "execution_count": 29,
   "metadata": {},
   "outputs": [
    {
     "data": {
      "image/png": "[encoded data removed]",
      "text/plain": [
       "<Figure size 640x480 with 1 Axes>"
      ]
     },
     "metadata": {},
     "output_type": "display_data"
    },
    {
     "name": "stdout",
     "output_type": "stream",
     "text": [
      "Outliers using Z-score:\n",
      "          airline departure_time        stops arrival_time     class  \\\n",
      "10540   Air_India  Early_Morning  two_or_more      Evening   Economy   \n",
      "20464     Vistara        Morning  two_or_more      Evening   Economy   \n",
      "20467     Vistara        Morning  two_or_more      Evening   Economy   \n",
      "29417   Air_India        Morning  two_or_more        Night   Economy   \n",
      "29418   Air_India  Early_Morning  two_or_more        Night   Economy   \n",
      "...           ...            ...          ...          ...       ...   \n",
      "299018    Vistara        Morning          one      Evening  Business   \n",
      "299407    Vistara  Early_Morning          one      Evening  Business   \n",
      "299458    Vistara        Morning          one      Evening  Business   \n",
      "299700    Vistara  Early_Morning          one      Evening  Business   \n",
      "300068    Vistara  Early_Morning          one      Evening  Business   \n",
      "\n",
      "        duration  days_left  price  \n",
      "10540      36.92          4  12321  \n",
      "20464      35.83          3  17462  \n",
      "20467      34.83          3  18927  \n",
      "29417      36.92          7  10474  \n",
      "29418      39.67          7  10474  \n",
      "...          ...        ...    ...  \n",
      "299018     10.17         25  89537  \n",
      "299407     10.00         33  89537  \n",
      "299458     10.17         34  89537  \n",
      "299700     10.00         39  89537  \n",
      "300068     10.00         47  89537  \n",
      "\n",
      "[1324 rows x 8 columns]\n",
      "Outliers using IQR:\n",
      "          airline departure_time        stops arrival_time     class  \\\n",
      "10534     Vistara      Afternoon  two_or_more        Night   Economy   \n",
      "10535     Vistara      Afternoon  two_or_more        Night   Economy   \n",
      "10540   Air_India  Early_Morning  two_or_more      Evening   Economy   \n",
      "10891     Vistara      Afternoon  two_or_more        Night   Economy   \n",
      "10892     Vistara      Afternoon  two_or_more        Night   Economy   \n",
      "...           ...            ...          ...          ...       ...   \n",
      "296297  Air_India  Early_Morning          one    Afternoon  Business   \n",
      "296391  Air_India  Early_Morning          one    Afternoon  Business   \n",
      "296404    Vistara          Night          one      Evening  Business   \n",
      "296716  Air_India  Early_Morning          one    Afternoon  Business   \n",
      "297661  Air_India  Early_Morning          one    Afternoon  Business   \n",
      "\n",
      "        duration  days_left   price  \n",
      "10534      31.25          4   12222  \n",
      "10535      33.17          4   12222  \n",
      "10540      36.92          4   12321  \n",
      "10891      31.25          6   12222  \n",
      "10892      33.17          6   12222  \n",
      "...          ...        ...     ...  \n",
      "296297     30.33         10   55377  \n",
      "296391     30.33         12   55377  \n",
      "296404     21.00         12  102384  \n",
      "296716     30.33         19   55377  \n",
      "297661     30.33         40   55377  \n",
      "\n",
      "[2233 rows x 8 columns]\n"
     ]
    }
   ],
   "source": [
    "import pandas as pd\n",
    "import matplotlib.pyplot as plt\n",
    "from scipy import stats\n",
    "import numpy as np\n",
    "\n",
    "columns_to_check = ['duration', 'days_left', 'price']\n",
    "\n",
    "# Method 1: Box plot for visual inspection\n",
    "df_outliers[columns_to_check].boxplot()\n",
    "plt.show()\n",
    "\n",
    "# Method 2: Identifying outliers using Z-score\n",
    "z_scores = np.abs(stats.zscore(df_outliers[columns_to_check]))\n",
    "outliers_zscore = df_outliers[(z_scores > 3).any(axis=1)]\n",
    "print(\"Outliers using Z-score:\")\n",
    "print(outliers_zscore)\n",
    "\n",
    "# Method 3: Identifying outliers using IQR\n",
    "Q1 = df_outliers[columns_to_check].quantile(0.25)\n",
    "Q3 = df_outliers[columns_to_check].quantile(0.75)\n",
    "IQR = Q3 - Q1\n",
    "outliers_iqr = df_outliers[((df_outliers[columns_to_check] < (Q1 - 1.5 * IQR)) | (df_outliers[columns_to_check] > (Q3 + 1.5 * IQR))).any(axis=1)]\n",
    "print(\"Outliers using IQR:\")\n",
    "print(outliers_iqr)"
   ]
  },
  {
   "cell_type": "markdown",
   "metadata": {},
   "source": [
    "# which one is suitable? boxplot, IQR method or z-score? \n",
    "**OBSERVATION WITH IQR:**\n",
    "- flight price and classes:\n",
    "     - For the Economy class, the prices appear consistent (e.g., around 12,222) despite minor variations in flight duration (e.g., 31.25, 33.17).\n",
    "     - For the Business class, the prices are significantly higher (e.g., 55,377 or 102,384), and there seems to be a larger range in duration and price variability.\n",
    "- Airlines and Stops:\n",
    "     - Multiple airlines like Vistara and Air India are present.\n",
    "     - Some flights have two_or_more stops, which might affect the duration and pricing. On the other hand, single-stop flights may have lower duration variability.\n",
    "- Timing and Prices:\n",
    "      - The departure_time (e.g., Afternoon, Early Morning, Night) does not directly correlate with the price visible in the given data.\n",
    "      - The days_left field could represent the number of days before departure and might influence the pricing, but this is not directly evident without further analysis."
   ]
  },
  {
   "cell_type": "markdown",
   "metadata": {},
   "source": [
    "kina yei columns ko outliers leko ra z score ra boxplot ma k farak xa?"
   ]
  },
  {
   "cell_type": "markdown",
   "metadata": {},
   "source": [
    "- The Z-score outliers indicate numerical values that are far from the dataset's mean. These points may represent rare events, premium services, or data issues. Investigating the corresponding categorical context (e.g., airline, class) provides more insights into the reasons behind these anomalies.\n",
    "- High Prices or Short Durations:\n",
    "Rows like 299018 suggest unusual combinations of very high prices for short durations, which might indicate premium services, rare travel times, or data errors.\n",
    "- Clusters of Outliers:\n",
    "Some rows have similar price outliers (e.g., 89537), suggesting these could be a specific pattern or anomaly in the dataset\n",
    "- Actionable Outcomes:\n",
    "Investigate why these outliers exist:\n",
    "Are they valid (e.g., premium services)?\n",
    "Or data errors (e.g., incorrect entries)?\n",
    "Decide whether to keep, transform, or remove these outliers based on the context."
   ]
  },
  {
   "cell_type": "markdown",
   "metadata": {},
   "source": [
    "**Definition of Outliers**\n",
    "- Outliers are data points that significantly deviate from the majority of the dataset. They lie far away from the central values, either much higher or much lower than expected, and can occur due to errors, variability in data, or rare events.\n",
    "- mostly chai numeric ma use hunxa kina vane tyo mean median haru ma use hunxa\n",
    "- based on min median max quartile values"
   ]
  },
  {
   "cell_type": "markdown",
   "metadata": {},
   "source": [
    "**interpreting the boxplot**\n",
    "- duration: box is very small indicating low variability in dataset\n",
    "- days_left: same as duration\n",
    "- price: box and whiskers are much larger showing higher variability in price data\n",
    "**insights**\n",
    "- price has right skewed distribution as outliers are on the upper end\n",
    "- others have minimal variation\n",
    "**best for price.why?**\n",
    "- many data points that lie far outside the typical range\n",
    "- "
   ]
  },
  {
   "cell_type": "markdown",
   "metadata": {},
   "source": [
    "-Z-score is a statistical measure that quantifies how many standard deviations a data point is from the mean of a dataset. It is commonly used to identify outliers or to standardize data for comparison across different distributions."
   ]
  },
  {
   "cell_type": "markdown",
   "metadata": {},
   "source": [
    "ya bata conclusion k nikalnu parne ho?"
   ]
  },
  {
   "cell_type": "markdown",
   "metadata": {},
   "source": [
    "**INSHORT**\n",
    "- missing values(done)\n",
    "- duplicate values(done)\n",
    "- outliers(k ho ra kasari garne?)(done tara k ho?)\n",
    "- remove irrelevant columns(done)\n",
    "- encode categorical variables( label encoding/one hot encoding)(done)\n",
    "- remove invalid or unusual values(eg: datas entered range is 5-10 but the entry is 100 then remove or correct it)\n",
    "- feature engineering(add/ modify the colums or features)(no need or do we need?)\n",
    "- check the datas and then save the cleaned datas(done)\n",
    "**whats the difference**\n",
    "- standardize/ normalize values(yo ra correct datatype ma k farak xa?)\n",
    "- correct data types(na garne)\n",
    "- typos or formatting issues\n",
    "\n"
   ]
  },
  {
   "cell_type": "markdown",
   "metadata": {},
   "source": [
    "hamro cleaned data kasto hunxa? encoding outlier haru ni involved bhako hunxa ki k?"
   ]
  },
  {
   "cell_type": "markdown",
   "metadata": {},
   "source": [
    "# EDA"
   ]
  },
  {
   "cell_type": "markdown",
   "metadata": {},
   "source": [
    "questions:\n",
    "- outliers data cleaning ma parxa ki eda ma parxa?"
   ]
  },
  {
   "cell_type": "markdown",
   "metadata": {},
   "source": [
    "**visualizing distributions**"
   ]
  },
  {
   "cell_type": "markdown",
   "metadata": {},
   "source": [
    "- UNIVARIATE ANALYSIS: visualizing one feature or variable at a time\n",
    "- histpot for numeric values and count plot for categorical values\n",
    "- histogram plot:result is a graph that shows the frequency of values in the dataset, making it easier to identify patterns like skewness, central tendency, and spread.\n",
    "- Countplot:\n",
    "creates a bar plot where each bar represents a category, and the height of the bar indicates how many data points belong to that category."
   ]
  },
  {
   "cell_type": "markdown",
   "metadata": {},
   "source": [
    "- helps us understand patterns, relationships and distribution in dataset\n",
    "-"
   ]
  },
  {
   "cell_type": "markdown",
   "metadata": {},
   "source": [
    "**visualizing distribution**"
   ]
  },
  {
   "cell_type": "markdown",
   "metadata": {},
   "source": [
    "for individual column"
   ]
  },
  {
   "cell_type": "code",
   "execution_count": 30,
   "metadata": {},
   "outputs": [
    {
     "data": {
      "image/png": "[encoded data removed]",
      "text/plain": [
       "<Figure size 500x300 with 1 Axes>"
      ]
     },
     "metadata": {},
     "output_type": "display_data"
    }
   ],
   "source": [
    "plt.figure(figsize=(5, 3))\n",
    "sns.histplot(data=df[\"duration\"], bins=30, kde=True)\n",
    "plt.title('Distribution of duration')\n",
    "plt.xlabel('duration')\n",
    "plt.ylabel('Frequency')\n",
    "plt.show()"
   ]
  },
  {
   "cell_type": "code",
   "execution_count": 31,
   "metadata": {},
   "outputs": [
    {
     "data": {
      "image/png": "[encoded data removed]",
      "text/plain": [
       "<Figure size 500x300 with 1 Axes>"
      ]
     },
     "metadata": {},
     "output_type": "display_data"
    }
   ],
   "source": [
    "plt.figure(figsize=(5, 3))\n",
    "sns.histplot(data=df[\"days_left\"], bins=30, kde=True)\n",
    "plt.title('Distribution of days')\n",
    "plt.xlabel('days')\n",
    "plt.ylabel('Frequency')\n",
    "plt.show()"
   ]
  },
  {
   "cell_type": "markdown",
   "metadata": {},
   "source": [
    "uniform distribution"
   ]
  },
  {
   "cell_type": "markdown",
   "metadata": {},
   "source": [
    "- invariate: eauta feature ra tesko frequency herna lai\n",
    "     - countplot for categorical data\n",
    "     - histplot for numeric data\n",
    "- bivariate: duita feature ko bich ma relation\n",
    "     - scatter plot\n",
    "     - box plot\n",
    "     - correlation matrices\n",
    "\n"
   ]
  },
  {
   "attachments": {
    "image-2.png": {
     "image/png": "[encoded data removed]"
    }
   },
   "cell_type": "markdown",
   "metadata": {},
   "source": [
    "histogram:\n",
    "- To show the distribution of a single variable.\n",
    "- Good for understanding the spread and frequency of a variable.\n",
    "- Helps to identify skewness, normality, and outliers.\n",
    "- Not suitable for categorical data.\n",
    "boxplot:\n",
    "- To summarize the distribution of data using five summary statistics: minimum, first quartile (Q1), median, third quartile (Q3), and maximum.\n",
    "- ![image-2.png](attachment:image-2.png)\n",
    " scatter plot: \n",
    "- To show the relationship or correlation between two continuous variables.\n",
    "- Points are plotted on a 2D axis where each axis represents one of the variables."
   ]
  },
  {
   "cell_type": "markdown",
   "metadata": {},
   "source": [
    "- Histograms are good for understanding the distribution of a single variable.\n",
    "- Box plots offer a summary view of a distribution, highlighting central tendency and outliers, especially useful for comparing multiple distributions.\n",
    "- Scatter plots are great for visualizing the relationship between two continuous variables and detecting correlations."
   ]
  },
  {
   "cell_type": "markdown",
   "metadata": {},
   "source": [
    "# actual eda\n"
   ]
  },
  {
   "cell_type": "code",
   "execution_count": 32,
   "metadata": {},
   "outputs": [
    {
     "name": "stdout",
     "output_type": "stream",
     "text": [
      "Skewness value of duration:  0.6028991297746269\n",
      "Skewness value of days_left:  -0.03546434955066582\n",
      "Skewness value of price:  1.0613772532064343\n"
     ]
    }
   ],
   "source": [
    "print(\"Skewness value of duration: \", df[\"duration\"].skew())\n",
    "print(\"Skewness value of days_left: \", df[\"days_left\"].skew())\n",
    "print(\"Skewness value of price: \", df[\"price\"].skew())"
   ]
  },
  {
   "cell_type": "markdown",
   "metadata": {},
   "source": [
    "- most of the values are shorter durations, with only a few cases of longer durations"
   ]
  },
  {
   "cell_type": "markdown",
   "metadata": {},
   "source": [
    "- days left almost 0 tira xa, so days ko value almost similar xa\n",
    "- duration positively skewed vanya,more instances with shorter durations and fewer instances with longer durations."
   ]
  },
  {
   "cell_type": "markdown",
   "metadata": {},
   "source": [
    "- 0: The distribution is perfectly symmetric (normal distribution).\n",
    "- Positive Skew (Right-skewed): The right tail is longer than the left one (data concentrated on the left side).\n",
    "- Negative Skew (Left-skewed): The left tail is longer than the right one (data concentrated on the right side).\n",
    "- If mean > median, the data is positively skewed.\n",
    "- If mean < median, the data is negatively skewed.\n",
    "- If mean ≈ median, the data is symmetric.\n",
    "-  The skewness value should be within the range of -1 to 1 for a normal distribution, any major changes from this value may indicate the presence of outliers.\n",
    "* Some common transformation are:\n",
    "    * logarithmic transformation\n",
    "    * square root transformation\n",
    "    * cube root transformation\n",
    "    * Box-Cox transformation\n"
   ]
  },
  {
   "cell_type": "code",
   "execution_count": 33,
   "metadata": {},
   "outputs": [
    {
     "name": "stdout",
     "output_type": "stream",
     "text": [
      "Skewness value of Fare:  0.4045202749836897\n"
     ]
    },
    {
     "data": {
      "image/png": "[encoded data removed]",
      "text/plain": [
       "<Figure size 500x300 with 1 Axes>"
      ]
     },
     "metadata": {},
     "output_type": "display_data"
    }
   ],
   "source": [
    "# Log transformation\n",
    "df[\"price_log\"] = np.log1p(df[\"price\"])\n",
    "print(\"Skewness value of Fare: \", df[\"price_log\"].skew())\n",
    "\n",
    "# Plotting the distribution of the transformed variable\n",
    "plt.figure(figsize=(5, 3))\n",
    "sns.histplot(data=df[\"price_log\"], bins=30, kde=True)\n",
    "plt.title('Distribution of price_log')\n",
    "plt.xlabel('price_log')\n",
    "plt.ylabel('Frequency')\n",
    "plt.show()\n"
   ]
  }
 ],
 "metadata": {
  "kernelspec": {
   "display_name": "Python 3",
   "language": "python",
   "name": "python3"
  },
  "language_info": {
   "codemirror_mode": {
    "name": "ipython",
    "version": 3
   },
   "file_extension": ".py",
   "mimetype": "text/x-python",
   "name": "python",
   "nbconvert_exporter": "python",
   "pygments_lexer": "ipython3",
   "version": "3.13.0"
  }
 },
 "nbformat": 4,
 "nbformat_minor": 2
}
